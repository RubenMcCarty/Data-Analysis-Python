{
  "cells": [
    {
      "cell_type": "markdown",
      "metadata": {
        "id": "view-in-github",
        "colab_type": "text"
      },
      "source": [
        "<a href=\"https://colab.research.google.com/github/RubenMcCarty/Data-Analysis-Python/blob/main/4_Funciones.ipynb\" target=\"_parent\"><img src=\"https://colab.research.google.com/assets/colab-badge.svg\" alt=\"Open In Colab\"/></a>"
      ]
    },
    {
      "cell_type": "markdown",
      "metadata": {
        "id": "5tU52i4NtI4i"
      },
      "source": [
        "# Funciones\n",
        "# [MSc: Ruben Quispe](https://www.linkedin.com/in/ruben-quispe-l/)"
      ]
    },
    {
      "cell_type": "markdown",
      "metadata": {
        "id": "U9z-LPXitI4i"
      },
      "source": [
        "Las `funciones` es la principal herramienta que nos ofrece `Python` a la hora de organizar nuestro código permitiendo también su reutilización. Como norma general, si te encuentras escribiendo el mismo código o una funcionalidad similar varias veces es muy probable que necesites un `función`. Esta `función` incluiría el código y cuando necesitamos ejectuarla la invocamos, enviando de manera opcional diferentes `argumentos` y recuperando el resultado devuelto por la `función`. "
      ]
    },
    {
      "cell_type": "markdown",
      "metadata": {
        "id": "gnFDMfnTtI4j"
      },
      "source": [
        "En `Python` definimos una función con la palabra clave `def`."
      ]
    },
    {
      "cell_type": "code",
      "execution_count": null,
      "metadata": {
        "ExecuteTime": {
          "end_time": "2020-05-28T13:56:55.356123Z",
          "start_time": "2020-05-28T13:56:55.348597Z"
        },
        "id": "CkjWnArRtI4j"
      },
      "outputs": [],
      "source": [
        "def func():\n",
        "    pass"
      ]
    },
    {
      "cell_type": "markdown",
      "metadata": {
        "id": "m5stXpPWtI4j"
      },
      "source": [
        "> ⚠️ Utilizamos la palabra reservada `pass` para indicarle a `Python` que no debe hacer nada."
      ]
    },
    {
      "cell_type": "markdown",
      "metadata": {
        "id": "pBJ-HzK5tI4k"
      },
      "source": [
        "Una vez tenemos nuestra función definida, podemos invocarla usando su nombre."
      ]
    },
    {
      "cell_type": "code",
      "execution_count": null,
      "metadata": {
        "ExecuteTime": {
          "end_time": "2020-05-28T13:57:58.074715Z",
          "start_time": "2020-05-28T13:57:58.069707Z"
        },
        "id": "a83X7R9MtI4k"
      },
      "outputs": [],
      "source": [
        "func()"
      ]
    },
    {
      "cell_type": "markdown",
      "metadata": {
        "id": "qdoY2V8FtI4k"
      },
      "source": [
        "De momento, nuestra función no lleva a cabo ninguna tarea interesante. Vamos a ver cómo podemos hacer que nuestra función imprima un `string` por la consola."
      ]
    },
    {
      "cell_type": "code",
      "execution_count": null,
      "metadata": {
        "ExecuteTime": {
          "end_time": "2020-05-28T13:58:47.643903Z",
          "start_time": "2020-05-28T13:58:47.632902Z"
        },
        "id": "D6unhjhwtI4l"
      },
      "outputs": [],
      "source": [
        "def func():\n",
        "    print(\"hola\")"
      ]
    },
    {
      "cell_type": "code",
      "execution_count": null,
      "metadata": {
        "ExecuteTime": {
          "end_time": "2020-05-28T13:58:49.703861Z",
          "start_time": "2020-05-28T13:58:49.699859Z"
        },
        "id": "Fwy-E34itI4l",
        "outputId": "f4c78ead-eb18-4bff-a6ce-ebb8fb4b1e7d"
      },
      "outputs": [
        {
          "name": "stdout",
          "output_type": "stream",
          "text": [
            "hola\n"
          ]
        }
      ],
      "source": [
        "func()"
      ]
    },
    {
      "cell_type": "markdown",
      "metadata": {
        "id": "lppb1UpJtI4m"
      },
      "source": [
        "Como puedes ver, incluímos todo el código que queremos ejecutar dentro de la función con la indentación correcta. Dentro de una función podemos definir nuevas variables que solo serán visibles dentro de la misma función."
      ]
    },
    {
      "cell_type": "code",
      "execution_count": null,
      "metadata": {
        "ExecuteTime": {
          "end_time": "2020-05-28T14:00:16.516410Z",
          "start_time": "2020-05-28T14:00:16.506405Z"
        },
        "id": "a6YxuKBLtI4m"
      },
      "outputs": [],
      "source": [
        "def func():\n",
        "    s = \"hola\"\n",
        "    print(s)"
      ]
    },
    {
      "cell_type": "code",
      "execution_count": null,
      "metadata": {
        "ExecuteTime": {
          "end_time": "2020-05-28T14:00:18.236557Z",
          "start_time": "2020-05-28T14:00:18.223558Z"
        },
        "id": "fwDuZZHVtI4m",
        "outputId": "f3943b5e-2b3c-4f7e-edf1-fb6e8d1c20bd"
      },
      "outputs": [
        {
          "name": "stdout",
          "output_type": "stream",
          "text": [
            "hola\n"
          ]
        }
      ],
      "source": [
        "func()"
      ]
    },
    {
      "cell_type": "code",
      "execution_count": null,
      "metadata": {
        "ExecuteTime": {
          "end_time": "2020-05-28T14:00:19.100252Z",
          "start_time": "2020-05-28T14:00:19.080700Z"
        },
        "id": "wdsLpLiStI4n",
        "outputId": "d0bcefab-8d85-4e10-a193-b42fad9eb6aa"
      },
      "outputs": [
        {
          "ename": "NameError",
          "evalue": "name 's' is not defined",
          "output_type": "error",
          "traceback": [
            "\u001b[1;31m---------------------------------------------------------------------------\u001b[0m",
            "\u001b[1;31mNameError\u001b[0m                                 Traceback (most recent call last)",
            "\u001b[1;32m<ipython-input-10-ded5ba42480f>\u001b[0m in \u001b[0;36m<module>\u001b[1;34m\u001b[0m\n\u001b[1;32m----> 1\u001b[1;33m \u001b[0ms\u001b[0m\u001b[1;33m\u001b[0m\u001b[1;33m\u001b[0m\u001b[0m\n\u001b[0m",
            "\u001b[1;31mNameError\u001b[0m: name 's' is not defined"
          ]
        }
      ],
      "source": [
        "# `s` sólo existe dentro de la función\n",
        "s"
      ]
    },
    {
      "cell_type": "markdown",
      "metadata": {
        "id": "OEikNKxVtI4n"
      },
      "source": [
        "Sin embargo, si que podemos utilizar variables definidas fuera de la `función`."
      ]
    },
    {
      "cell_type": "code",
      "execution_count": null,
      "metadata": {
        "ExecuteTime": {
          "end_time": "2020-05-28T14:01:07.283333Z",
          "start_time": "2020-05-28T14:01:07.266298Z"
        },
        "id": "-GeTVgsItI4n"
      },
      "outputs": [],
      "source": [
        "s = \"hola\"\n",
        "\n",
        "def func():\n",
        "    print(s)"
      ]
    },
    {
      "cell_type": "code",
      "execution_count": null,
      "metadata": {
        "ExecuteTime": {
          "end_time": "2020-05-28T14:01:09.036538Z",
          "start_time": "2020-05-28T14:01:09.030878Z"
        },
        "id": "GkvQZ9h-tI4n",
        "outputId": "e6924064-3fe6-4653-cf66-f5ce5aaa7a46"
      },
      "outputs": [
        {
          "name": "stdout",
          "output_type": "stream",
          "text": [
            "hola\n"
          ]
        }
      ],
      "source": [
        "func()"
      ]
    },
    {
      "cell_type": "code",
      "execution_count": null,
      "metadata": {
        "ExecuteTime": {
          "end_time": "2020-05-28T14:02:17.693317Z",
          "start_time": "2020-05-28T14:02:17.685317Z"
        },
        "id": "KU0R5TKatI4n",
        "outputId": "321e8040-12c4-48e8-9623-8ec8a235b293"
      },
      "outputs": [
        {
          "data": {
            "text/plain": [
              "'hola'"
            ]
          },
          "execution_count": 14,
          "metadata": {},
          "output_type": "execute_result"
        }
      ],
      "source": [
        "# `s` ahora existe tanto dentro como fuera de la función\n",
        "\n",
        "s"
      ]
    },
    {
      "cell_type": "markdown",
      "metadata": {
        "id": "E6xH0GGptI4o"
      },
      "source": [
        "## Argumentos"
      ]
    },
    {
      "cell_type": "markdown",
      "metadata": {
        "id": "TSHPyfpNtI4o"
      },
      "source": [
        "En la mayoría de ocasiones queremos que nuestra `función` lleve a cabo una acción determinada de manera abstracta, pudiendo nosotros especificar los datos sobre los que debería actuar. Para ello podemos definir `argumentos` que la `función` usará durante su ejecución."
      ]
    },
    {
      "cell_type": "code",
      "execution_count": null,
      "metadata": {
        "ExecuteTime": {
          "end_time": "2020-05-28T14:05:42.970336Z",
          "start_time": "2020-05-28T14:05:42.953335Z"
        },
        "id": "gddp4Bv9tI4o"
      },
      "outputs": [],
      "source": [
        "def func(s):\n",
        "    print(s)"
      ]
    },
    {
      "cell_type": "code",
      "execution_count": null,
      "metadata": {
        "ExecuteTime": {
          "end_time": "2020-05-28T14:05:45.747728Z",
          "start_time": "2020-05-28T14:05:45.734931Z"
        },
        "id": "mwo-0hdWtI4o",
        "outputId": "aaf83abe-e728-48f1-f936-70e8126eec46"
      },
      "outputs": [
        {
          "name": "stdout",
          "output_type": "stream",
          "text": [
            "hola\n"
          ]
        }
      ],
      "source": [
        "func(\"hola\")"
      ]
    },
    {
      "cell_type": "code",
      "execution_count": null,
      "metadata": {
        "ExecuteTime": {
          "end_time": "2020-05-28T14:05:51.706803Z",
          "start_time": "2020-05-28T14:05:51.700803Z"
        },
        "id": "IuzT93yetI4o",
        "outputId": "c38039e2-5477-4213-8fa1-1b94133e8d90"
      },
      "outputs": [
        {
          "name": "stdout",
          "output_type": "stream",
          "text": [
            "hello\n"
          ]
        }
      ],
      "source": [
        "func(\"hello\")"
      ]
    },
    {
      "cell_type": "markdown",
      "metadata": {
        "id": "bakTrd8JtI4o"
      },
      "source": [
        "Ahora nuestra `función` es mucho más versátil y reusable. Podemos definir diferentes arguments separados por una coma."
      ]
    },
    {
      "cell_type": "code",
      "execution_count": null,
      "metadata": {
        "ExecuteTime": {
          "end_time": "2020-05-28T14:06:37.461911Z",
          "start_time": "2020-05-28T14:06:37.453014Z"
        },
        "id": "aycrOz3TtI4o"
      },
      "outputs": [],
      "source": [
        "def func(a, b, c):\n",
        "    print(a, b, c)"
      ]
    },
    {
      "cell_type": "code",
      "execution_count": null,
      "metadata": {
        "ExecuteTime": {
          "end_time": "2020-05-28T14:06:46.255545Z",
          "start_time": "2020-05-28T14:06:46.249545Z"
        },
        "id": "VovTXnr2tI4o",
        "outputId": "a6648f50-831a-4c61-a9d1-9e6a338add98"
      },
      "outputs": [
        {
          "name": "stdout",
          "output_type": "stream",
          "text": [
            "hola que tal\n"
          ]
        }
      ],
      "source": [
        "func(\"hola\", \"que\", \"tal\")"
      ]
    },
    {
      "cell_type": "markdown",
      "metadata": {
        "id": "zzAlmu5_tI4o"
      },
      "source": [
        "También podemos definir argumentos opcionales, de manera que si durante la llamada a la función no se especifica ningún valor se utilice el valor por defecto."
      ]
    },
    {
      "cell_type": "code",
      "execution_count": null,
      "metadata": {
        "ExecuteTime": {
          "end_time": "2020-05-28T14:08:56.457131Z",
          "start_time": "2020-05-28T14:08:56.452131Z"
        },
        "id": "gWRhpWsFtI4p"
      },
      "outputs": [],
      "source": [
        "def func(a, b, c=\"hola\"):\n",
        "    print(a, b, c)"
      ]
    },
    {
      "cell_type": "code",
      "execution_count": null,
      "metadata": {
        "ExecuteTime": {
          "end_time": "2020-05-28T14:08:56.958103Z",
          "start_time": "2020-05-28T14:08:56.953105Z"
        },
        "id": "OqKaIi7UtI4p",
        "outputId": "36d5f435-6052-400e-b8bc-690be1fe5f3d"
      },
      "outputs": [
        {
          "name": "stdout",
          "output_type": "stream",
          "text": [
            "hola que hola\n"
          ]
        }
      ],
      "source": [
        "func(\"hola\", \"que\")"
      ]
    },
    {
      "cell_type": "markdown",
      "metadata": {
        "id": "D5lZGnSqtI4p"
      },
      "source": [
        "> ⚠️ Recuerda siempre definir los `argumentos` obligatorios primero, y luego los opcionales."
      ]
    },
    {
      "cell_type": "markdown",
      "metadata": {
        "id": "SkPvubLltI4p"
      },
      "source": [
        "Es posible utilizar el nombre del argumento cuando llamamos a una `función`."
      ]
    },
    {
      "cell_type": "code",
      "execution_count": null,
      "metadata": {
        "ExecuteTime": {
          "end_time": "2020-05-28T14:11:07.128659Z",
          "start_time": "2020-05-28T14:11:07.123146Z"
        },
        "id": "bPJA0TFCtI4p",
        "outputId": "1df1756f-dff1-4370-c9c7-c10c13a999d0"
      },
      "outputs": [
        {
          "name": "stdout",
          "output_type": "stream",
          "text": [
            "1 2 hola\n"
          ]
        }
      ],
      "source": [
        "func(a=1, b=2)"
      ]
    },
    {
      "cell_type": "markdown",
      "metadata": {
        "heading_collapsed": true,
        "id": "CFF9aoOCtI4p"
      },
      "source": [
        "## Devolviendo valores"
      ]
    },
    {
      "cell_type": "markdown",
      "metadata": {
        "hidden": true,
        "id": "9FaWOi-DtI4p"
      },
      "source": [
        "A parte de recibir `argumentos` una función puede devolver resultados. Para ello utilizamos la palabra reservada `return`."
      ]
    },
    {
      "cell_type": "code",
      "execution_count": null,
      "metadata": {
        "ExecuteTime": {
          "end_time": "2020-05-28T14:12:43.528437Z",
          "start_time": "2020-05-28T14:12:43.522437Z"
        },
        "hidden": true,
        "id": "Yf2fU2dHtI4p"
      },
      "outputs": [],
      "source": [
        "def func(a, b):\n",
        "    return a + b"
      ]
    },
    {
      "cell_type": "code",
      "execution_count": null,
      "metadata": {
        "ExecuteTime": {
          "end_time": "2020-05-28T14:12:46.038178Z",
          "start_time": "2020-05-28T14:12:46.020185Z"
        },
        "hidden": true,
        "id": "Pqy5kvFltI4p",
        "outputId": "d536e3dc-6962-438a-fe94-eba8ec29320f"
      },
      "outputs": [
        {
          "data": {
            "text/plain": [
              "3"
            ]
          },
          "execution_count": 29,
          "metadata": {},
          "output_type": "execute_result"
        }
      ],
      "source": [
        "x = func(1, 2)\n",
        "x"
      ]
    },
    {
      "cell_type": "markdown",
      "metadata": {
        "hidden": true,
        "id": "hznfQIBttI4q"
      },
      "source": [
        "`Python` nos permite devolver múltiples valores a la vez"
      ]
    },
    {
      "cell_type": "code",
      "execution_count": null,
      "metadata": {
        "ExecuteTime": {
          "end_time": "2020-05-28T14:13:25.009024Z",
          "start_time": "2020-05-28T14:13:24.999024Z"
        },
        "hidden": true,
        "id": "s4e1VKsxtI4q"
      },
      "outputs": [],
      "source": [
        "def func(a, b):\n",
        "    return a + b, a -b"
      ]
    },
    {
      "cell_type": "code",
      "execution_count": null,
      "metadata": {
        "ExecuteTime": {
          "end_time": "2020-05-28T14:13:37.157966Z",
          "start_time": "2020-05-28T14:13:37.139969Z"
        },
        "hidden": true,
        "id": "Gx627ey2tI4q",
        "outputId": "182522d4-60c0-446c-9fff-f1ac9f0e7c31"
      },
      "outputs": [
        {
          "data": {
            "text/plain": [
              "(3, -1)"
            ]
          },
          "execution_count": 31,
          "metadata": {},
          "output_type": "execute_result"
        }
      ],
      "source": [
        "x1, x2 = func(1, 2)\n",
        "x1, x2"
      ]
    },
    {
      "cell_type": "markdown",
      "metadata": {
        "heading_collapsed": true,
        "id": "EamHnP0KtI4q"
      },
      "source": [
        "## Funciones anónimas"
      ]
    },
    {
      "cell_type": "markdown",
      "metadata": {
        "hidden": true,
        "id": "ZeSgJGSotI4q"
      },
      "source": [
        "Una `función anónima`, también conocidas como `funciones lambda`, es una forma de definir funciones que sólo contienen una declaración, el resultado de la cual es automáticamente devuelto."
      ]
    },
    {
      "cell_type": "code",
      "execution_count": null,
      "metadata": {
        "ExecuteTime": {
          "end_time": "2020-05-28T14:18:20.934267Z",
          "start_time": "2020-05-28T14:18:20.923267Z"
        },
        "hidden": true,
        "id": "cSiKqxUOtI4q"
      },
      "outputs": [],
      "source": [
        "def func(x):\n",
        "    return 2*x"
      ]
    },
    {
      "cell_type": "code",
      "execution_count": null,
      "metadata": {
        "ExecuteTime": {
          "end_time": "2020-05-28T14:18:46.177234Z",
          "start_time": "2020-05-28T14:18:46.173234Z"
        },
        "hidden": true,
        "id": "kSCo6poftI4q"
      },
      "outputs": [],
      "source": [
        "# misma función, pero definida como lambda function\n",
        "\n",
        "func = lambda x: 2*x"
      ]
    },
    {
      "cell_type": "code",
      "execution_count": null,
      "metadata": {
        "ExecuteTime": {
          "end_time": "2020-05-28T14:18:48.393982Z",
          "start_time": "2020-05-28T14:18:48.387983Z"
        },
        "hidden": true,
        "id": "dFwaaodBtI4q",
        "outputId": "383d0247-b959-4cd7-b858-9ce50707e50b"
      },
      "outputs": [
        {
          "data": {
            "text/plain": [
              "4"
            ]
          },
          "execution_count": 34,
          "metadata": {},
          "output_type": "execute_result"
        }
      ],
      "source": [
        "func(2)"
      ]
    },
    {
      "cell_type": "markdown",
      "metadata": {
        "hidden": true,
        "id": "STjJk8n7tI4q"
      },
      "source": [
        "En el análisis de datos es bastante común tener que llevar a cabo transformaciones que consisten en una sola declaración, y ser capaces de expresar esta funcionalidad de manera concisa aumenta nuestra productividad a la vez que reduce las posibles fuentes de error. Podemos definir funciones anónimas con varios parámetros."
      ]
    },
    {
      "cell_type": "code",
      "execution_count": null,
      "metadata": {
        "ExecuteTime": {
          "end_time": "2020-05-28T14:20:47.910345Z",
          "start_time": "2020-05-28T14:20:47.900833Z"
        },
        "hidden": true,
        "id": "sA7Yn3NktI4q"
      },
      "outputs": [],
      "source": [
        "func = lambda x, y: x + y"
      ]
    },
    {
      "cell_type": "code",
      "execution_count": null,
      "metadata": {
        "ExecuteTime": {
          "end_time": "2020-05-28T14:20:50.578294Z",
          "start_time": "2020-05-28T14:20:50.567289Z"
        },
        "hidden": true,
        "id": "DLQ295lytI4q",
        "outputId": "d55fde8d-de6e-4a47-d9f4-b38155c54a54"
      },
      "outputs": [
        {
          "data": {
            "text/plain": [
              "3"
            ]
          },
          "execution_count": 36,
          "metadata": {},
          "output_type": "execute_result"
        }
      ],
      "source": [
        "func(1, 2)"
      ]
    },
    {
      "cell_type": "markdown",
      "metadata": {
        "id": "lJAcWWcltI4q"
      },
      "source": [
        "## Generadores"
      ]
    },
    {
      "cell_type": "markdown",
      "metadata": {
        "id": "9rpDpj8ttI4q"
      },
      "source": [
        "`Python` implementa una manera consistente de iterar sobre secuencias, lo cual podemos utilizar en nuestro favor para definir nuestra propia lógica de iteración mediante un tipo de funciones llamadas `generadores`. Podemos definir un `generador` de la misma manera que definimos una `función` normal, cambiando la palabra `return` por `yield`. Esto le indicará a `Python` que pese a que la función ha devuelto un valor, la ejecución de la función no ha terminado y esperará que siga devolviendo valores en el futuro."
      ]
    },
    {
      "cell_type": "code",
      "execution_count": null,
      "metadata": {
        "ExecuteTime": {
          "end_time": "2020-05-28T14:26:16.518311Z",
          "start_time": "2020-05-28T14:26:16.514544Z"
        },
        "id": "Z553Q-ahtI4q"
      },
      "outputs": [],
      "source": [
        "# itera una lista de números devolviendo sólo números impares\n",
        "\n",
        "def func(n=10):\n",
        "    for i in range(n):\n",
        "        if i % 2:\n",
        "            yield i"
      ]
    },
    {
      "cell_type": "code",
      "execution_count": null,
      "metadata": {
        "ExecuteTime": {
          "end_time": "2020-05-28T14:26:33.022466Z",
          "start_time": "2020-05-28T14:26:33.014958Z"
        },
        "id": "7vns6p6XtI4q",
        "outputId": "abcf9f29-0266-450e-f84e-cef633005536"
      },
      "outputs": [
        {
          "name": "stdout",
          "output_type": "stream",
          "text": [
            "1\n",
            "3\n",
            "5\n",
            "7\n",
            "9\n"
          ]
        }
      ],
      "source": [
        "gen = func()\n",
        "\n",
        "# ahora gen es un objeto `iterable`\n",
        "\n",
        "for i in gen:\n",
        "    print(i)"
      ]
    },
    {
      "cell_type": "markdown",
      "metadata": {
        "id": "c69ntGaStI4r"
      },
      "source": [
        "Una manera alternativa de definir un generador de manera más compacta es la siguiente"
      ]
    },
    {
      "cell_type": "code",
      "execution_count": null,
      "metadata": {
        "ExecuteTime": {
          "end_time": "2020-05-28T14:27:50.301743Z",
          "start_time": "2020-05-28T14:27:50.292233Z"
        },
        "id": "R1SMO4zRtI4r",
        "outputId": "4688829f-8675-437c-f29a-560b01f950bb"
      },
      "outputs": [
        {
          "name": "stdout",
          "output_type": "stream",
          "text": [
            "1\n",
            "3\n",
            "5\n",
            "7\n",
            "9\n"
          ]
        }
      ],
      "source": [
        "# similar a `list comprehension`\n",
        "\n",
        "gen = (i for i in range(10) if i % 2)\n",
        "\n",
        "for i in gen:\n",
        "    print(i)"
      ]
    },
    {
      "cell_type": "markdown",
      "metadata": {
        "id": "G4Owr_06tI4r"
      },
      "source": [
        "En análisis de datos es muy común iterar sobre grandes conjuntos de datos, aplicando transformaciones o procesados, y dependiendo del algoritmo que utilicemos querremos iterar nuestros datos de una manera u otra (por ejemplo de uno en uno, en grupos o `batches`, aplicando alguna transformación, etc). Un `generador` nos será muy útil en estas ocasiones."
      ]
    },
    {
      "cell_type": "markdown",
      "metadata": {
        "id": "EbTnPxYAtI4r"
      },
      "source": [
        "## Manejando errores"
      ]
    },
    {
      "cell_type": "markdown",
      "metadata": {
        "id": "x9z1jUK2tI4r"
      },
      "source": [
        "Si has trabajado un poco con `Python`, o simplemente has seguido los ejemplos que hemos ido viendo, te habrás dado cuenta que en ocasiones `Python` no devuelve un mensaje de error cuando algo va mal. Con el objetivo de hacer nuestro código robusto, tenemos que ser capaces de anteponernos a estas situaciones evitando que un programa se \"cuelgue\" o proveiendo mensajes de error útiles. Por ejemplo, la siguiente función espera un argumento y devuelve el mismo valor transformado en un número entero. Esto es posible para algunos tipos de datos, pero otros (como los `string`) no se pueden convertir a números y nuestra función devolverá un error."
      ]
    },
    {
      "cell_type": "code",
      "execution_count": null,
      "metadata": {
        "ExecuteTime": {
          "end_time": "2020-05-28T14:39:15.049818Z",
          "start_time": "2020-05-28T14:39:15.035811Z"
        },
        "id": "wEDl4MjRtI4r"
      },
      "outputs": [],
      "source": [
        "def func(x):\n",
        "    return int(x) "
      ]
    },
    {
      "cell_type": "code",
      "execution_count": null,
      "metadata": {
        "ExecuteTime": {
          "end_time": "2020-05-28T14:39:15.190944Z",
          "start_time": "2020-05-28T14:39:15.179944Z"
        },
        "id": "Oad-csGEtI4r",
        "outputId": "97f7f46f-2c9e-44a1-d712-691160438eb8"
      },
      "outputs": [
        {
          "data": {
            "text/plain": [
              "1"
            ]
          },
          "execution_count": 61,
          "metadata": {},
          "output_type": "execute_result"
        }
      ],
      "source": [
        "func(1)"
      ]
    },
    {
      "cell_type": "code",
      "execution_count": null,
      "metadata": {
        "ExecuteTime": {
          "end_time": "2020-05-28T14:39:16.190794Z",
          "start_time": "2020-05-28T14:39:16.173794Z"
        },
        "id": "bJ15rsXhtI4r",
        "outputId": "2de5e9da-f006-4883-ca34-d2cbbe3a7c23"
      },
      "outputs": [
        {
          "ename": "ValueError",
          "evalue": "invalid literal for int() with base 10: 'hola'",
          "output_type": "error",
          "traceback": [
            "\u001b[1;31m---------------------------------------------------------------------------\u001b[0m",
            "\u001b[1;31mValueError\u001b[0m                                Traceback (most recent call last)",
            "\u001b[1;32m<ipython-input-63-3db432dc1599>\u001b[0m in \u001b[0;36m<module>\u001b[1;34m\u001b[0m\n\u001b[1;32m----> 1\u001b[1;33m \u001b[0mfunc\u001b[0m\u001b[1;33m(\u001b[0m\u001b[1;34m\"hola\"\u001b[0m\u001b[1;33m)\u001b[0m\u001b[1;33m\u001b[0m\u001b[1;33m\u001b[0m\u001b[0m\n\u001b[0m",
            "\u001b[1;32m<ipython-input-60-185a22a41eef>\u001b[0m in \u001b[0;36mfunc\u001b[1;34m(x)\u001b[0m\n\u001b[0;32m      1\u001b[0m \u001b[1;32mdef\u001b[0m \u001b[0mfunc\u001b[0m\u001b[1;33m(\u001b[0m\u001b[0mx\u001b[0m\u001b[1;33m)\u001b[0m\u001b[1;33m:\u001b[0m\u001b[1;33m\u001b[0m\u001b[1;33m\u001b[0m\u001b[0m\n\u001b[1;32m----> 2\u001b[1;33m     \u001b[1;32mreturn\u001b[0m \u001b[0mint\u001b[0m\u001b[1;33m(\u001b[0m\u001b[0mx\u001b[0m\u001b[1;33m)\u001b[0m\u001b[1;33m\u001b[0m\u001b[1;33m\u001b[0m\u001b[0m\n\u001b[0m",
            "\u001b[1;31mValueError\u001b[0m: invalid literal for int() with base 10: 'hola'"
          ]
        }
      ],
      "source": [
        "func(\"hola\")"
      ]
    },
    {
      "cell_type": "markdown",
      "metadata": {
        "id": "I2plle43tI4r"
      },
      "source": [
        "Podemos anteponernos a este problema y proveer de un mejor mensaje de error con un bloque `try-except`. Nuestra función intentará ejecutar el código dentro del bloque `try` y, de recibir un error, saltará al bloque `except`. "
      ]
    },
    {
      "cell_type": "code",
      "execution_count": null,
      "metadata": {
        "ExecuteTime": {
          "end_time": "2020-05-28T14:39:59.428181Z",
          "start_time": "2020-05-28T14:39:59.415182Z"
        },
        "id": "vUeS3Ou8tI4r"
      },
      "outputs": [],
      "source": [
        "def func(x):\n",
        "    try:\n",
        "        return int(x) \n",
        "    except:\n",
        "        print(\"el argumento no se puede convertir a int\")"
      ]
    },
    {
      "cell_type": "code",
      "execution_count": null,
      "metadata": {
        "ExecuteTime": {
          "end_time": "2020-05-28T14:40:03.844124Z",
          "start_time": "2020-05-28T14:40:03.838124Z"
        },
        "id": "oHl3DmRctI4r",
        "outputId": "ad0361be-c665-4c63-b8fe-a7c709294bb8"
      },
      "outputs": [
        {
          "data": {
            "text/plain": [
              "1"
            ]
          },
          "execution_count": 65,
          "metadata": {},
          "output_type": "execute_result"
        }
      ],
      "source": [
        "func(1)"
      ]
    },
    {
      "cell_type": "code",
      "execution_count": null,
      "metadata": {
        "ExecuteTime": {
          "end_time": "2020-05-28T14:40:07.313177Z",
          "start_time": "2020-05-28T14:40:07.302176Z"
        },
        "id": "ixu_XEZFtI4r",
        "outputId": "802a878d-536f-46b4-8e42-4e122d451243"
      },
      "outputs": [
        {
          "name": "stdout",
          "output_type": "stream",
          "text": [
            "el argumento no se puede convertir a int\n"
          ]
        }
      ],
      "source": [
        "func(\"hola\")"
      ]
    },
    {
      "cell_type": "markdown",
      "metadata": {
        "id": "cj7VUO3mtI4r"
      },
      "source": [
        "En ocasiones podemos querer ejecutar código tanto si hay errores como si no, para ello podemos usar el bloque `finally`."
      ]
    },
    {
      "cell_type": "code",
      "execution_count": null,
      "metadata": {
        "ExecuteTime": {
          "end_time": "2020-05-28T14:46:41.065796Z",
          "start_time": "2020-05-28T14:46:41.058796Z"
        },
        "id": "q8R9KlYgtI4r"
      },
      "outputs": [],
      "source": [
        "def func(x):\n",
        "    try:\n",
        "        return int(x) \n",
        "    except:\n",
        "        print(\"el argumento no se puede convertir a int\")\n",
        "    finally:\n",
        "        print(\"siempre\")"
      ]
    },
    {
      "cell_type": "code",
      "execution_count": null,
      "metadata": {
        "ExecuteTime": {
          "end_time": "2020-05-28T14:46:41.206620Z",
          "start_time": "2020-05-28T14:46:41.199621Z"
        },
        "id": "qq3aftKVtI4r",
        "outputId": "8a3e81b3-a71c-4d08-ef30-d775d595f796"
      },
      "outputs": [
        {
          "name": "stdout",
          "output_type": "stream",
          "text": [
            "siempre\n"
          ]
        },
        {
          "data": {
            "text/plain": [
              "1"
            ]
          },
          "execution_count": 71,
          "metadata": {},
          "output_type": "execute_result"
        }
      ],
      "source": [
        "func(1)"
      ]
    },
    {
      "cell_type": "code",
      "execution_count": null,
      "metadata": {
        "ExecuteTime": {
          "end_time": "2020-05-28T14:46:41.580655Z",
          "start_time": "2020-05-28T14:46:41.575656Z"
        },
        "id": "6PELzipztI4r",
        "outputId": "906b8c06-ac30-48e7-ca7c-6c4e6553b1ba"
      },
      "outputs": [
        {
          "name": "stdout",
          "output_type": "stream",
          "text": [
            "el argumento no se puede convertir a int\n",
            "siempre\n"
          ]
        }
      ],
      "source": [
        "func(\"hola\")"
      ]
    },
    {
      "cell_type": "markdown",
      "metadata": {
        "id": "2LP_YVM4tI4s"
      },
      "source": [
        "## Resumen"
      ]
    },
    {
      "cell_type": "markdown",
      "metadata": {
        "id": "ZGYp6tE5tI4s"
      },
      "source": [
        "Con el objetivo de hacer nuestro código más robusto, legible y reutilizable `Python` nos ofrece la opción de utilizar `funciones`. En este post hemos visto cómo definir tales funciones, trozos de código que podemos invocar en cualquier momento enviándo `argumentos` y devolviendo resultados. Hemos hablado también sobre funciones anónimas, una manera de definir funciones cortas con una sola declaración muy útiles cuando necesitamos una función de manera inmediata. El uso de generadores nos permite defininr nuestros propios objetos iterables, útiles en el análisis de datos para iterar sobre grandes cantidades de datos llevando a cabo alguna lógica en concreto. Por último hemos visto como manejar los diferentes errores que pueden surgir en la invocación de función con el objetivo de evitar que nuestro programa se quede \"colgado\" cuando algún error surge en su ejecución.   "
      ]
    }
  ],
  "metadata": {
    "kernelspec": {
      "display_name": "Python 3",
      "language": "python",
      "name": "python3"
    },
    "language_info": {
      "codemirror_mode": {
        "name": "ipython",
        "version": 3
      },
      "file_extension": ".py",
      "mimetype": "text/x-python",
      "name": "python",
      "nbconvert_exporter": "python",
      "pygments_lexer": "ipython3",
      "version": "3.7.6"
    },
    "toc": {
      "base_numbering": 1,
      "nav_menu": {},
      "number_sections": true,
      "sideBar": true,
      "skip_h1_title": false,
      "title_cell": "Table of Contents",
      "title_sidebar": "Contents",
      "toc_cell": false,
      "toc_position": {
        "height": "calc(100% - 180px)",
        "left": "10px",
        "top": "150px",
        "width": "264.797px"
      },
      "toc_section_display": true,
      "toc_window_display": true
    },
    "colab": {
      "name": "4. Funciones.ipynb",
      "provenance": [],
      "include_colab_link": true
    }
  },
  "nbformat": 4,
  "nbformat_minor": 0
}