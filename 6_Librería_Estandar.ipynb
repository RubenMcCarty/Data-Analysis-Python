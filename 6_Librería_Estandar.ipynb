{
  "cells": [
    {
      "cell_type": "markdown",
      "metadata": {
        "id": "view-in-github",
        "colab_type": "text"
      },
      "source": [
        "<a href=\"https://colab.research.google.com/github/RubenMcCarty/Data-Analysis-Python/blob/main/6_Librer%C3%ADa_Estandar.ipynb\" target=\"_parent\"><img src=\"https://colab.research.google.com/assets/colab-badge.svg\" alt=\"Open In Colab\"/></a>"
      ]
    },
    {
      "cell_type": "markdown",
      "source": [
        "# La librería Estándar de Python\n",
        "# [MSc: Ruben Quispe](https://www.linkedin.com/in/ruben-quispe-l/)"
      ],
      "metadata": {
        "id": "izPThRE1u34u"
      }
    },
    {
      "cell_type": "markdown",
      "metadata": {
        "id": "V-Lb3wSuufhd"
      },
      "source": [
        "En posts anteriores hemos visto cómo manejarnos con la sintaxis básica de `Python`, desde los conceptos más básicos como crear variables o control de flujo hasta conceptos más avanzados como `clases`, pasando también por diferentes estructuras de datos y `funciones`. Estos conceptos forman el núcleo del lenguaje. Aún así, al trabajar con `Python`, tenemos muchas otras características y funcionalidad que podemos aprovechar para el análisis de datos sin necesidad de recurrir a librerías externas. Algunos ejemplos incluyen: trabajar con archivos (IO), acceder a funcionalidad del sistema operativo, operaciones matemáticas comunes, comprimir o descomprimir archivos, y un larguísimo etcétera. Esta funcionalidad viene implementada en diferentes `módulos` en lo que se conoce como la librería estándar de `Python`, o `STL` (*STandard Library*). En este post vamos a ver algunos de los módulos más utilizados en el análisis de datos. Puedes ver una lista completa de todos los `módulos` disponibles [aquí](https://docs.python.org/3/library/index.html).   "
      ]
    },
    {
      "cell_type": "markdown",
      "metadata": {
        "id": "DKQc5Y_Gufhd"
      },
      "source": [
        "## Módulos matemáticos"
      ]
    },
    {
      "cell_type": "markdown",
      "metadata": {
        "id": "7MxPq-kzufhd"
      },
      "source": [
        "### El módulo `math`"
      ]
    },
    {
      "cell_type": "markdown",
      "metadata": {
        "id": "A-I2EVoFufhd"
      },
      "source": [
        "Este `módulo` nos da acceso a multitud de funciones matemáticas. Estos son algunos ejemplos. "
      ]
    },
    {
      "cell_type": "code",
      "execution_count": null,
      "metadata": {
        "ExecuteTime": {
          "end_time": "2020-06-07T17:06:28.302313Z",
          "start_time": "2020-06-07T17:06:28.293312Z"
        },
        "id": "iJnD4hFeufhe"
      },
      "outputs": [],
      "source": [
        "import math"
      ]
    },
    {
      "cell_type": "markdown",
      "metadata": {
        "id": "8VqF_TGtufhe"
      },
      "source": [
        "> ⚠️ Para importar cualquier módulo de la librería estándar utilizamos la palabra `import` seguida del nombre de la librería, en este caso `math`."
      ]
    },
    {
      "cell_type": "code",
      "execution_count": null,
      "metadata": {
        "ExecuteTime": {
          "end_time": "2020-06-07T17:06:28.334312Z",
          "start_time": "2020-06-07T17:06:28.325313Z"
        },
        "id": "y7UPgjNCufhf",
        "outputId": "1c610eb1-3474-4cbf-be93-88e0a4bc7d26"
      },
      "outputs": [
        {
          "data": {
            "text/plain": [
              "1.0"
            ]
          },
          "execution_count": 2,
          "metadata": {},
          "output_type": "execute_result"
        }
      ],
      "source": [
        "# valor absoluto\n",
        "\n",
        "math.fabs(-1)"
      ]
    },
    {
      "cell_type": "code",
      "execution_count": null,
      "metadata": {
        "ExecuteTime": {
          "end_time": "2020-06-07T17:06:28.349311Z",
          "start_time": "2020-06-07T17:06:28.335313Z"
        },
        "id": "YCDfWW-oufhf",
        "outputId": "b75699c6-01c6-40ee-c905-c92a227d4bdd"
      },
      "outputs": [
        {
          "data": {
            "text/plain": [
              "3"
            ]
          },
          "execution_count": 3,
          "metadata": {},
          "output_type": "execute_result"
        }
      ],
      "source": [
        "# redondear un valor al alza\n",
        "\n",
        "math.ceil(2.1)"
      ]
    },
    {
      "cell_type": "code",
      "execution_count": null,
      "metadata": {
        "ExecuteTime": {
          "end_time": "2020-06-07T17:06:28.364333Z",
          "start_time": "2020-06-07T17:06:28.350311Z"
        },
        "id": "_iN112oFufhg",
        "outputId": "035bce07-b6a1-49b1-db5a-fbbff9401225"
      },
      "outputs": [
        {
          "data": {
            "text/plain": [
              "2"
            ]
          },
          "execution_count": 4,
          "metadata": {},
          "output_type": "execute_result"
        }
      ],
      "source": [
        "# redondear un valor a la baja\n",
        "\n",
        "math.floor(2.1)"
      ]
    },
    {
      "cell_type": "code",
      "execution_count": null,
      "metadata": {
        "ExecuteTime": {
          "end_time": "2020-06-07T17:06:28.380333Z",
          "start_time": "2020-06-07T17:06:28.365334Z"
        },
        "id": "CF_oWkWzufhg",
        "outputId": "72327275-fc4d-4b5f-8bd0-5cb1290d2005"
      },
      "outputs": [
        {
          "data": {
            "text/plain": [
              "2.718281828459045"
            ]
          },
          "execution_count": 5,
          "metadata": {},
          "output_type": "execute_result"
        }
      ],
      "source": [
        "# función exponencial\n",
        "\n",
        "math.exp(1)"
      ]
    },
    {
      "cell_type": "code",
      "execution_count": null,
      "metadata": {
        "ExecuteTime": {
          "end_time": "2020-06-07T17:06:28.396347Z",
          "start_time": "2020-06-07T17:06:28.381330Z"
        },
        "id": "rM4Lc1zzufhg",
        "outputId": "3e613f50-1809-4c28-b440-9fb55ebc8ed0"
      },
      "outputs": [
        {
          "data": {
            "text/plain": [
              "0.0"
            ]
          },
          "execution_count": 6,
          "metadata": {},
          "output_type": "execute_result"
        }
      ],
      "source": [
        "# función logarítmica\n",
        "\n",
        "math.log(1)"
      ]
    },
    {
      "cell_type": "code",
      "execution_count": null,
      "metadata": {
        "ExecuteTime": {
          "end_time": "2020-06-07T17:06:28.412399Z",
          "start_time": "2020-06-07T17:06:28.397349Z"
        },
        "id": "P0AWqc_-ufhg",
        "outputId": "7f9ad84d-fded-4f96-840d-245fbf73be16"
      },
      "outputs": [
        {
          "data": {
            "text/plain": [
              "4.0"
            ]
          },
          "execution_count": 7,
          "metadata": {},
          "output_type": "execute_result"
        }
      ],
      "source": [
        "# potenciación\n",
        "\n",
        "math.pow(2, 2)"
      ]
    },
    {
      "cell_type": "code",
      "execution_count": null,
      "metadata": {
        "ExecuteTime": {
          "end_time": "2020-06-07T17:06:28.428377Z",
          "start_time": "2020-06-07T17:06:28.413370Z"
        },
        "id": "nxLRfwjsufhh",
        "outputId": "673b7f46-7e4e-4231-ffbb-743e7b45d8a8"
      },
      "outputs": [
        {
          "data": {
            "text/plain": [
              "2.0"
            ]
          },
          "execution_count": 8,
          "metadata": {},
          "output_type": "execute_result"
        }
      ],
      "source": [
        "# raíz cuadrada\n",
        "\n",
        "math.sqrt(4)"
      ]
    },
    {
      "cell_type": "code",
      "execution_count": null,
      "metadata": {
        "ExecuteTime": {
          "end_time": "2020-06-07T17:06:28.444389Z",
          "start_time": "2020-06-07T17:06:28.429380Z"
        },
        "id": "-hyn4Cmeufhh",
        "outputId": "66bfcfc3-e15b-4f4d-b30d-6f581d9cdaaa"
      },
      "outputs": [
        {
          "data": {
            "text/plain": [
              "0.5253219888177297"
            ]
          },
          "execution_count": 9,
          "metadata": {},
          "output_type": "execute_result"
        }
      ],
      "source": [
        "# funciones trigonométricas\n",
        "\n",
        "math.cos(45)\n",
        "\n",
        "# también tenemos sin, tan ..."
      ]
    },
    {
      "cell_type": "code",
      "execution_count": null,
      "metadata": {
        "ExecuteTime": {
          "end_time": "2020-06-07T17:06:28.460396Z",
          "start_time": "2020-06-07T17:06:28.445393Z"
        },
        "id": "ZHuSweHjufhi",
        "outputId": "75a57bd6-79d6-4c92-dfec-5638bd367a46"
      },
      "outputs": [
        {
          "data": {
            "text/plain": [
              "3.141592653589793"
            ]
          },
          "execution_count": 10,
          "metadata": {},
          "output_type": "execute_result"
        }
      ],
      "source": [
        "# constantes\n",
        "\n",
        "math.pi"
      ]
    },
    {
      "cell_type": "code",
      "execution_count": null,
      "metadata": {
        "ExecuteTime": {
          "end_time": "2020-06-07T17:06:28.476414Z",
          "start_time": "2020-06-07T17:06:28.461399Z"
        },
        "id": "ogayBa-Lufhi",
        "outputId": "ad3737c4-dc0a-4c6d-b881-3189e5f7dce4"
      },
      "outputs": [
        {
          "data": {
            "text/plain": [
              "2.718281828459045"
            ]
          },
          "execution_count": 11,
          "metadata": {},
          "output_type": "execute_result"
        }
      ],
      "source": [
        "math.e"
      ]
    },
    {
      "cell_type": "markdown",
      "metadata": {
        "id": "6JCjYgAzufhi"
      },
      "source": [
        "Y muchas más funciones que puedes encontrar [aquí](https://docs.python.org/3/library/math.html)."
      ]
    },
    {
      "cell_type": "markdown",
      "metadata": {
        "heading_collapsed": true,
        "id": "A8x93BPRufhi"
      },
      "source": [
        "### El módulo `random`"
      ]
    },
    {
      "cell_type": "markdown",
      "metadata": {
        "hidden": true,
        "id": "ZIIvSoodufhj"
      },
      "source": [
        "Este módulo nos va a dar funcionalidad para trabajar con números (pseudo) aleatorios."
      ]
    },
    {
      "cell_type": "code",
      "execution_count": null,
      "metadata": {
        "ExecuteTime": {
          "end_time": "2020-06-07T17:06:28.492446Z",
          "start_time": "2020-06-07T17:06:28.477418Z"
        },
        "hidden": true,
        "id": "kTNodCNRufhj"
      },
      "outputs": [],
      "source": [
        "import random"
      ]
    },
    {
      "cell_type": "code",
      "execution_count": null,
      "metadata": {
        "ExecuteTime": {
          "end_time": "2020-06-07T17:06:28.508432Z",
          "start_time": "2020-06-07T17:06:28.493429Z"
        },
        "hidden": true,
        "id": "2R1PnVwpufhj",
        "outputId": "b32fdbc8-1e50-4841-beef-ee5bdad9a247"
      },
      "outputs": [
        {
          "data": {
            "text/plain": [
              "0.8499521141392985"
            ]
          },
          "execution_count": 13,
          "metadata": {},
          "output_type": "execute_result"
        }
      ],
      "source": [
        "# número aleatorio entre 0 y 1\n",
        "\n",
        "random.random()"
      ]
    },
    {
      "cell_type": "code",
      "execution_count": null,
      "metadata": {
        "ExecuteTime": {
          "end_time": "2020-06-07T17:06:28.524453Z",
          "start_time": "2020-06-07T17:06:28.509434Z"
        },
        "hidden": true,
        "id": "wVhvKfQmufhj",
        "outputId": "1997fbec-dc89-4214-ef7a-4c6cd9e33f0d"
      },
      "outputs": [
        {
          "data": {
            "text/plain": [
              "0.6065997727244846"
            ]
          },
          "execution_count": 14,
          "metadata": {},
          "output_type": "execute_result"
        }
      ],
      "source": [
        "random.random()"
      ]
    },
    {
      "cell_type": "markdown",
      "metadata": {
        "hidden": true,
        "id": "jjyI9aCHufhj"
      },
      "source": [
        "> ⚠️ Como puedes ver, al trabajar con números aleatorios cada vez que ejecutamos alguna función el resultado va a ser diferente."
      ]
    },
    {
      "cell_type": "code",
      "execution_count": null,
      "metadata": {
        "ExecuteTime": {
          "end_time": "2020-06-07T17:06:28.540459Z",
          "start_time": "2020-06-07T17:06:28.525455Z"
        },
        "hidden": true,
        "id": "Q6UYOCW1ufhj",
        "outputId": "4935416f-8bbe-4288-e743-3113b38a5293"
      },
      "outputs": [
        {
          "data": {
            "text/plain": [
              "4.69170673249722"
            ]
          },
          "execution_count": 15,
          "metadata": {},
          "output_type": "execute_result"
        }
      ],
      "source": [
        "# valor aleatorio entre dos valores\n",
        "\n",
        "random.uniform(3, 5)"
      ]
    },
    {
      "cell_type": "code",
      "execution_count": null,
      "metadata": {
        "ExecuteTime": {
          "end_time": "2020-06-07T17:06:28.556477Z",
          "start_time": "2020-06-07T17:06:28.541460Z"
        },
        "hidden": true,
        "id": "kwXd3LK0ufhj",
        "outputId": "169a813d-4e42-4164-94b4-163f00d55c3c"
      },
      "outputs": [
        {
          "data": {
            "text/plain": [
              "2.12423100921994"
            ]
          },
          "execution_count": 16,
          "metadata": {},
          "output_type": "execute_result"
        }
      ],
      "source": [
        "# valor aleatorio siguiendo una distribución gausiana\n",
        "# con media `mu` iy desviación estándar `sigma` \n",
        "\n",
        "mu = 2\n",
        "sigma = 0.3\n",
        "random.gauss(mu, sigma)"
      ]
    },
    {
      "cell_type": "markdown",
      "metadata": {
        "hidden": true,
        "id": "ebK6rOPDufhj"
      },
      "source": [
        "Puedes encontrar el resto de funcionalidad que la librería `random` ofrece [aquí](https://docs.python.org/3/library/random.html). Es importante remarcar que cuando trabajamos con valores aleatorios los resultados que obtengamos van a variar entre ejecuciones. Esto puede ser problemático a la hora de reproducir resultados. Este problema se puede evitar fijando la semilla (*seed* en inglés). "
      ]
    },
    {
      "cell_type": "code",
      "execution_count": null,
      "metadata": {
        "ExecuteTime": {
          "end_time": "2020-06-07T17:06:28.572511Z",
          "start_time": "2020-06-07T17:06:28.558478Z"
        },
        "hidden": true,
        "id": "AxyPz67bufhj"
      },
      "outputs": [],
      "source": [
        "random.seed(42)"
      ]
    },
    {
      "cell_type": "code",
      "execution_count": null,
      "metadata": {
        "ExecuteTime": {
          "end_time": "2020-06-07T17:06:28.588504Z",
          "start_time": "2020-06-07T17:06:28.573501Z"
        },
        "hidden": true,
        "id": "CXnaFkkVufhk",
        "outputId": "b27575c7-f7b6-481c-a5e0-51621f29f7b9"
      },
      "outputs": [
        {
          "data": {
            "text/plain": [
              "0.6394267984578837"
            ]
          },
          "execution_count": 18,
          "metadata": {},
          "output_type": "execute_result"
        }
      ],
      "source": [
        "random.random()"
      ]
    },
    {
      "cell_type": "markdown",
      "metadata": {
        "hidden": true,
        "id": "AQRWXkngufhk"
      },
      "source": [
        "Cada vez que ejecutemos la función anterior obtendremos un resultado diferente, sin embargo siempre obtendremos los mismos valores en repetidas ejecuciones. Este es el motivo por el que hablamos de valores pseudoaleatorios."
      ]
    },
    {
      "cell_type": "markdown",
      "metadata": {
        "heading_collapsed": true,
        "id": "RXpYJmAyufhk"
      },
      "source": [
        "## El módulo `os`"
      ]
    },
    {
      "cell_type": "markdown",
      "metadata": {
        "hidden": true,
        "id": "2HXQ2YPPufhk"
      },
      "source": [
        "Este módulo nos dará acceso a funcionalidad del sistema operativo (como listar archivos, crear o eliminar carpetas, acceder a variables de entorno, ...). Esta funcionalidad es distinta en cada sistema operativo, sin embargo al utilizar `Python` disponemos de una manera unificada de trabajar independiente de si estamos en Windows, MacOS o Linux."
      ]
    },
    {
      "cell_type": "code",
      "execution_count": null,
      "metadata": {
        "ExecuteTime": {
          "end_time": "2020-06-07T17:11:13.561232Z",
          "start_time": "2020-06-07T17:11:13.556232Z"
        },
        "hidden": true,
        "id": "n0hk1mhwufhk"
      },
      "outputs": [],
      "source": [
        "import os"
      ]
    },
    {
      "cell_type": "code",
      "execution_count": null,
      "metadata": {
        "ExecuteTime": {
          "end_time": "2020-06-07T17:11:40.595152Z",
          "start_time": "2020-06-07T17:11:40.590464Z"
        },
        "hidden": true,
        "id": "4pzl3DGkufhk"
      },
      "outputs": [],
      "source": [
        "# accede a las variables de entorno\n",
        "\n",
        "os.environ"
      ]
    },
    {
      "cell_type": "code",
      "execution_count": null,
      "metadata": {
        "ExecuteTime": {
          "end_time": "2020-06-07T17:12:26.813944Z",
          "start_time": "2020-06-07T17:12:26.805122Z"
        },
        "hidden": true,
        "id": "KHcka-s8ufhk"
      },
      "outputs": [],
      "source": [
        "# recuperar el directorio actual\n",
        "\n",
        "os.getcwd()"
      ]
    },
    {
      "cell_type": "code",
      "execution_count": null,
      "metadata": {
        "ExecuteTime": {
          "end_time": "2020-06-07T17:17:48.112999Z",
          "start_time": "2020-06-07T17:17:48.108302Z"
        },
        "hidden": true,
        "id": "hCtZ8HxAufhk",
        "outputId": "a730dff5-c84b-4282-a5ae-72b32dfd0d8a"
      },
      "outputs": [
        {
          "data": {
            "text/plain": [
              "['.ipynb_checkpoints', 'hola.txt', 'python_stl.ipynb']"
            ]
          },
          "execution_count": 30,
          "metadata": {},
          "output_type": "execute_result"
        }
      ],
      "source": [
        "# obtiene una lista con todos los archivos en un directorio\n",
        "\n",
        "os.listdir('.')"
      ]
    },
    {
      "cell_type": "markdown",
      "metadata": {
        "hidden": true,
        "id": "NgPpcXNFufhk"
      },
      "source": [
        "> ⚡ Para acceder a los archivos de la carpeta en la que te encuentras puedes usar `.`. Para otras localizaciones puedes usar el `path` relativo o absoluto."
      ]
    },
    {
      "cell_type": "code",
      "execution_count": null,
      "metadata": {
        "ExecuteTime": {
          "end_time": "2020-06-07T17:18:56.333643Z",
          "start_time": "2020-06-07T17:18:56.322630Z"
        },
        "hidden": true,
        "id": "i1Ej-3aOufhk",
        "outputId": "37b1d771-a7d7-4e2c-e5f3-b78174a83b81"
      },
      "outputs": [
        {
          "data": {
            "text/plain": [
              "['.ipynb_checkpoints', 'hola.txt', 'python_stl.ipynb', 'test']"
            ]
          },
          "execution_count": 34,
          "metadata": {},
          "output_type": "execute_result"
        }
      ],
      "source": [
        "# crear una carpeta\n",
        "\n",
        "os.mkdir('test')\n",
        "os.listdir('.')"
      ]
    },
    {
      "cell_type": "code",
      "execution_count": null,
      "metadata": {
        "ExecuteTime": {
          "end_time": "2020-06-07T17:19:15.755577Z",
          "start_time": "2020-06-07T17:19:15.740741Z"
        },
        "hidden": true,
        "id": "xMeP8o20ufhk",
        "outputId": "1e660910-f59e-4f7c-d032-b295a26afbe2"
      },
      "outputs": [
        {
          "data": {
            "text/plain": [
              "['.ipynb_checkpoints', 'hola.txt', 'python_stl.ipynb']"
            ]
          },
          "execution_count": 35,
          "metadata": {},
          "output_type": "execute_result"
        }
      ],
      "source": [
        "# eliminar una carpeta\n",
        "\n",
        "os.rmdir('test')\n",
        "os.listdir('.')"
      ]
    },
    {
      "cell_type": "markdown",
      "metadata": {
        "hidden": true,
        "id": "4V3UCSGBufhk"
      },
      "source": [
        "> ⚠️ Si intentas eliminar una carpeta con contenido recibirás un error. Puedes solucionar esto utilizando el módulo [shutil](https://docs.python.org/3/library/shutil.html#module-shutil)."
      ]
    },
    {
      "cell_type": "markdown",
      "metadata": {
        "hidden": true,
        "id": "gw3j2LM9ufhk"
      },
      "source": [
        "El módulo `os` nos da muchísima funcionalidad para interactuar con el sistema operativo, puedes encontrar muchos ejemplos [aquí](https://docs.python.org/3/library/os.html)."
      ]
    },
    {
      "cell_type": "markdown",
      "metadata": {
        "heading_collapsed": true,
        "id": "CrmaBZh9ufhk"
      },
      "source": [
        "## El módulo `io`"
      ]
    },
    {
      "cell_type": "markdown",
      "metadata": {
        "hidden": true,
        "id": "cQcz7zBnufhl"
      },
      "source": [
        "Puedes leer una archivo con la función `open()`. Al ser una función tan utilizada no es necesario importar el módulo `io`."
      ]
    },
    {
      "cell_type": "code",
      "execution_count": null,
      "metadata": {
        "ExecuteTime": {
          "end_time": "2020-06-07T17:22:48.918680Z",
          "start_time": "2020-06-07T17:22:48.904372Z"
        },
        "hidden": true,
        "id": "1F9ooQg3ufhl"
      },
      "outputs": [],
      "source": [
        "f = open('hola.txt')"
      ]
    },
    {
      "cell_type": "markdown",
      "metadata": {
        "hidden": true,
        "id": "_SrJ3b5Aufhl"
      },
      "source": [
        "Podemos obtener cada línea dentro del archivo iterando de la siguiente manera"
      ]
    },
    {
      "cell_type": "code",
      "execution_count": null,
      "metadata": {
        "ExecuteTime": {
          "end_time": "2020-06-07T17:22:49.790096Z",
          "start_time": "2020-06-07T17:22:49.784096Z"
        },
        "hidden": true,
        "id": "JowV41Ybufhl",
        "outputId": "09845993-0ba4-416a-b489-1128a0f73be5"
      },
      "outputs": [
        {
          "name": "stdout",
          "output_type": "stream",
          "text": [
            "Esto es un archivo de prueba, esta es la primera linea.\n",
            "\n",
            "Esta es la segunda linea.\n"
          ]
        }
      ],
      "source": [
        "for l in f:\n",
        "    print(l)"
      ]
    },
    {
      "cell_type": "markdown",
      "metadata": {
        "hidden": true,
        "id": "viZlDt-Eufhl"
      },
      "source": [
        "Este módulo nos permite también escribir archivos. Puedes ver más opciones [aquí](https://docs.python.org/3/library/io.html). Sin embargo, normalmente trabajamos con archivos en un formato concreto (por ejemplo archivos `csv` o imágenes `png` o `jpg`) por lo que utilizaremos funciones específicas optimizadas para cada caso, definidas en librerías cono `pandas` o `scikit-image`."
      ]
    },
    {
      "cell_type": "markdown",
      "metadata": {
        "heading_collapsed": true,
        "id": "L3ecmjLFufhl"
      },
      "source": [
        "## Lanzando tareas en paralelo"
      ]
    },
    {
      "cell_type": "markdown",
      "metadata": {
        "hidden": true,
        "id": "ZJ3VSqCDufhl"
      },
      "source": [
        "En el proceso de análisis de datos es común ejecutar transformaciones u otras funciones sobre una gran cantidad de datos. Estos procesos pueden tardar mucho tiempo, y en ocasiones podemos aprovechar el hecho que la mayoría de CPUs tienen varios `cores` para ejecutar tareas en paralelo."
      ]
    },
    {
      "cell_type": "code",
      "execution_count": null,
      "metadata": {
        "ExecuteTime": {
          "end_time": "2020-06-07T18:07:44.097913Z",
          "start_time": "2020-06-07T18:07:40.038052Z"
        },
        "hidden": true,
        "id": "ONF4q_-9ufhl",
        "outputId": "edcfd39c-28f2-49ab-d1ee-361aad7cee3d"
      },
      "outputs": [
        {
          "name": "stdout",
          "output_type": "stream",
          "text": [
            "Soy el proceso 1\n",
            "Soy el proceso 2\n",
            "Soy el proceso 3\n",
            "Soy el proceso 4\n",
            "Wall time: 4.04 s\n"
          ]
        },
        {
          "data": {
            "text/plain": [
              "[2, 4, 6, 8]"
            ]
          },
          "execution_count": 48,
          "metadata": {},
          "output_type": "execute_result"
        }
      ],
      "source": [
        "import time\n",
        "\n",
        "def func(p):\n",
        "    print(f\"Soy el proceso {p}\")\n",
        "    time.sleep(1)\n",
        "    return 2*p\n",
        "\n",
        "p = [1, 2, 3, 4]\n",
        "\n",
        "%time results = [func(_p) for _p in p]\n",
        "\n",
        "results"
      ]
    },
    {
      "cell_type": "markdown",
      "metadata": {
        "hidden": true,
        "id": "c287dYgOufhl"
      },
      "source": [
        "El código anterior ejecuta la función `func` de manera secuencial. La función `time.sleep` hace que `Python` se pause por el tiempo indicado (en este caso 1 segundo). De esta manera podemos simular una función muy pesada."
      ]
    },
    {
      "cell_type": "markdown",
      "metadata": {
        "hidden": true,
        "id": "PO_zQBPyufhl"
      },
      "source": [
        "> ⚡ Al trabajar con notebooks tenemos a nuestra disposición los llamados comandos mágicos que nos ofrecen cierta funcionalidad. En este caso hemos usado el comando `%time` para saber cuanto tiempo tarda en ejecutarse una línea. Puedes ver otros comandos mágicos [aquí](https://ipython.readthedocs.io/en/stable/interactive/magics.html)."
      ]
    },
    {
      "cell_type": "markdown",
      "metadata": {
        "hidden": true,
        "id": "iFq7aTxhufhl"
      },
      "source": [
        "Vamos a ver ahora como ejecutar esta función en paralelo."
      ]
    },
    {
      "cell_type": "code",
      "execution_count": null,
      "metadata": {
        "ExecuteTime": {
          "end_time": "2020-06-07T18:08:00.941360Z",
          "start_time": "2020-06-07T18:07:59.908308Z"
        },
        "hidden": true,
        "id": "x30w7OAOufhl",
        "outputId": "63922410-19f2-4fa9-98e5-6c31182e5bc2"
      },
      "outputs": [
        {
          "name": "stdout",
          "output_type": "stream",
          "text": [
            "Soy el proceso 1\n",
            "Soy el proceso 2\n",
            "Soy el proceso 3\n",
            "Soy el proceso 4\n",
            "Wall time: 1.02 s\n"
          ]
        },
        {
          "data": {
            "text/plain": [
              "[2, 4, 6, 8]"
            ]
          },
          "execution_count": 49,
          "metadata": {},
          "output_type": "execute_result"
        }
      ],
      "source": [
        "import concurrent.futures\n",
        "\n",
        "with concurrent.futures.ThreadPoolExecutor() as executor:\n",
        "    %time results = list(executor.map(func, p))\n",
        "\n",
        "results"
      ]
    },
    {
      "cell_type": "markdown",
      "metadata": {
        "hidden": true,
        "id": "nQRRyk66ufhl"
      },
      "source": [
        "Como puedes ver se han ejecutado las 4 funciones a la vez (esto dependerá del número de `cores` de la CPU en la que se ejecute la función. Por defecto, el módulo `concurrent.futures` utilizará todos los cores disponibles). Esto nos puede dar un aumento de la velocidad de ejecución de nuestro código, lo cual implica un aumento considerable en nuestra productividad. Puedes explorar todas las opciones de procesado en paralelo que `Python` ofrece [aquí](https://docs.python.org/3/library/concurrency.html)."
      ]
    },
    {
      "cell_type": "markdown",
      "metadata": {
        "heading_collapsed": true,
        "id": "e_EaXkc7ufhl"
      },
      "source": [
        "## Otros módulos interesantes"
      ]
    },
    {
      "cell_type": "markdown",
      "metadata": {
        "hidden": true,
        "id": "0KoFeya8ufhm"
      },
      "source": [
        "La librería estándar de `Python` es muy extensa y llena de funcionalidad. De entre todos los módulos existentes, otros que te recomiendo explorar por su utilidad a la hora de llevar a cabo análisis de datos son los siguientes:\n",
        "\n",
        "- [json](https://docs.python.org/3/library/json.html) nos permite trabajar con datos y archivos en formato `json`.\n",
        "- [argparse](https://docs.python.org/3/library/argparse.html) es un módulo muy útil para el parseado de argumentos en línea de comandos (útil cuando ejecutamos scripts de `Python` por consola).\n",
        "- [pickle](https://docs.python.org/3/library/pickle.html) implementa protocolos para la serialización de objetos de `Python`. Esto nos permitirá guardar objetos enteros en archivos que luego podemos cargar de nuevo (útil para guardar modelos de IA una vez entrenados o *pipelines* de transformación de datos para utilizarlos más tarde).\n",
        "- [Compresión](https://docs.python.org/3/library/archiving.html) de datos: Aquí encontrarás varios módulos para comprimir y descomprimir archivos en varios formatos como `zip` o `tar`.\n",
        "- [urllib](https://docs.python.org/3/library/urllib.html) es un módulo útil para descargar datos de interent directamente desde URLs."
      ]
    },
    {
      "cell_type": "markdown",
      "metadata": {
        "id": "km6rpMydufhm"
      },
      "source": [
        "## Resumen"
      ]
    },
    {
      "cell_type": "markdown",
      "metadata": {
        "id": "DLa5SpMvufhm"
      },
      "source": [
        "En este post hemos visto como llevar a cabo muchas tareas comunes en el proceso del análisis de datos utilizando diferentes `módulos` implementados en la librería estándar de `Python`. Algunos ejemplos son los módulos `math` o `random` que implementan funciones matemáticas, el módulo `os` para interactuar con el sistema operativo, el módulo `io` para trabajar leer y escribir archivos y otros módulos interesantes para la ejecución de funciones en paralelo, la descarga de archivos de internet a través de URL, la descompresión de archivos, etc. Si bien estos módulos implementan funcionalidad muy útil para el análisis de datos, otros módulos externos (no disponibles en la librería estándar y que por lo tanto tendremos que instalar) nos ofrecerán mayor funcionalidad e implementaciones optimizadas. Algunos ejemplos son `Numpy` o `Pandas`, librerías que aprenderemos a utilizar en próximos posts."
      ]
    }
  ],
  "metadata": {
    "kernelspec": {
      "display_name": "Python 3",
      "language": "python",
      "name": "python3"
    },
    "language_info": {
      "codemirror_mode": {
        "name": "ipython",
        "version": 3
      },
      "file_extension": ".py",
      "mimetype": "text/x-python",
      "name": "python",
      "nbconvert_exporter": "python",
      "pygments_lexer": "ipython3",
      "version": "3.7.6"
    },
    "toc": {
      "base_numbering": 1,
      "nav_menu": {},
      "number_sections": true,
      "sideBar": true,
      "skip_h1_title": false,
      "title_cell": "Table of Contents",
      "title_sidebar": "Contents",
      "toc_cell": false,
      "toc_position": {},
      "toc_section_display": true,
      "toc_window_display": false
    },
    "colab": {
      "name": "6. Librería Estandar.ipynb",
      "provenance": [],
      "include_colab_link": true
    }
  },
  "nbformat": 4,
  "nbformat_minor": 0
}