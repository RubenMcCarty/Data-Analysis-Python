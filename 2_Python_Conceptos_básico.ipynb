{
  "cells": [
    {
      "cell_type": "markdown",
      "metadata": {
        "id": "view-in-github",
        "colab_type": "text"
      },
      "source": [
        "<a href=\"https://colab.research.google.com/github/RubenMcCarty/Data-Analysis-Python/blob/main/2_Python_Conceptos_b%C3%A1sico.ipynb\" target=\"_parent\"><img src=\"https://colab.research.google.com/assets/colab-badge.svg\" alt=\"Open In Colab\"/></a>"
      ]
    },
    {
      "cell_type": "markdown",
      "metadata": {
        "id": "_1hwMZ1EOyLG"
      },
      "source": [
        "# Python Conceptos básico\n",
        "# [MSc: Ruben Quispe](https://www.linkedin.com/in/ruben-quispe-l/)"
      ]
    },
    {
      "cell_type": "markdown",
      "metadata": {
        "id": "shP7W47vOyLG"
      },
      "source": [
        "En el post anterior hablamos sobre `Python` y su aplicación al campo del análisis de datos. Aprendimos a instalarlo y vimos diferentes herramientas que podemos utilizar para trabajar con él, desde *scripts* en un editor de texto como `VSCode` hasta *notebooks* en `Jupyter` o `Google Colab`."
      ]
    },
    {
      "cell_type": "markdown",
      "metadata": {
        "id": "TFw9xQefOyLG"
      },
      "source": [
        "En este post vamos a introducir la sintaxis básica de `Python` para entender conceptos esenciales de programación así como la mecánica del lenguaje. `Python` es un lenguaje diseñado con el objetivo de ser simple y explícito, asemejándose lo máximo posible al concepto de *pseudocódigo*."
      ]
    },
    {
      "cell_type": "markdown",
      "metadata": {
        "id": "AP3a65GfOyLG"
      },
      "source": [
        "## Objetos"
      ]
    },
    {
      "cell_type": "markdown",
      "metadata": {
        "id": "7Dpf6w7lOyLH"
      },
      "source": [
        "En `Python` cualquier número, cadena de caracteres (*string*), función, clase, módulo, etc, es considerado como un `objeto`, una \"caja\" con su propio tipo y datos internos que es tratada de la misma manera independientemente de su función. Este es uno de los motivos que hacen que `Python` sea un lenguaje tan flexible."
      ]
    },
    {
      "cell_type": "markdown",
      "metadata": {
        "id": "jDRhy7KbOyLH"
      },
      "source": [
        "## Comentarios"
      ]
    },
    {
      "cell_type": "markdown",
      "metadata": {
        "id": "whJ1UCv5OyLH"
      },
      "source": [
        "Podemos utilizar el símbolo `#` para incluir texto que no queremos que sea ejecutado, es decir, que sea ignorado por `Python`. Esto suele utilizarse para incluir `comentarios` en nuestro código, indicando la funcionalidad del mismo o cualquier aspecto que otra persona tenga que tener en cuenta si alguna vez se encuentra con nuestro programa."
      ]
    },
    {
      "cell_type": "code",
      "execution_count": null,
      "metadata": {
        "ExecuteTime": {
          "end_time": "2020-05-20T13:22:51.650925Z",
          "start_time": "2020-05-20T13:22:51.646926Z"
        },
        "id": "_J9pIh3bOyLI"
      },
      "outputs": [],
      "source": [
        "# esto es un comentario, Python ignorará esta línea"
      ]
    },
    {
      "cell_type": "markdown",
      "metadata": {
        "id": "60fNwZZOOyLI"
      },
      "source": [
        "## Variables y referencias"
      ]
    },
    {
      "cell_type": "markdown",
      "metadata": {
        "id": "1lmjt2_pOyLJ"
      },
      "source": [
        "Cuando asignamos una `variable` en `Python` estamos creando una `referencia` al `objeto` de la derecha del símbolo `=`. Esto significa que cualquier cambio aplicado al objeto original se verá también reflejado en la nueva variable, a diferencia de lo que ocurriría si se crease una copia. "
      ]
    },
    {
      "cell_type": "code",
      "execution_count": null,
      "metadata": {
        "ExecuteTime": {
          "end_time": "2020-05-20T13:29:31.135667Z",
          "start_time": "2020-05-20T13:29:31.130667Z"
        },
        "id": "u4xB9n-5OyLJ",
        "outputId": "809389fc-bd5c-4926-f0fe-5941608a6fab"
      },
      "outputs": [
        {
          "data": {
            "text/plain": [
              "[1, 2, 3]"
            ]
          },
          "execution_count": 23,
          "metadata": {},
          "output_type": "execute_result"
        }
      ],
      "source": [
        "a = [1, 2, 3]\n",
        "a"
      ]
    },
    {
      "cell_type": "markdown",
      "metadata": {
        "id": "2XvcyjpYOyLK"
      },
      "source": [
        "> 💡 En este ejemplo, la variable `a` es una `lista`, un tipo de estructura de datos que `Python` nos ofrece para almacenar objetos de manera secuencial. Hablaremos sobre listas (y otras estructuras de datos) más adelante."
      ]
    },
    {
      "cell_type": "code",
      "execution_count": null,
      "metadata": {
        "ExecuteTime": {
          "end_time": "2020-05-20T13:29:33.174226Z",
          "start_time": "2020-05-20T13:29:33.164719Z"
        },
        "id": "vMhUp9GROyLK",
        "outputId": "a147bf7b-32a0-4e88-b0e5-11fa2539ec86"
      },
      "outputs": [
        {
          "data": {
            "text/plain": [
              "[1, 2, 3]"
            ]
          },
          "execution_count": 24,
          "metadata": {},
          "output_type": "execute_result"
        }
      ],
      "source": [
        "b = a\n",
        "b"
      ]
    },
    {
      "cell_type": "code",
      "execution_count": null,
      "metadata": {
        "ExecuteTime": {
          "end_time": "2020-05-20T13:29:38.440655Z",
          "start_time": "2020-05-20T13:29:38.424600Z"
        },
        "id": "TDIJpoGnOyLK",
        "outputId": "3591bbb7-d9da-4ebd-8138-7087becab7a3"
      },
      "outputs": [
        {
          "data": {
            "text/plain": [
              "[1, 2, 3, 4]"
            ]
          },
          "execution_count": 25,
          "metadata": {},
          "output_type": "execute_result"
        }
      ],
      "source": [
        "a.append(4)\n",
        "a"
      ]
    },
    {
      "cell_type": "code",
      "execution_count": null,
      "metadata": {
        "ExecuteTime": {
          "end_time": "2020-05-20T13:29:39.566330Z",
          "start_time": "2020-05-20T13:29:39.550863Z"
        },
        "id": "uqADhkQ6OyLK",
        "outputId": "549341ac-a2fc-4117-981e-d001f74ccf8c"
      },
      "outputs": [
        {
          "data": {
            "text/plain": [
              "[1, 2, 3, 4]"
            ]
          },
          "execution_count": 26,
          "metadata": {},
          "output_type": "execute_result"
        }
      ],
      "source": [
        "b"
      ]
    },
    {
      "cell_type": "markdown",
      "metadata": {
        "id": "KkZa-clZOyLK"
      },
      "source": [
        "Entender cuándo, cómo y por qué los datos son copiados o referenciados es importante, sobre todo cuando trabajamos con grandes *datasets*."
      ]
    },
    {
      "cell_type": "markdown",
      "metadata": {
        "id": "vTl6Cig5OyLL"
      },
      "source": [
        "## Referencias dinámicas"
      ]
    },
    {
      "cell_type": "markdown",
      "metadata": {
        "id": "QuwcvPe4OyLL"
      },
      "source": [
        "A diferencia de otros lenguajes, una variable en `Python` (al ser una referencia a otro objeto) no tiene ningún tipo asociado, toda la información está almacenada en el objeto original. "
      ]
    },
    {
      "cell_type": "code",
      "execution_count": null,
      "metadata": {
        "ExecuteTime": {
          "end_time": "2020-05-20T13:34:53.534462Z",
          "start_time": "2020-05-20T13:34:53.523953Z"
        },
        "id": "c4N91guAOyLL",
        "outputId": "a01199ba-538e-4a20-b16f-a460164a257b"
      },
      "outputs": [
        {
          "data": {
            "text/plain": [
              "1"
            ]
          },
          "execution_count": 27,
          "metadata": {},
          "output_type": "execute_result"
        }
      ],
      "source": [
        "a = 1\n",
        "a"
      ]
    },
    {
      "cell_type": "code",
      "execution_count": null,
      "metadata": {
        "ExecuteTime": {
          "end_time": "2020-05-20T13:34:59.450010Z",
          "start_time": "2020-05-20T13:34:59.434011Z"
        },
        "id": "-1FlM44eOyLL",
        "outputId": "66191cc2-2dba-4e1b-f676-6d920f63d325"
      },
      "outputs": [
        {
          "data": {
            "text/plain": [
              "'hola'"
            ]
          },
          "execution_count": 28,
          "metadata": {},
          "output_type": "execute_result"
        }
      ],
      "source": [
        "a = \"hola\"\n",
        "a"
      ]
    },
    {
      "cell_type": "markdown",
      "metadata": {
        "id": "PHb_9CBTOyLL"
      },
      "source": [
        "Podemos cambiar el objeto al que una variable hace referencia en cualquier momento. Podemos conocer el tipo del objeto al que una variable hace referencia con la función `isinstance`."
      ]
    },
    {
      "cell_type": "code",
      "execution_count": null,
      "metadata": {
        "ExecuteTime": {
          "end_time": "2020-05-20T13:36:41.381530Z",
          "start_time": "2020-05-20T13:36:41.364960Z"
        },
        "id": "wOCOE5SdOyLL",
        "outputId": "dec1522d-69e0-47ab-e123-758732d02441"
      },
      "outputs": [
        {
          "data": {
            "text/plain": [
              "True"
            ]
          },
          "execution_count": 29,
          "metadata": {},
          "output_type": "execute_result"
        }
      ],
      "source": [
        "# a es un número entero (int)\n",
        "\n",
        "a = 1\n",
        "isinstance(a, int)"
      ]
    },
    {
      "cell_type": "code",
      "execution_count": null,
      "metadata": {
        "ExecuteTime": {
          "end_time": "2020-05-20T13:36:46.594029Z",
          "start_time": "2020-05-20T13:36:46.584681Z"
        },
        "id": "0cVf0bGeOyLL",
        "outputId": "871b624c-532b-46a5-b1aa-8f72c1ec1cc4"
      },
      "outputs": [
        {
          "data": {
            "text/plain": [
              "False"
            ]
          },
          "execution_count": 30,
          "metadata": {},
          "output_type": "execute_result"
        }
      ],
      "source": [
        "# a no es un string (str)\n",
        "\n",
        "a = 1\n",
        "isinstance(a, str)"
      ]
    },
    {
      "cell_type": "code",
      "execution_count": null,
      "metadata": {
        "ExecuteTime": {
          "end_time": "2020-05-20T13:36:52.857432Z",
          "start_time": "2020-05-20T13:36:52.852431Z"
        },
        "id": "OxI6HKHrOyLM",
        "outputId": "0df79e22-6c90-4b4e-8e3b-9375293c30c1"
      },
      "outputs": [
        {
          "data": {
            "text/plain": [
              "True"
            ]
          },
          "execution_count": 31,
          "metadata": {},
          "output_type": "execute_result"
        }
      ],
      "source": [
        "# a sí es un string (str)\n",
        "\n",
        "\n",
        "a = \"hola\"\n",
        "isinstance(a, str)"
      ]
    },
    {
      "cell_type": "markdown",
      "metadata": {
        "id": "xMME-bmtOyLM"
      },
      "source": [
        "## Métodos y atributos"
      ]
    },
    {
      "cell_type": "markdown",
      "metadata": {
        "id": "NzQgB4i3OyLM"
      },
      "source": [
        "La mayoría de `objetos` en `Python` tienen `métodos` (funciones asociadas con el objeto) y `atributos` (otros objetos guardados en su interior). Por ejemplo, un objeto de tipo `str` tiene métodos para convertirlo a mayúsculas, separarlo en caracteres, etc."
      ]
    },
    {
      "cell_type": "code",
      "execution_count": null,
      "metadata": {
        "ExecuteTime": {
          "end_time": "2020-05-20T13:44:27.159830Z",
          "start_time": "2020-05-20T13:44:27.154764Z"
        },
        "id": "cfMYZdLJOyLM",
        "outputId": "fef1097a-046f-4871-e253-05ab1c3e451c"
      },
      "outputs": [
        {
          "data": {
            "text/plain": [
              "'Hola'"
            ]
          },
          "execution_count": 35,
          "metadata": {},
          "output_type": "execute_result"
        }
      ],
      "source": [
        "a = \"hola\"\n",
        "a.capitalize()"
      ]
    },
    {
      "cell_type": "code",
      "execution_count": null,
      "metadata": {
        "ExecuteTime": {
          "end_time": "2020-05-20T13:44:37.721881Z",
          "start_time": "2020-05-20T13:44:37.707862Z"
        },
        "id": "oZjbfmvBOyLM",
        "outputId": "077aca9b-9239-4837-a2fa-155b67f1e3db"
      },
      "outputs": [
        {
          "data": {
            "text/plain": [
              "'HOLA'"
            ]
          },
          "execution_count": 37,
          "metadata": {},
          "output_type": "execute_result"
        }
      ],
      "source": [
        "a.upper()"
      ]
    },
    {
      "cell_type": "markdown",
      "metadata": {
        "id": "Mj_BYPjlOyLM"
      },
      "source": [
        "Esto nos aporta una gran funcionalidad por defecto que podemos aprovechar y que de otra forma tendriamos que implementar nosotros mismos."
      ]
    },
    {
      "cell_type": "markdown",
      "metadata": {
        "id": "1obSqoAEOyLM"
      },
      "source": [
        "## Operadores binarios y comparación"
      ]
    },
    {
      "cell_type": "markdown",
      "metadata": {
        "id": "UT8aDpA9OyLM"
      },
      "source": [
        "En `Python` tenemos disponibles prácticamente todos los operadores binarios que podemos esperar de cualquier lenguaje de programación"
      ]
    },
    {
      "cell_type": "code",
      "execution_count": null,
      "metadata": {
        "ExecuteTime": {
          "end_time": "2020-05-20T13:52:20.342389Z",
          "start_time": "2020-05-20T13:52:20.325562Z"
        },
        "id": "T9GUl1ovOyLM",
        "outputId": "b8332806-6bbe-446b-d40b-d3cefa9c19c6"
      },
      "outputs": [
        {
          "data": {
            "text/plain": [
              "2"
            ]
          },
          "execution_count": 45,
          "metadata": {},
          "output_type": "execute_result"
        }
      ],
      "source": [
        "# suma\n",
        "\n",
        "1 + 1"
      ]
    },
    {
      "cell_type": "code",
      "execution_count": null,
      "metadata": {
        "ExecuteTime": {
          "end_time": "2020-05-20T13:52:28.329968Z",
          "start_time": "2020-05-20T13:52:28.320988Z"
        },
        "id": "gzS3zIxbOyLN",
        "outputId": "5f441f05-7f22-40ad-8ad2-9c689f82b156"
      },
      "outputs": [
        {
          "data": {
            "text/plain": [
              "1"
            ]
          },
          "execution_count": 46,
          "metadata": {},
          "output_type": "execute_result"
        }
      ],
      "source": [
        "# resta\n",
        "\n",
        "2 - 1"
      ]
    },
    {
      "cell_type": "code",
      "execution_count": null,
      "metadata": {
        "ExecuteTime": {
          "end_time": "2020-05-20T13:52:35.067904Z",
          "start_time": "2020-05-20T13:52:35.050874Z"
        },
        "id": "unHktmHFOyLN",
        "outputId": "384c7456-b6bc-4a21-eb80-e854304717ce"
      },
      "outputs": [
        {
          "data": {
            "text/plain": [
              "6"
            ]
          },
          "execution_count": 47,
          "metadata": {},
          "output_type": "execute_result"
        }
      ],
      "source": [
        "# multiplicación\n",
        "\n",
        "2 * 3"
      ]
    },
    {
      "cell_type": "code",
      "execution_count": null,
      "metadata": {
        "ExecuteTime": {
          "end_time": "2020-05-20T13:52:39.421437Z",
          "start_time": "2020-05-20T13:52:39.405408Z"
        },
        "id": "P41UGXB4OyLN",
        "outputId": "a85806b4-dc28-458f-8f32-a1175f246c33"
      },
      "outputs": [
        {
          "data": {
            "text/plain": [
              "0.5"
            ]
          },
          "execution_count": 48,
          "metadata": {},
          "output_type": "execute_result"
        }
      ],
      "source": [
        "# división\n",
        "\n",
        "1 / 2"
      ]
    },
    {
      "cell_type": "code",
      "execution_count": null,
      "metadata": {
        "ExecuteTime": {
          "end_time": "2020-05-20T13:52:45.660082Z",
          "start_time": "2020-05-20T13:52:45.650568Z"
        },
        "id": "n1-Kgf5ZOyLN",
        "outputId": "caf3a704-f7a8-4f5b-875a-17c37399c87a"
      },
      "outputs": [
        {
          "data": {
            "text/plain": [
              "1"
            ]
          },
          "execution_count": 49,
          "metadata": {},
          "output_type": "execute_result"
        }
      ],
      "source": [
        "# division entera\n",
        "\n",
        "3 // 2"
      ]
    },
    {
      "cell_type": "code",
      "execution_count": null,
      "metadata": {
        "ExecuteTime": {
          "end_time": "2020-05-20T13:53:00.139296Z",
          "start_time": "2020-05-20T13:53:00.121258Z"
        },
        "id": "XNP1T-XcOyLN",
        "outputId": "0bbbb6cf-85ef-4331-9a72-62e3eb1d07c9"
      },
      "outputs": [
        {
          "data": {
            "text/plain": [
              "8"
            ]
          },
          "execution_count": 50,
          "metadata": {},
          "output_type": "execute_result"
        }
      ],
      "source": [
        "# potenciación\n",
        "\n",
        "2**3"
      ]
    },
    {
      "cell_type": "code",
      "execution_count": null,
      "metadata": {
        "ExecuteTime": {
          "end_time": "2020-05-20T13:54:13.130043Z",
          "start_time": "2020-05-20T13:54:13.122401Z"
        },
        "id": "ZOB8U_JnOyLN",
        "outputId": "7ffd5c92-dbca-49db-ab28-8b9f5fdec099"
      },
      "outputs": [
        {
          "data": {
            "text/plain": [
              "False"
            ]
          },
          "execution_count": 54,
          "metadata": {},
          "output_type": "execute_result"
        }
      ],
      "source": [
        "# operador AND (True si ambos operadores son True)\n",
        "\n",
        "True & False"
      ]
    },
    {
      "cell_type": "code",
      "execution_count": null,
      "metadata": {
        "ExecuteTime": {
          "end_time": "2020-05-20T13:54:09.094934Z",
          "start_time": "2020-05-20T13:54:09.082417Z"
        },
        "id": "zs3B3m4eOyLN",
        "outputId": "14457f69-3c7e-4d84-98f1-e0351fdc1050"
      },
      "outputs": [
        {
          "data": {
            "text/plain": [
              "True"
            ]
          },
          "execution_count": 53,
          "metadata": {},
          "output_type": "execute_result"
        }
      ],
      "source": [
        "# operador OR (True si alguno de los operadores es True)\n",
        "\n",
        "True | False"
      ]
    },
    {
      "cell_type": "markdown",
      "metadata": {
        "id": "LFbZLunBOyLN"
      },
      "source": [
        "Lo mismo ocurre con los operadores de comparación"
      ]
    },
    {
      "cell_type": "code",
      "execution_count": null,
      "metadata": {
        "ExecuteTime": {
          "end_time": "2020-05-20T13:55:21.026269Z",
          "start_time": "2020-05-20T13:55:21.014212Z"
        },
        "id": "XboAZlcvOyLN",
        "outputId": "b181acdf-3f72-4a54-e2f9-9f1785238288"
      },
      "outputs": [
        {
          "data": {
            "text/plain": [
              "False"
            ]
          },
          "execution_count": 55,
          "metadata": {},
          "output_type": "execute_result"
        }
      ],
      "source": [
        "# igualdad\n",
        "\n",
        "1 == 2"
      ]
    },
    {
      "cell_type": "code",
      "execution_count": null,
      "metadata": {
        "ExecuteTime": {
          "end_time": "2020-05-20T13:55:31.484775Z",
          "start_time": "2020-05-20T13:55:31.478768Z"
        },
        "id": "wBxajn5KOyLN",
        "outputId": "030c7d9a-9787-4fd1-91ac-bf16f3e80d7f"
      },
      "outputs": [
        {
          "data": {
            "text/plain": [
              "True"
            ]
          },
          "execution_count": 56,
          "metadata": {},
          "output_type": "execute_result"
        }
      ],
      "source": [
        "# desigualdad\n",
        "\n",
        "1 != 2"
      ]
    },
    {
      "cell_type": "code",
      "execution_count": null,
      "metadata": {
        "ExecuteTime": {
          "end_time": "2020-05-20T13:55:54.603180Z",
          "start_time": "2020-05-20T13:55:54.594615Z"
        },
        "id": "FzORi60SOyLN",
        "outputId": "659e0734-5c87-4c29-c03c-1f78aa93ad2f"
      },
      "outputs": [
        {
          "data": {
            "text/plain": [
              "False"
            ]
          },
          "execution_count": 59,
          "metadata": {},
          "output_type": "execute_result"
        }
      ],
      "source": [
        "# menor que\n",
        "\n",
        "1 < 1"
      ]
    },
    {
      "cell_type": "code",
      "execution_count": null,
      "metadata": {
        "ExecuteTime": {
          "end_time": "2020-05-20T13:55:52.576125Z",
          "start_time": "2020-05-20T13:55:52.561126Z"
        },
        "id": "JrY3DYpsOyLN",
        "outputId": "130491f9-3730-45e9-b1cc-86622b9c9fd5"
      },
      "outputs": [
        {
          "data": {
            "text/plain": [
              "True"
            ]
          },
          "execution_count": 58,
          "metadata": {},
          "output_type": "execute_result"
        }
      ],
      "source": [
        "# menor o igual que\n",
        "\n",
        "1 <= 1"
      ]
    },
    {
      "cell_type": "code",
      "execution_count": null,
      "metadata": {
        "ExecuteTime": {
          "end_time": "2020-05-20T13:56:06.272116Z",
          "start_time": "2020-05-20T13:56:06.262118Z"
        },
        "id": "PZ5asYjROyLO",
        "outputId": "422dfce0-9682-49ec-fefb-06a716057cdc"
      },
      "outputs": [
        {
          "data": {
            "text/plain": [
              "True"
            ]
          },
          "execution_count": 60,
          "metadata": {},
          "output_type": "execute_result"
        }
      ],
      "source": [
        "# mayor que\n",
        "\n",
        "3 > 2"
      ]
    },
    {
      "cell_type": "code",
      "execution_count": null,
      "metadata": {
        "ExecuteTime": {
          "end_time": "2020-05-20T13:56:17.549764Z",
          "start_time": "2020-05-20T13:56:17.540764Z"
        },
        "id": "UERmXOEOOyLO",
        "outputId": "4feb7ae8-a0af-4b4a-f835-6d18d778a50f"
      },
      "outputs": [
        {
          "data": {
            "text/plain": [
              "False"
            ]
          },
          "execution_count": 61,
          "metadata": {},
          "output_type": "execute_result"
        }
      ],
      "source": [
        "# mayor o igual que\n",
        "\n",
        "2 >= 3"
      ]
    },
    {
      "cell_type": "markdown",
      "metadata": {
        "id": "B9DkBSABOyLO"
      },
      "source": [
        "## Tipos básicos"
      ]
    },
    {
      "cell_type": "markdown",
      "metadata": {
        "id": "dq3MA7k2OyLO"
      },
      "source": [
        "En `Python` encontramos varios tipos por defecto"
      ]
    },
    {
      "cell_type": "code",
      "execution_count": null,
      "metadata": {
        "ExecuteTime": {
          "end_time": "2020-05-20T14:00:01.942663Z",
          "start_time": "2020-05-20T14:00:01.927666Z"
        },
        "id": "yPF5ujOAOyLO",
        "outputId": "396953ae-de5b-419a-fa86-1f8a6119aca3"
      },
      "outputs": [
        {
          "data": {
            "text/plain": [
              "float"
            ]
          },
          "execution_count": 67,
          "metadata": {},
          "output_type": "execute_result"
        }
      ],
      "source": [
        "# número decimal\n",
        "\n",
        "float"
      ]
    },
    {
      "cell_type": "code",
      "execution_count": null,
      "metadata": {
        "ExecuteTime": {
          "end_time": "2020-05-20T14:00:31.986227Z",
          "start_time": "2020-05-20T14:00:31.969226Z"
        },
        "id": "AY3tgf9yOyLO",
        "outputId": "8d3b8d9e-56e1-4513-d6ff-c0176ca07d48"
      },
      "outputs": [
        {
          "data": {
            "text/plain": [
              "int"
            ]
          },
          "execution_count": 69,
          "metadata": {},
          "output_type": "execute_result"
        }
      ],
      "source": [
        "# número entero \n",
        "\n",
        "int"
      ]
    },
    {
      "cell_type": "code",
      "execution_count": null,
      "metadata": {
        "id": "zqTH3m6VOyLO"
      },
      "outputs": [],
      "source": [
        "# número decimal\n",
        "\n",
        "a = 1.34\n",
        "\n",
        "# número entero\n",
        "\n",
        "b = 2"
      ]
    },
    {
      "cell_type": "code",
      "execution_count": null,
      "metadata": {
        "ExecuteTime": {
          "end_time": "2020-05-20T13:59:33.454104Z",
          "start_time": "2020-05-20T13:59:33.440106Z"
        },
        "id": "FieRa7sAOyLO",
        "outputId": "293040ec-5d2b-48e4-c13f-9d1040a884fb"
      },
      "outputs": [
        {
          "data": {
            "text/plain": [
              "str"
            ]
          },
          "execution_count": 65,
          "metadata": {},
          "output_type": "execute_result"
        }
      ],
      "source": [
        "# string\n",
        "\n",
        "str"
      ]
    },
    {
      "cell_type": "markdown",
      "metadata": {
        "id": "Se6fDicCOyLO"
      },
      "source": [
        "Una de las características por las que `Python` brilla es su potencia a la hora de trabajar con *strings*."
      ]
    },
    {
      "cell_type": "code",
      "execution_count": null,
      "metadata": {
        "ExecuteTime": {
          "end_time": "2020-05-20T14:44:58.444668Z",
          "start_time": "2020-05-20T14:44:58.430650Z"
        },
        "id": "_SW2Ko18OyLO"
      },
      "outputs": [],
      "source": [
        "a = 'esto es una cadena de caracteres'\n",
        "b = \"podemos usar comillas simples o dobles\"\n",
        "c = \"\"\"\n",
        "    Podemos hacer cadenas de múltiples líneas\n",
        "    con triples comillas (simples o dobles)\n",
        "\"\"\""
      ]
    },
    {
      "cell_type": "markdown",
      "metadata": {
        "id": "w4svw-FPOyLO"
      },
      "source": [
        "La función `print` es muy útil para mostrar por consola un *string*."
      ]
    },
    {
      "cell_type": "code",
      "execution_count": null,
      "metadata": {
        "ExecuteTime": {
          "end_time": "2020-05-20T14:45:08.800450Z",
          "start_time": "2020-05-20T14:45:08.783374Z"
        },
        "id": "40UQFJYtOyLO",
        "outputId": "634f8442-4d85-49d5-809b-357d02d2bf7f"
      },
      "outputs": [
        {
          "name": "stdout",
          "output_type": "stream",
          "text": [
            "\n",
            "    Podemos hacer cadenas de múltiples líneas\n",
            "    con triples comillas (simples o dobles)\n",
            "\n"
          ]
        }
      ],
      "source": [
        "print(c)"
      ]
    },
    {
      "cell_type": "markdown",
      "metadata": {
        "id": "UtCyznK0OyLO"
      },
      "source": [
        "Podemos transformar otros tipos de datos a *string* con la función `str`."
      ]
    },
    {
      "cell_type": "code",
      "execution_count": null,
      "metadata": {
        "ExecuteTime": {
          "end_time": "2020-05-20T14:08:20.612592Z",
          "start_time": "2020-05-20T14:08:20.593975Z"
        },
        "id": "NUGgb_SXOyLO",
        "outputId": "a629f314-4d05-470e-fa10-213095fce412"
      },
      "outputs": [
        {
          "data": {
            "text/plain": [
              "'1.3'"
            ]
          },
          "execution_count": 74,
          "metadata": {},
          "output_type": "execute_result"
        }
      ],
      "source": [
        "a = 1.3\n",
        "b = str(a)\n",
        "b"
      ]
    },
    {
      "cell_type": "markdown",
      "metadata": {
        "id": "HN_hfrfBOyLO"
      },
      "source": [
        "Aunque la forma más versátil es utilizando *string templates*."
      ]
    },
    {
      "cell_type": "code",
      "execution_count": null,
      "metadata": {
        "ExecuteTime": {
          "end_time": "2020-05-20T14:09:11.767016Z",
          "start_time": "2020-05-20T14:09:11.748990Z"
        },
        "id": "VdSh_UcUOyLP",
        "outputId": "2adc7ffd-d583-4a1a-901e-1e1c2f181f8c"
      },
      "outputs": [
        {
          "name": "stdout",
          "output_type": "stream",
          "text": [
            "el valor de 'a' es 1.3\n"
          ]
        }
      ],
      "source": [
        "c = f\"el valor de 'a' es {a}\"\n",
        "print(c)"
      ]
    },
    {
      "cell_type": "code",
      "execution_count": null,
      "metadata": {
        "ExecuteTime": {
          "end_time": "2020-05-20T14:10:39.894860Z",
          "start_time": "2020-05-20T14:10:39.887340Z"
        },
        "id": "AcQSEPN1OyLP",
        "outputId": "40e76a61-c2f0-43d5-a239-9d43fb04cd23"
      },
      "outputs": [
        {
          "data": {
            "text/plain": [
              "bool"
            ]
          },
          "execution_count": 77,
          "metadata": {},
          "output_type": "execute_result"
        }
      ],
      "source": [
        "# booleano\n",
        "\n",
        "bool"
      ]
    },
    {
      "cell_type": "markdown",
      "metadata": {
        "id": "kubVeBKhOyLP"
      },
      "source": [
        "Sólo existen dos valores booleanos: `True` y `False`."
      ]
    },
    {
      "cell_type": "code",
      "execution_count": null,
      "metadata": {
        "ExecuteTime": {
          "end_time": "2020-05-20T13:59:49.896039Z",
          "start_time": "2020-05-20T13:59:49.880042Z"
        },
        "id": "tdX39C60OyLP",
        "outputId": "b3ba15af-52ac-45c6-b689-c971877c16bb"
      },
      "outputs": [
        {
          "data": {
            "text/plain": [
              "bytes"
            ]
          },
          "execution_count": 66,
          "metadata": {},
          "output_type": "execute_result"
        }
      ],
      "source": [
        "# cadena de bytes\n",
        "\n",
        "bytes"
      ]
    },
    {
      "cell_type": "code",
      "execution_count": null,
      "metadata": {
        "ExecuteTime": {
          "end_time": "2020-05-20T13:59:22.332664Z",
          "start_time": "2020-05-20T13:59:22.329667Z"
        },
        "id": "JPmxYo-YOyLP"
      },
      "outputs": [],
      "source": [
        "# valor inexistente\n",
        "\n",
        "None"
      ]
    },
    {
      "cell_type": "markdown",
      "metadata": {
        "id": "_4TZ8-isOyLP"
      },
      "source": [
        "## Control de flujo"
      ]
    },
    {
      "cell_type": "markdown",
      "metadata": {
        "id": "SSz0m2nYOyLP"
      },
      "source": [
        "En `Python` podemos encontrar varias palabras reservadas para la lógica condicional, bucles y otros métodos de control de flujo."
      ]
    },
    {
      "cell_type": "code",
      "execution_count": null,
      "metadata": {
        "ExecuteTime": {
          "end_time": "2020-05-20T14:16:58.135757Z",
          "start_time": "2020-05-20T14:16:58.123758Z"
        },
        "id": "84RjXYLEOyLP",
        "outputId": "7a419ef1-fe1f-4ae1-dd87-9ea860a5bb91"
      },
      "outputs": [
        {
          "name": "stdout",
          "output_type": "stream",
          "text": [
            "positivo\n"
          ]
        }
      ],
      "source": [
        "# if, elif, else\n",
        "\n",
        "x = 1\n",
        "\n",
        "if x < 0:\n",
        "    print(\"negativo\")\n",
        "elif x == 0:\n",
        "    print(\"cero\")\n",
        "else:\n",
        "    print(\"positivo\")"
      ]
    },
    {
      "cell_type": "markdown",
      "metadata": {
        "id": "Sm3KaI7cOyLP"
      },
      "source": [
        "> ⚠️ Para estructurar nuestro código con `Python` utilizamos indentación en vez de llaves como otros lenguajes de programación."
      ]
    },
    {
      "cell_type": "markdown",
      "metadata": {
        "id": "bj9U2f2SOyLP"
      },
      "source": [
        "Utilizamos bucles `for` para iterar sobre un `iterador`."
      ]
    },
    {
      "cell_type": "code",
      "execution_count": null,
      "metadata": {
        "ExecuteTime": {
          "end_time": "2020-05-20T14:17:58.188730Z",
          "start_time": "2020-05-20T14:17:58.180729Z"
        },
        "id": "UrdfnJqjOyLP",
        "outputId": "2190279a-f12a-4d88-e934-7cf6d192f18c"
      },
      "outputs": [
        {
          "name": "stdout",
          "output_type": "stream",
          "text": [
            "0\n",
            "1\n",
            "2\n"
          ]
        }
      ],
      "source": [
        "# bucle for\n",
        "\n",
        "for i in range(3):\n",
        "    print(i)"
      ]
    },
    {
      "cell_type": "markdown",
      "metadata": {
        "id": "jIs85lKzOyLP"
      },
      "source": [
        "> 💡 La función `range` nos devuelve un iterador sobre una secuencia consecutiva de números enteros."
      ]
    },
    {
      "cell_type": "markdown",
      "metadata": {
        "id": "FanulJguOyLP"
      },
      "source": [
        "Podemos saltar al siguiente paso con la palabra `continue`."
      ]
    },
    {
      "cell_type": "code",
      "execution_count": null,
      "metadata": {
        "ExecuteTime": {
          "end_time": "2020-05-20T14:19:33.141435Z",
          "start_time": "2020-05-20T14:19:33.136901Z"
        },
        "id": "G-9GsvcMOyLP",
        "outputId": "65a81575-b689-4db0-ffff-230255af1d44"
      },
      "outputs": [
        {
          "name": "stdout",
          "output_type": "stream",
          "text": [
            "0\n",
            "2\n",
            "4\n"
          ]
        }
      ],
      "source": [
        "for i in range(5):\n",
        "    # si el número es impar, saltar al siguiente paso \n",
        "    # sin hacer el 'print'\n",
        "    if i % 2:\n",
        "        continue\n",
        "    print(i)"
      ]
    },
    {
      "cell_type": "markdown",
      "metadata": {
        "id": "hpUfy0EAOyLP"
      },
      "source": [
        "También podemos detener el bucle con la palabra `break`."
      ]
    },
    {
      "cell_type": "code",
      "execution_count": null,
      "metadata": {
        "ExecuteTime": {
          "end_time": "2020-05-20T14:20:48.253794Z",
          "start_time": "2020-05-20T14:20:48.246793Z"
        },
        "id": "4i9irMqROyLP",
        "outputId": "c199a1e3-89ad-4351-95ca-4ce14e90d74c"
      },
      "outputs": [
        {
          "name": "stdout",
          "output_type": "stream",
          "text": [
            "0\n",
            "1\n",
            "2\n"
          ]
        }
      ],
      "source": [
        "for i in range(5):\n",
        "    # parar cuando lleguemos a 3\n",
        "    if i >= 3:\n",
        "        break\n",
        "    print(i)"
      ]
    },
    {
      "cell_type": "markdown",
      "metadata": {
        "id": "auAGVV_ZOyLP"
      },
      "source": [
        "Como en otros lenguajes, podemos usar un bucle `while` para ejectuar código siempre y cuando se cumpla una condición"
      ]
    },
    {
      "cell_type": "code",
      "execution_count": null,
      "metadata": {
        "ExecuteTime": {
          "end_time": "2020-05-20T14:24:26.340777Z",
          "start_time": "2020-05-20T14:24:26.332791Z"
        },
        "id": "zokWFzPqOyLP",
        "outputId": "39d7d918-177e-490d-fe0e-f17f6be2339e"
      },
      "outputs": [
        {
          "name": "stdout",
          "output_type": "stream",
          "text": [
            "0\n",
            "1\n",
            "2\n"
          ]
        }
      ],
      "source": [
        "i = 0\n",
        "while i < 3:\n",
        "    print(i)\n",
        "    i = i + 1"
      ]
    },
    {
      "cell_type": "markdown",
      "metadata": {
        "id": "3XvNJMkPOyLQ"
      },
      "source": [
        "Una funcionalidad que puede ahorrarnos varias líneas de código es el uso del operador ternario"
      ]
    },
    {
      "cell_type": "code",
      "execution_count": null,
      "metadata": {
        "ExecuteTime": {
          "end_time": "2020-05-20T14:27:06.937211Z",
          "start_time": "2020-05-20T14:27:06.921705Z"
        },
        "id": "ZOEz6swROyLQ",
        "outputId": "62de5175-90ce-4613-c163-270dc1f21739"
      },
      "outputs": [
        {
          "data": {
            "text/plain": [
              "1"
            ]
          },
          "execution_count": 91,
          "metadata": {},
          "output_type": "execute_result"
        }
      ],
      "source": [
        "x = 1\n",
        "if x > 0:\n",
        "    a = x\n",
        "else:\n",
        "    a = 0\n",
        "a"
      ]
    },
    {
      "cell_type": "code",
      "execution_count": null,
      "metadata": {
        "ExecuteTime": {
          "end_time": "2020-05-20T14:27:08.853002Z",
          "start_time": "2020-05-20T14:27:08.845492Z"
        },
        "id": "hIBYjV5DOyLQ",
        "outputId": "bbccd3f1-bcd7-4fb9-8539-f97eda544f6a"
      },
      "outputs": [
        {
          "data": {
            "text/plain": [
              "1"
            ]
          },
          "execution_count": 92,
          "metadata": {},
          "output_type": "execute_result"
        }
      ],
      "source": [
        "# equivalente a la expresión anterior\n",
        "\n",
        "a = x if x > 0 else 0\n",
        "a"
      ]
    },
    {
      "cell_type": "markdown",
      "metadata": {
        "id": "ftYNg1NHOyLQ"
      },
      "source": [
        "## Módulos"
      ]
    },
    {
      "cell_type": "markdown",
      "metadata": {
        "id": "pO2GoI9HOyLQ"
      },
      "source": [
        "En `Python` cualquier archivo terminado en `.py` es considerado como un `módulo` y puede ser importado para tener acceso a su código."
      ]
    },
    {
      "cell_type": "code",
      "execution_count": null,
      "metadata": {
        "ExecuteTime": {
          "end_time": "2020-05-20T14:34:51.182065Z",
          "start_time": "2020-05-20T14:34:51.175555Z"
        },
        "id": "9oNVBlKhOyLQ",
        "outputId": "ad7f9f16-b481-4c07-cff9-1881cbbb6434"
      },
      "outputs": [
        {
          "data": {
            "text/plain": [
              "2"
            ]
          },
          "execution_count": 96,
          "metadata": {},
          "output_type": "execute_result"
        }
      ],
      "source": [
        "# importamos el módulo llamado `module`, que tiene el siguiente código dentro\n",
        "# \n",
        "# def f(x):\n",
        "#     return 2*x\n",
        "\n",
        "import module\n",
        "\n",
        "module.f(1)"
      ]
    },
    {
      "cell_type": "markdown",
      "metadata": {
        "id": "ZCBK0E3NOyLQ"
      },
      "source": [
        "> ⚠️ Hablaremos sobre funciones en próximos posts, de momento es necesario con que entiendas que la función `f` recibe una variable `x` y la devuelve, multiplicada por 2."
      ]
    },
    {
      "cell_type": "markdown",
      "metadata": {
        "id": "4lTjHROgOyLQ"
      },
      "source": [
        "Existen varias maneras de importar módulos, aquí tienes algunos ejemplos"
      ]
    },
    {
      "cell_type": "code",
      "execution_count": null,
      "metadata": {
        "ExecuteTime": {
          "end_time": "2020-05-20T14:34:51.758443Z",
          "start_time": "2020-05-20T14:34:51.751443Z"
        },
        "id": "NU62IWwSOyLQ",
        "outputId": "9b9293f4-54d5-456f-bdbd-c2b06e0ee88c"
      },
      "outputs": [
        {
          "data": {
            "text/plain": [
              "4"
            ]
          },
          "execution_count": 97,
          "metadata": {},
          "output_type": "execute_result"
        }
      ],
      "source": [
        "# podemos asignar un nuevo nombre al módulo\n",
        "\n",
        "import module as m\n",
        "\n",
        "m.f(2)"
      ]
    },
    {
      "cell_type": "code",
      "execution_count": null,
      "metadata": {
        "ExecuteTime": {
          "end_time": "2020-05-20T14:34:52.152109Z",
          "start_time": "2020-05-20T14:34:52.136101Z"
        },
        "id": "cSDlnHUeOyLQ",
        "outputId": "302a3b5c-1f7f-4888-b844-bc874e97bfc2"
      },
      "outputs": [
        {
          "data": {
            "text/plain": [
              "6"
            ]
          },
          "execution_count": 98,
          "metadata": {},
          "output_type": "execute_result"
        }
      ],
      "source": [
        "# podemos usar la función directamente, \n",
        "# sin usar el nombre del módulo\n",
        "\n",
        "from module import f\n",
        "\n",
        "f(3)"
      ]
    },
    {
      "cell_type": "code",
      "execution_count": null,
      "metadata": {
        "ExecuteTime": {
          "end_time": "2020-05-20T14:36:21.434076Z",
          "start_time": "2020-05-20T14:36:21.423567Z"
        },
        "id": "WX64E94VOyLQ",
        "outputId": "6da18d71-807b-4822-a9a2-d765ea92d496"
      },
      "outputs": [
        {
          "data": {
            "text/plain": [
              "8"
            ]
          },
          "execution_count": 101,
          "metadata": {},
          "output_type": "execute_result"
        }
      ],
      "source": [
        "# podemos asignar un nuevo nombre a la función\n",
        "\n",
        "from module import f as mf\n",
        "\n",
        "mf(4)"
      ]
    },
    {
      "cell_type": "code",
      "execution_count": null,
      "metadata": {
        "ExecuteTime": {
          "end_time": "2020-05-20T14:37:00.218713Z",
          "start_time": "2020-05-20T14:37:00.214712Z"
        },
        "id": "G7ns0-k3OyLQ",
        "outputId": "8629e49c-d5e3-4ac3-e94d-47ca1ab7c4b1"
      },
      "outputs": [
        {
          "data": {
            "text/plain": [
              "10"
            ]
          },
          "execution_count": 102,
          "metadata": {},
          "output_type": "execute_result"
        }
      ],
      "source": [
        "# podemos importar todo lo que haya\n",
        "# en el módulo (no recomendado)\n",
        "\n",
        "from module import *\n",
        "\n",
        "f(5)"
      ]
    },
    {
      "cell_type": "markdown",
      "metadata": {
        "id": "cG2wKto-OyLQ"
      },
      "source": [
        "## Próximos pasos"
      ]
    },
    {
      "cell_type": "markdown",
      "metadata": {
        "id": "P9miusIoOyLQ"
      },
      "source": [
        "Hasta aquí nuestro viaje explorando los conceptos básicos del lenguaje `Python`. Aquellos familiarizados con el mundo de la programación y que ya conozcan algún lenguaje encontrarán en `Python` una sintaxis familiar con la funcionalidad típica de cualquier lenguaje moderno. Tras un tiempo de uso verán que la simplicidad del lenguaje, la gran funcionalidad que ofrece por defecto y la gran cantidad de módulos existentes en el ecosistema le convertirán en un programador más productivo, capaz de expresar más con menos código. En cuanto a aquellos que no hayan programado nunca, encontrarán en `Python` un lenguaje sencillo de aprender y que les permitirá el desarrollo de programas interesantes sin tener que invertir cientos de horas practicando.\n",
        "\n",
        "En el siguiente post de esta serie hablaremos sobre las estructuras de datos que `Python` nos ofrece y que nos permitirán llevar a cabo tareas más interesantes."
      ]
    }
  ],
  "metadata": {
    "kernelspec": {
      "display_name": "Python 3",
      "language": "python",
      "name": "python3"
    },
    "language_info": {
      "codemirror_mode": {
        "name": "ipython",
        "version": 3
      },
      "file_extension": ".py",
      "mimetype": "text/x-python",
      "name": "python",
      "nbconvert_exporter": "python",
      "pygments_lexer": "ipython3",
      "version": "3.7.6"
    },
    "toc": {
      "base_numbering": 1,
      "nav_menu": {},
      "number_sections": true,
      "sideBar": true,
      "skip_h1_title": false,
      "title_cell": "Table of Contents",
      "title_sidebar": "Contents",
      "toc_cell": false,
      "toc_position": {},
      "toc_section_display": true,
      "toc_window_display": false
    },
    "colab": {
      "name": "2. Python Conceptos básico.ipynb",
      "provenance": [],
      "collapsed_sections": [
        "vTl6Cig5OyLL",
        "xMME-bmtOyLM",
        "1obSqoAEOyLM",
        "B9DkBSABOyLO",
        "_4TZ8-isOyLP",
        "ftYNg1NHOyLQ",
        "cG2wKto-OyLQ"
      ],
      "include_colab_link": true
    }
  },
  "nbformat": 4,
  "nbformat_minor": 0
}