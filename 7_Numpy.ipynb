{
  "cells": [
    {
      "cell_type": "markdown",
      "metadata": {
        "id": "view-in-github",
        "colab_type": "text"
      },
      "source": [
        "<a href=\"https://colab.research.google.com/github/RubenMcCarty/Data-Analysis-Python/blob/main/7_Numpy.ipynb\" target=\"_parent\"><img src=\"https://colab.research.google.com/assets/colab-badge.svg\" alt=\"Open In Colab\"/></a>"
      ]
    },
    {
      "cell_type": "markdown",
      "metadata": {
        "id": "qMgOSdl9woxm"
      },
      "source": [
        "# NumPy\n",
        "# [MSc: Ruben Quispe](https://www.linkedin.com/in/ruben-quispe-l/)"
      ]
    },
    {
      "cell_type": "markdown",
      "metadata": {
        "id": "wNP_VTAYwoxn"
      },
      "source": [
        "`NumPy` (*Numerical Python*) es uno de los `módulos` más importantes y, probablemente, el más utilizado en el campo del cálculo numérico en el ecosistema de `Python`. En posts anteriores hemos visto como utilizar diferentes estructuras de datos en `Python` y otros `módulos` que nos ofrecen funciones matemáticas, cómo el módulo `math`. `NumPy` extiende esta funcionalidad en el campo del cálculo numérico de la siguiente manera:\n",
        "\n",
        "- Ofrece el objeto `ndarray`, similar a una lista de `Python` pero optimizada para el cálculo numérico. Nos referiremos a este objeto como `array` de `NumPy`, o simplemente `array`.\n",
        "- Implementa funciones matemáticas que pueden trabajar directamente sobre `arrays` sin tener que implementar bucles.\n",
        "- Proporciona funciones para leer/escribir datos a archivos de manera optimizada.\n",
        "- Permite aplicaciones de álgebra lineal, generación de números aleatorios y transformadas de Fourier.\n",
        "\n",
        "El núcleo de `Numpy` está implementado en C, ofreciendo *bindings* en `Python` para interactuar con él. Esto se traduce en que `NumPy` es más rápido que el equivalente en puro `Python`. Muchas otras librerías para el análisis de datos están construidas sobre `NumPy`, utilizando los `ndarrays` como la estructura de datos básica debido a su eficiencia. Para ilustrar esta propiedad vamos a calcular el tiempo necesario para llevar a cabo la misma operación en puro `Python` en comparación con `arrays` de `NumPy`."
      ]
    },
    {
      "cell_type": "code",
      "execution_count": null,
      "metadata": {
        "ExecuteTime": {
          "end_time": "2020-06-08T10:12:47.191796Z",
          "start_time": "2020-06-08T10:12:45.890131Z"
        },
        "id": "rBiNF3Vzwoxn",
        "outputId": "f5b280c3-cd5d-459a-e0d3-415f99bf19e3"
      },
      "outputs": [
        {
          "name": "stdout",
          "output_type": "stream",
          "text": [
            "Wall time: 655 ms\n"
          ]
        }
      ],
      "source": [
        "l = [i for i in range(10000000)]\n",
        "\n",
        "%time l2 = [2*i for i in l]"
      ]
    },
    {
      "cell_type": "code",
      "execution_count": null,
      "metadata": {
        "ExecuteTime": {
          "end_time": "2020-06-08T10:12:49.800556Z",
          "start_time": "2020-06-08T10:12:49.300612Z"
        },
        "id": "4-Zb3sFfwoxo",
        "outputId": "6ee37293-fc70-4368-cb7f-748d21104c48"
      },
      "outputs": [
        {
          "name": "stdout",
          "output_type": "stream",
          "text": [
            "Wall time: 13.1 ms\n"
          ]
        }
      ],
      "source": [
        "import numpy as np\n",
        "\n",
        "a = np.array(l)\n",
        "\n",
        "%time a2 = 2*a"
      ]
    },
    {
      "cell_type": "markdown",
      "metadata": {
        "id": "ya8ncZjHwoxo"
      },
      "source": [
        "Podemos ver que `Numpy` es 50 veces más rápido que `Python` llevando a cabo la misma operación. No te preocupes por el resto de detalles, en las siguientes secciones aprenderás lo necesario para crear `arrays`, hacer operaciones, etc. Lo más importante es destacar que en `Python` necesitamos iterar por cada valor en la lista aplicando la operación en concreto (lo cual es lento) mientras que en `NumPy` podemos simplemente aplicar la operación al `array` entero confiando en la implementación para llevar a cabo la operación de la manera más eficiente posible."
      ]
    },
    {
      "cell_type": "markdown",
      "metadata": {
        "id": "hT2jwzFIwoxo"
      },
      "source": [
        "> ⚠️ `NumPy` es un `módulo` externo a `Python`. Para poder usarlo primero hay que instalarlo. Puedes hacerlo abriendo un terminal y escribiendo `conda install numpy` si instalaste `Python` usando `conda`. Alternativamente, puedes hacerlo con `pip install numpy`. Si necesitas ayuda en este paso te recomiendo leer el [post](https://sensioai.com/blog/001_python) en el que instalamos `Python` y vimos como instalar librerías."
      ]
    },
    {
      "cell_type": "markdown",
      "metadata": {
        "heading_collapsed": true,
        "id": "Y1EyYVO5woxp"
      },
      "source": [
        "## El objeto `ndarray`"
      ]
    },
    {
      "cell_type": "markdown",
      "metadata": {
        "hidden": true,
        "id": "9_WM4N_Zwoxp"
      },
      "source": [
        "Como hemos comentado en la sección anterior, `NumPy` está basado en el objeto `ndarray`. Puedes ver este objeto como una lista de `Python` con súperpoderes. El objeto `ndarray` es multidimensional, lo que implica que nos permite representar tanto valores escalares como vectores, matrices y matrices multidimensionales (lo que llamamos `tensores`). \n",
        "\n",
        "Para poder trabajar con `NumPy`, primero tenemos que importarlo. Es común importarlo con el nombre `np`."
      ]
    },
    {
      "cell_type": "code",
      "execution_count": null,
      "metadata": {
        "ExecuteTime": {
          "end_time": "2020-06-08T10:25:18.123136Z",
          "start_time": "2020-06-08T10:25:18.111137Z"
        },
        "hidden": true,
        "id": "TLS9f1m1woxq"
      },
      "outputs": [],
      "source": [
        "import numpy as np"
      ]
    },
    {
      "cell_type": "markdown",
      "metadata": {
        "hidden": true,
        "id": "nD7in08-woxq"
      },
      "source": [
        "Tenemos varias maneras de crear un `array`. Una de ellas es utilizar funciones implementadas en `NumPy` para la creación de `arrays`, indicando el número de elementos en cada dimensión."
      ]
    },
    {
      "cell_type": "code",
      "execution_count": null,
      "metadata": {
        "ExecuteTime": {
          "end_time": "2020-06-08T10:27:25.094898Z",
          "start_time": "2020-06-08T10:27:25.079360Z"
        },
        "hidden": true,
        "id": "vxXxse5Uwoxq",
        "outputId": "37fc277c-5a88-4fbd-b609-c80c65f6e326"
      },
      "outputs": [
        {
          "data": {
            "text/plain": [
              "array([0., 0., 0., 0., 0.])"
            ]
          },
          "execution_count": 11,
          "metadata": {},
          "output_type": "execute_result"
        }
      ],
      "source": [
        "# crear un vector de ceros\n",
        "\n",
        "np.zeros(5)"
      ]
    },
    {
      "cell_type": "code",
      "execution_count": null,
      "metadata": {
        "ExecuteTime": {
          "end_time": "2020-06-08T10:27:55.920246Z",
          "start_time": "2020-06-08T10:27:55.915429Z"
        },
        "hidden": true,
        "id": "E51tZgckwoxr",
        "outputId": "55f06c17-1a10-4b5b-fe90-c95e2debe7e2"
      },
      "outputs": [
        {
          "data": {
            "text/plain": [
              "array([[0., 0., 0., 0.],\n",
              "       [0., 0., 0., 0.],\n",
              "       [0., 0., 0., 0.]])"
            ]
          },
          "execution_count": 12,
          "metadata": {},
          "output_type": "execute_result"
        }
      ],
      "source": [
        "# crear una matriz de ceros\n",
        "\n",
        "np.zeros((3, 4))"
      ]
    },
    {
      "cell_type": "markdown",
      "metadata": {
        "hidden": true,
        "id": "rHMENz_bwoxr"
      },
      "source": [
        "De la misma manera podemos crear `arrays` de 1s, con un valor determinado o sin inicializar con las funciones `np.one()`, `np.full()` o `np.empty()` respectivamente. Estas son algunas de las propiedades de un `array`."
      ]
    },
    {
      "cell_type": "code",
      "execution_count": null,
      "metadata": {
        "ExecuteTime": {
          "end_time": "2020-06-08T10:36:13.648407Z",
          "start_time": "2020-06-08T10:36:13.643351Z"
        },
        "hidden": true,
        "id": "nWkjcMlRwoxr",
        "outputId": "8fbad9d5-cae7-49c7-dea9-f7b1b8292269"
      },
      "outputs": [
        {
          "data": {
            "text/plain": [
              "array([[[1., 1.],\n",
              "        [1., 1.],\n",
              "        [1., 1.],\n",
              "        [1., 1.]],\n",
              "\n",
              "       [[1., 1.],\n",
              "        [1., 1.],\n",
              "        [1., 1.],\n",
              "        [1., 1.]],\n",
              "\n",
              "       [[1., 1.],\n",
              "        [1., 1.],\n",
              "        [1., 1.],\n",
              "        [1., 1.]]])"
            ]
          },
          "execution_count": 34,
          "metadata": {},
          "output_type": "execute_result"
        }
      ],
      "source": [
        "# tensor de unos\n",
        "\n",
        "a = np.ones((3, 4, 2))\n",
        "\n",
        "a"
      ]
    },
    {
      "cell_type": "code",
      "execution_count": null,
      "metadata": {
        "ExecuteTime": {
          "end_time": "2020-06-08T10:36:16.096730Z",
          "start_time": "2020-06-08T10:36:16.091731Z"
        },
        "hidden": true,
        "id": "S4z1gbpnwoxs",
        "outputId": "615dd290-2435-4c42-edf8-02551c8c017d"
      },
      "outputs": [
        {
          "data": {
            "text/plain": [
              "(3, 4, 2)"
            ]
          },
          "execution_count": 35,
          "metadata": {},
          "output_type": "execute_result"
        }
      ],
      "source": [
        "# numero elementos en cada dimension\n",
        "\n",
        "a.shape"
      ]
    },
    {
      "cell_type": "code",
      "execution_count": null,
      "metadata": {
        "ExecuteTime": {
          "end_time": "2020-06-08T10:36:16.222194Z",
          "start_time": "2020-06-08T10:36:16.219194Z"
        },
        "hidden": true,
        "id": "BRxrgJ8pwoxs",
        "outputId": "2c090825-8fb5-420d-8abe-c551c77dac32"
      },
      "outputs": [
        {
          "data": {
            "text/plain": [
              "3"
            ]
          },
          "execution_count": 36,
          "metadata": {},
          "output_type": "execute_result"
        }
      ],
      "source": [
        "# longitud del array\n",
        "\n",
        "a.ndim"
      ]
    },
    {
      "cell_type": "code",
      "execution_count": null,
      "metadata": {
        "ExecuteTime": {
          "end_time": "2020-06-08T10:36:16.346804Z",
          "start_time": "2020-06-08T10:36:16.342802Z"
        },
        "hidden": true,
        "id": "ODmfY7n9woxs",
        "outputId": "1403c47d-7625-4cdb-f21e-b213f93bc515"
      },
      "outputs": [
        {
          "data": {
            "text/plain": [
              "24"
            ]
          },
          "execution_count": 37,
          "metadata": {},
          "output_type": "execute_result"
        }
      ],
      "source": [
        "# elementos totales en el array\n",
        "\n",
        "a.size"
      ]
    },
    {
      "cell_type": "markdown",
      "metadata": {
        "hidden": true,
        "id": "VYM0Vs6Dwoxs"
      },
      "source": [
        "Otra manera muy común de inicializar `arrays` de `Numpy` es mediante listas de `Python`. Para ello usamos la función `np.array()`."
      ]
    },
    {
      "cell_type": "code",
      "execution_count": null,
      "metadata": {
        "ExecuteTime": {
          "end_time": "2020-06-08T10:37:14.766093Z",
          "start_time": "2020-06-08T10:37:14.758585Z"
        },
        "hidden": true,
        "id": "-zlXSXQgwoxt",
        "outputId": "6e2aead4-319a-498b-f337-db28577c12c2"
      },
      "outputs": [
        {
          "data": {
            "text/plain": [
              "array([[1, 2, 3],\n",
              "       [4, 5, 6]])"
            ]
          },
          "execution_count": 38,
          "metadata": {},
          "output_type": "execute_result"
        }
      ],
      "source": [
        "np.array([[1, 2, 3],[4, 5, 6]])"
      ]
    },
    {
      "cell_type": "markdown",
      "metadata": {
        "hidden": true,
        "id": "7TzBez01woxt"
      },
      "source": [
        "Por último, también podemos crear `arrays` mediante funciones secuenciales o con valores aleatorios de la siguiente manera."
      ]
    },
    {
      "cell_type": "code",
      "execution_count": null,
      "metadata": {
        "ExecuteTime": {
          "end_time": "2020-06-08T10:40:27.594680Z",
          "start_time": "2020-06-08T10:40:27.578868Z"
        },
        "hidden": true,
        "id": "6vlAmIhRwoxt",
        "outputId": "e3ae34df-7f10-4b7f-b927-db94f1d5d8c1"
      },
      "outputs": [
        {
          "data": {
            "text/plain": [
              "array([1, 2, 3, 4])"
            ]
          },
          "execution_count": 40,
          "metadata": {},
          "output_type": "execute_result"
        }
      ],
      "source": [
        "# vector de `int` en rango\n",
        "\n",
        "np.arange(1, 5)"
      ]
    },
    {
      "cell_type": "code",
      "execution_count": null,
      "metadata": {
        "ExecuteTime": {
          "end_time": "2020-06-08T10:41:50.084272Z",
          "start_time": "2020-06-08T10:41:50.072416Z"
        },
        "hidden": true,
        "id": "9daK8Q3Rwoxt",
        "outputId": "32f5f594-fb34-41e9-bd52-08eabff47a1a"
      },
      "outputs": [
        {
          "data": {
            "text/plain": [
              "array([0.        , 0.11111111, 0.22222222, 0.33333333, 0.44444444,\n",
              "       0.55555556, 0.66666667, 0.77777778, 0.88888889, 1.        ])"
            ]
          },
          "execution_count": 50,
          "metadata": {},
          "output_type": "execute_result"
        }
      ],
      "source": [
        "# vector de `float` en rango\n",
        "\n",
        "np.linspace(0, 1, 10)"
      ]
    },
    {
      "cell_type": "code",
      "execution_count": null,
      "metadata": {
        "ExecuteTime": {
          "end_time": "2020-06-08T10:42:23.378901Z",
          "start_time": "2020-06-08T10:42:23.370882Z"
        },
        "hidden": true,
        "id": "HI24S1r_woxt",
        "outputId": "c3f2e08c-275d-4254-f558-f19e0d4cb4f2"
      },
      "outputs": [
        {
          "data": {
            "text/plain": [
              "array([[0.91866741, 0.285973  , 0.18087869, 0.32169549],\n",
              "       [0.54680139, 0.91715266, 0.37301333, 0.22500604],\n",
              "       [0.34965872, 0.48719109, 0.74743635, 0.03647023]])"
            ]
          },
          "execution_count": 51,
          "metadata": {},
          "output_type": "execute_result"
        }
      ],
      "source": [
        "# matriz de números aleatorios\n",
        "\n",
        "np.random.rand(3,4)"
      ]
    },
    {
      "cell_type": "markdown",
      "metadata": {
        "heading_collapsed": true,
        "hidden": true,
        "id": "w1IBSwF_woxt"
      },
      "source": [
        "### Tipos de datos"
      ]
    },
    {
      "cell_type": "markdown",
      "metadata": {
        "hidden": true,
        "id": "ri5uCqWPwoxt"
      },
      "source": [
        "Un motivo por el que los `arrays` de `NumPy` son tan eficientes es que todos los elementos en el `array` deben tener el mismo tipo."
      ]
    },
    {
      "cell_type": "code",
      "execution_count": null,
      "metadata": {
        "ExecuteTime": {
          "end_time": "2020-06-08T10:46:03.238251Z",
          "start_time": "2020-06-08T10:46:03.220251Z"
        },
        "hidden": true,
        "id": "YhXVJ_c0woxu",
        "outputId": "3428f23c-88db-4f17-8e20-d93fe69dac30"
      },
      "outputs": [
        {
          "data": {
            "text/plain": [
              "array([1, 2, 3, 4])"
            ]
          },
          "execution_count": 52,
          "metadata": {},
          "output_type": "execute_result"
        }
      ],
      "source": [
        "a = np.arange(1, 5)\n",
        "a"
      ]
    },
    {
      "cell_type": "code",
      "execution_count": null,
      "metadata": {
        "ExecuteTime": {
          "end_time": "2020-06-08T10:46:14.177215Z",
          "start_time": "2020-06-08T10:46:14.159207Z"
        },
        "hidden": true,
        "id": "-bhaU_rJwoxu",
        "outputId": "20c77bc3-ccd1-4b29-a4ec-6d2667af7ade"
      },
      "outputs": [
        {
          "data": {
            "text/plain": [
              "dtype('int32')"
            ]
          },
          "execution_count": 54,
          "metadata": {},
          "output_type": "execute_result"
        }
      ],
      "source": [
        "# acceder al tipo de datos\n",
        "\n",
        "a.dtype"
      ]
    },
    {
      "cell_type": "markdown",
      "metadata": {
        "hidden": true,
        "id": "3pskCg4xwoxu"
      },
      "source": [
        "Podemos indicarle a `NumPy` el tipo de dato con el que queremos trabajar al crear nuestro `array`."
      ]
    },
    {
      "cell_type": "code",
      "execution_count": null,
      "metadata": {
        "ExecuteTime": {
          "end_time": "2020-06-08T10:47:05.629406Z",
          "start_time": "2020-06-08T10:47:05.615412Z"
        },
        "hidden": true,
        "id": "DvzxkTC2woxu",
        "outputId": "9ef4f496-762f-4a61-cff2-6468242fbaf5"
      },
      "outputs": [
        {
          "data": {
            "text/plain": [
              "array([1, 2, 3, 4], dtype=uint8)"
            ]
          },
          "execution_count": 57,
          "metadata": {},
          "output_type": "execute_result"
        }
      ],
      "source": [
        "a = np.arange(1, 5, dtype=np.uint8)\n",
        "a"
      ]
    },
    {
      "cell_type": "markdown",
      "metadata": {
        "hidden": true,
        "id": "ps0dwAmfwoxu"
      },
      "source": [
        "Los tipos disponibles son `int8`, `int16`, `int32`, `int64`, `uint8`|`16`|`32`|`64`, `float16`|`32`|`64` y `complex64`|`128`. Puedes encontrar una lista completa en la [documentación](http://docs.scipy.org/doc/numpy-1.10.1/user/basics.types.html).\n"
      ]
    },
    {
      "cell_type": "markdown",
      "metadata": {
        "heading_collapsed": true,
        "hidden": true,
        "id": "Uo7CxwoJwoxu"
      },
      "source": [
        "### Cambiando la forma"
      ]
    },
    {
      "cell_type": "markdown",
      "metadata": {
        "hidden": true,
        "id": "KXQ19UkPwoxu"
      },
      "source": [
        "Es muy común cambiar la forma de un `array` para acomodarlo a ciertas operaciones."
      ]
    },
    {
      "cell_type": "code",
      "execution_count": null,
      "metadata": {
        "ExecuteTime": {
          "end_time": "2020-06-08T10:50:02.114394Z",
          "start_time": "2020-06-08T10:50:02.103593Z"
        },
        "hidden": true,
        "id": "fGu_vBHRwoxu",
        "outputId": "11364e08-c93f-4143-f3bf-be49318244dd"
      },
      "outputs": [
        {
          "data": {
            "text/plain": [
              "array([0, 1, 2, 3, 4, 5, 6, 7, 8, 9])"
            ]
          },
          "execution_count": 61,
          "metadata": {},
          "output_type": "execute_result"
        }
      ],
      "source": [
        "# vector\n",
        "\n",
        "a = np.arange(10)\n",
        "a"
      ]
    },
    {
      "cell_type": "code",
      "execution_count": null,
      "metadata": {
        "ExecuteTime": {
          "end_time": "2020-06-08T10:50:11.551539Z",
          "start_time": "2020-06-08T10:50:11.542531Z"
        },
        "hidden": true,
        "id": "G13JJIS1woxu",
        "outputId": "f8495f4e-62ff-4872-f47e-f64446f34526"
      },
      "outputs": [
        {
          "data": {
            "text/plain": [
              "array([[0, 1, 2, 3, 4],\n",
              "       [5, 6, 7, 8, 9]])"
            ]
          },
          "execution_count": 62,
          "metadata": {},
          "output_type": "execute_result"
        }
      ],
      "source": [
        "# convertir vector en matriz\n",
        "\n",
        "a2 = a.reshape(2,5)\n",
        "a2"
      ]
    },
    {
      "cell_type": "markdown",
      "metadata": {
        "hidden": true,
        "id": "4qLIIvwmwoxu"
      },
      "source": [
        "Obviamente, para poder cambiar la forma del `array` el número de elementos tiene que encajar en el número de nuevas dimensiones."
      ]
    },
    {
      "cell_type": "code",
      "execution_count": null,
      "metadata": {
        "ExecuteTime": {
          "end_time": "2020-06-08T10:51:00.683320Z",
          "start_time": "2020-06-08T10:51:00.664320Z"
        },
        "hidden": true,
        "id": "RFdUKJs0woxu",
        "outputId": "af3cfc3b-8ac0-4102-c0b8-5c36833ff566"
      },
      "outputs": [
        {
          "ename": "ValueError",
          "evalue": "cannot reshape array of size 10 into shape (2,4)",
          "output_type": "error",
          "traceback": [
            "\u001b[1;31m---------------------------------------------------------------------------\u001b[0m",
            "\u001b[1;31mValueError\u001b[0m                                Traceback (most recent call last)",
            "\u001b[1;32m<ipython-input-63-5fcd0a049a15>\u001b[0m in \u001b[0;36m<module>\u001b[1;34m\u001b[0m\n\u001b[1;32m----> 1\u001b[1;33m \u001b[0ma\u001b[0m\u001b[1;33m.\u001b[0m\u001b[0mreshape\u001b[0m\u001b[1;33m(\u001b[0m\u001b[1;36m2\u001b[0m\u001b[1;33m,\u001b[0m\u001b[1;36m4\u001b[0m\u001b[1;33m)\u001b[0m\u001b[1;33m\u001b[0m\u001b[1;33m\u001b[0m\u001b[0m\n\u001b[0m",
            "\u001b[1;31mValueError\u001b[0m: cannot reshape array of size 10 into shape (2,4)"
          ]
        }
      ],
      "source": [
        "a.reshape(2,4)"
      ]
    },
    {
      "cell_type": "code",
      "execution_count": null,
      "metadata": {
        "ExecuteTime": {
          "end_time": "2020-06-08T10:51:27.559648Z",
          "start_time": "2020-06-08T10:51:27.549648Z"
        },
        "hidden": true,
        "id": "VknwwAF7woxv",
        "outputId": "99fe670c-2610-4cbd-b4e9-21bc15239e2d"
      },
      "outputs": [
        {
          "data": {
            "text/plain": [
              "array([0, 1, 2, 3, 4, 5, 6, 7, 8, 9])"
            ]
          },
          "execution_count": 65,
          "metadata": {},
          "output_type": "execute_result"
        }
      ],
      "source": [
        "# convertir en vector\n",
        "\n",
        "a2.ravel()"
      ]
    },
    {
      "cell_type": "markdown",
      "metadata": {
        "id": "8XIPbBqdwoxv"
      },
      "source": [
        "## Operaciones aritméticas"
      ]
    },
    {
      "cell_type": "markdown",
      "metadata": {
        "id": "quA8lUtXwoxv"
      },
      "source": [
        "Una de las aplicaciones en las que los `arrays` de `NumPy` brillan es en la facilidad de usar operaciones artiméticas de manera optimizada y sin tener que implementar bucles como hacemos en `Python`. Esta propiedad se conoce como `vectorización`, algo de lo que hablaremos en más detalle en un futuro post. Podemos usar los operadores que ya conocemos de `Python` directamente con nuestros `arrays`."
      ]
    },
    {
      "cell_type": "code",
      "execution_count": null,
      "metadata": {
        "ExecuteTime": {
          "end_time": "2020-06-08T10:56:47.417495Z",
          "start_time": "2020-06-08T10:56:47.407672Z"
        },
        "id": "lvzF0Um7woxv",
        "outputId": "7c326e0c-1a52-4fe1-8796-2f667e40e0b2"
      },
      "outputs": [
        {
          "data": {
            "text/plain": [
              "array([19, 27, 35, 43])"
            ]
          },
          "execution_count": 73,
          "metadata": {},
          "output_type": "execute_result"
        }
      ],
      "source": [
        "a = np.array([14, 23, 32, 41])\n",
        "b = np.array([5,  4,  3,  2])\n",
        "\n",
        "a + b"
      ]
    },
    {
      "cell_type": "code",
      "execution_count": null,
      "metadata": {
        "ExecuteTime": {
          "end_time": "2020-06-08T10:56:47.808265Z",
          "start_time": "2020-06-08T10:56:47.795263Z"
        },
        "id": "j8hlUxFvwoxv",
        "outputId": "4f3fdf2c-97c5-4288-abea-75f2deb1fb64"
      },
      "outputs": [
        {
          "data": {
            "text/plain": [
              "array([ 9, 19, 29, 39])"
            ]
          },
          "execution_count": 74,
          "metadata": {},
          "output_type": "execute_result"
        }
      ],
      "source": [
        "a - b"
      ]
    },
    {
      "cell_type": "code",
      "execution_count": null,
      "metadata": {
        "ExecuteTime": {
          "end_time": "2020-06-08T10:56:47.933546Z",
          "start_time": "2020-06-08T10:56:47.918546Z"
        },
        "id": "lRJEkNOXwoxv",
        "outputId": "34134b1e-0761-4138-cc3d-ff5243fd27c6"
      },
      "outputs": [
        {
          "data": {
            "text/plain": [
              "array([70, 92, 96, 82])"
            ]
          },
          "execution_count": 75,
          "metadata": {},
          "output_type": "execute_result"
        }
      ],
      "source": [
        "a*b"
      ]
    },
    {
      "cell_type": "code",
      "execution_count": null,
      "metadata": {
        "ExecuteTime": {
          "end_time": "2020-06-08T10:56:48.075425Z",
          "start_time": "2020-06-08T10:56:48.059421Z"
        },
        "id": "3EksZ3Lxwoxv",
        "outputId": "7084d0a2-fd94-41b1-ef91-adc815b5c6a7"
      },
      "outputs": [
        {
          "data": {
            "text/plain": [
              "array([ 2.8       ,  5.75      , 10.66666667, 20.5       ])"
            ]
          },
          "execution_count": 76,
          "metadata": {},
          "output_type": "execute_result"
        }
      ],
      "source": [
        "a / b"
      ]
    },
    {
      "cell_type": "markdown",
      "metadata": {
        "id": "5AL9mcE3woxv"
      },
      "source": [
        "> ⚠️ Estas operaciones son *elementwise*, se aplican elemento a elemento. Para llevar a cabo otras operaciones como por ejemplo el producto escalar de dos vectores usaremos las funciones apropiadas que veremos en un futuro post."
      ]
    },
    {
      "cell_type": "markdown",
      "metadata": {
        "id": "8KjSgdldwoxv"
      },
      "source": [
        "Podremos aplicar estas operaciones siempre que las dimensiones de los `arrays` coincidan. De no ser así, es posible que `NumPy` siga dándonos resultados. Esto es debido a una propiedad conocida como *broadcasting*, algo que veremos en más detalle en un próximo post."
      ]
    },
    {
      "cell_type": "markdown",
      "metadata": {
        "id": "XLQI_d6pwoxv"
      },
      "source": [
        "## Indexado y Troceado"
      ]
    },
    {
      "cell_type": "markdown",
      "metadata": {
        "id": "bn4jgqLnwoxv"
      },
      "source": [
        "`NumPy` adopta la misma lógica de indexado y troceado que `Python`, algo que ya conocemos y que puedes refrescar en este [post](https://sensioai.com/blog/003_python_estructuras)."
      ]
    },
    {
      "cell_type": "code",
      "execution_count": null,
      "metadata": {
        "ExecuteTime": {
          "end_time": "2020-06-08T11:02:38.095202Z",
          "start_time": "2020-06-08T11:02:38.085469Z"
        },
        "id": "J1fGRCVzwoxv",
        "outputId": "1183d0fc-ffed-4514-c65a-1c01cd2d1b82"
      },
      "outputs": [
        {
          "data": {
            "text/plain": [
              "array([ 1,  5,  3, 19, 13,  7,  3])"
            ]
          },
          "execution_count": 77,
          "metadata": {},
          "output_type": "execute_result"
        }
      ],
      "source": [
        "a = np.array([1, 5, 3, 19, 13, 7, 3])\n",
        "a"
      ]
    },
    {
      "cell_type": "code",
      "execution_count": null,
      "metadata": {
        "ExecuteTime": {
          "end_time": "2020-06-08T11:02:52.462563Z",
          "start_time": "2020-06-08T11:02:52.446541Z"
        },
        "id": "8D9ovB3cwoxv",
        "outputId": "81d8f33c-51d9-46fb-be81-a5136045a17c"
      },
      "outputs": [
        {
          "data": {
            "text/plain": [
              "19"
            ]
          },
          "execution_count": 78,
          "metadata": {},
          "output_type": "execute_result"
        }
      ],
      "source": [
        "# acceder a un valor por su índice\n",
        "\n",
        "a[3]"
      ]
    },
    {
      "cell_type": "markdown",
      "metadata": {
        "id": "5U_SYeI0woxv"
      },
      "source": [
        "> ⚠️ Igual que en `Python` el primer valor de un `array` tiene el índice 0."
      ]
    },
    {
      "cell_type": "code",
      "execution_count": null,
      "metadata": {
        "ExecuteTime": {
          "end_time": "2020-06-08T11:03:37.703152Z",
          "start_time": "2020-06-08T11:03:37.689614Z"
        },
        "id": "XsswLERFwoxv",
        "outputId": "c7f532e1-96ee-499c-dae4-c572dcf933ea"
      },
      "outputs": [
        {
          "data": {
            "text/plain": [
              "array([ 3, 19, 13])"
            ]
          },
          "execution_count": 79,
          "metadata": {},
          "output_type": "execute_result"
        }
      ],
      "source": [
        "# troceado\n",
        "\n",
        "a[2:5]"
      ]
    },
    {
      "cell_type": "code",
      "execution_count": null,
      "metadata": {
        "ExecuteTime": {
          "end_time": "2020-06-08T11:04:08.853368Z",
          "start_time": "2020-06-08T11:04:08.842346Z"
        },
        "id": "55Dy45Kqwoxv",
        "outputId": "a7b60e37-ffd6-464e-9f28-9115bd122246"
      },
      "outputs": [
        {
          "data": {
            "text/plain": [
              "array([ 3, 19, 13,  7])"
            ]
          },
          "execution_count": 80,
          "metadata": {},
          "output_type": "execute_result"
        }
      ],
      "source": [
        "# usamos índices negativos para indexar desde el final\n",
        "\n",
        "a[2:-1]"
      ]
    },
    {
      "cell_type": "markdown",
      "metadata": {
        "id": "AXORTzR7woxv"
      },
      "source": [
        "Podemos indexar `arrys` multidimensionales con diferentes índices para cada dimensión, separados por comas."
      ]
    },
    {
      "cell_type": "code",
      "execution_count": null,
      "metadata": {
        "ExecuteTime": {
          "end_time": "2020-06-08T11:05:53.806117Z",
          "start_time": "2020-06-08T11:05:53.790039Z"
        },
        "id": "CUPuSOlrwoxv",
        "outputId": "85c89439-3127-425e-88f6-c05752b93b85"
      },
      "outputs": [
        {
          "data": {
            "text/plain": [
              "array([[ 0,  1,  2,  3,  4,  5,  6,  7,  8,  9, 10, 11],\n",
              "       [12, 13, 14, 15, 16, 17, 18, 19, 20, 21, 22, 23],\n",
              "       [24, 25, 26, 27, 28, 29, 30, 31, 32, 33, 34, 35],\n",
              "       [36, 37, 38, 39, 40, 41, 42, 43, 44, 45, 46, 47]])"
            ]
          },
          "execution_count": 81,
          "metadata": {},
          "output_type": "execute_result"
        }
      ],
      "source": [
        "b = np.arange(48).reshape(4, 12)\n",
        "b"
      ]
    },
    {
      "cell_type": "code",
      "execution_count": null,
      "metadata": {
        "ExecuteTime": {
          "end_time": "2020-06-08T11:06:57.887556Z",
          "start_time": "2020-06-08T11:06:57.873557Z"
        },
        "id": "yszwz1zewoxv",
        "outputId": "71de4aba-2cd6-43ef-a5c0-abadfd618e03"
      },
      "outputs": [
        {
          "data": {
            "text/plain": [
              "14"
            ]
          },
          "execution_count": 86,
          "metadata": {},
          "output_type": "execute_result"
        }
      ],
      "source": [
        "# valor en segunda fila, tercera columna\n",
        "\n",
        "b[1, 2]"
      ]
    },
    {
      "cell_type": "code",
      "execution_count": null,
      "metadata": {
        "ExecuteTime": {
          "end_time": "2020-06-08T11:06:58.013555Z",
          "start_time": "2020-06-08T11:06:57.995558Z"
        },
        "id": "yA9enaw4woxw",
        "outputId": "bbafe035-7dde-4388-dd0a-ee1a855f2653"
      },
      "outputs": [
        {
          "data": {
            "text/plain": [
              "array([12, 13, 14, 15, 16, 17, 18, 19, 20, 21, 22, 23])"
            ]
          },
          "execution_count": 87,
          "metadata": {},
          "output_type": "execute_result"
        }
      ],
      "source": [
        "# segunda fila\n",
        "\n",
        "b[1, :] "
      ]
    },
    {
      "cell_type": "code",
      "execution_count": null,
      "metadata": {
        "ExecuteTime": {
          "end_time": "2020-06-08T11:07:12.146700Z",
          "start_time": "2020-06-08T11:07:12.135701Z"
        },
        "id": "lxbjX-bUwoxw",
        "outputId": "d04e4c0c-8086-4a07-c27c-96d1d3c136a4"
      },
      "outputs": [
        {
          "data": {
            "text/plain": [
              "array([11, 23, 35, 47])"
            ]
          },
          "execution_count": 88,
          "metadata": {},
          "output_type": "execute_result"
        }
      ],
      "source": [
        "# última columna\n",
        "\n",
        "b[:, -1]"
      ]
    },
    {
      "cell_type": "markdown",
      "metadata": {
        "id": "NnKw74Shwoxw"
      },
      "source": [
        "### Indexado *fancy*"
      ]
    },
    {
      "cell_type": "markdown",
      "metadata": {
        "id": "FY8Vk8DLwoxw"
      },
      "source": [
        "El indexado *fancy* nos permite indexar un `array` mediante una lista con los índices de interés."
      ]
    },
    {
      "cell_type": "code",
      "execution_count": null,
      "metadata": {
        "ExecuteTime": {
          "end_time": "2020-06-08T11:10:07.527162Z",
          "start_time": "2020-06-08T11:10:07.507168Z"
        },
        "id": "Q9vf1ye8woxw",
        "outputId": "8024d737-648d-406a-e21b-e7db79bddbf7"
      },
      "outputs": [
        {
          "data": {
            "text/plain": [
              "array([[ 2,  3],\n",
              "       [26, 27]])"
            ]
          },
          "execution_count": 92,
          "metadata": {},
          "output_type": "execute_result"
        }
      ],
      "source": [
        "# primera y tercera fila, desde la tercera columna a la cuarta\n",
        "\n",
        "b[(0,2),2:4]"
      ]
    },
    {
      "cell_type": "markdown",
      "metadata": {
        "id": "2UU70mPwwoxw"
      },
      "source": [
        "### Indexado booleano"
      ]
    },
    {
      "cell_type": "markdown",
      "metadata": {
        "ExecuteTime": {
          "end_time": "2020-06-08T11:11:11.523806Z",
          "start_time": "2020-06-08T11:11:11.506776Z"
        },
        "id": "9yjqSD6Swoxw"
      },
      "source": [
        "El indexado booleano es muy útil para trabajar con máscaras."
      ]
    },
    {
      "cell_type": "code",
      "execution_count": null,
      "metadata": {
        "ExecuteTime": {
          "end_time": "2020-06-08T11:11:41.567056Z",
          "start_time": "2020-06-08T11:11:41.550035Z"
        },
        "id": "rgW9tfjrwoxw",
        "outputId": "b8149203-0a49-471a-d42b-c66004496328"
      },
      "outputs": [
        {
          "data": {
            "text/plain": [
              "array([1, 3])"
            ]
          },
          "execution_count": 94,
          "metadata": {},
          "output_type": "execute_result"
        }
      ],
      "source": [
        "a = np.array([1, 2, 3, 4])\n",
        "mask = np.array([True, False, True, False])\n",
        "\n",
        "a[mask]"
      ]
    },
    {
      "cell_type": "markdown",
      "metadata": {
        "id": "kADBit7Cwoxw"
      },
      "source": [
        "## Iterado"
      ]
    },
    {
      "cell_type": "markdown",
      "metadata": {
        "id": "3oFVF6Suwoxw"
      },
      "source": [
        "Podemos iterar sobre un `array` de `NumPy` de la misma manera que iteramos cualquier otra estructura de datos en `Python`."
      ]
    },
    {
      "cell_type": "code",
      "execution_count": null,
      "metadata": {
        "ExecuteTime": {
          "end_time": "2020-06-08T11:14:24.355239Z",
          "start_time": "2020-06-08T11:14:24.337214Z"
        },
        "id": "juJtyiaAwoxw",
        "outputId": "40de8990-c42b-4154-e39c-a1e0b74fb527"
      },
      "outputs": [
        {
          "data": {
            "text/plain": [
              "array([0, 1, 2, 3, 4])"
            ]
          },
          "execution_count": 95,
          "metadata": {},
          "output_type": "execute_result"
        }
      ],
      "source": [
        "a = np.arange(5)\n",
        "a"
      ]
    },
    {
      "cell_type": "code",
      "execution_count": null,
      "metadata": {
        "ExecuteTime": {
          "end_time": "2020-06-08T11:14:29.465709Z",
          "start_time": "2020-06-08T11:14:29.454069Z"
        },
        "id": "8_4lc2sFwoxw",
        "outputId": "e84ae183-67ab-4f5f-c45d-a73bb306b76e"
      },
      "outputs": [
        {
          "name": "stdout",
          "output_type": "stream",
          "text": [
            "0\n",
            "1\n",
            "2\n",
            "3\n",
            "4\n"
          ]
        }
      ],
      "source": [
        "for i in a:\n",
        "    print(i)"
      ]
    },
    {
      "cell_type": "markdown",
      "metadata": {
        "id": "KPYsdk4swoxw"
      },
      "source": [
        "Al trabajar con `arrays` multidimensionales, necesitaremos un *loop* para cada dimensión."
      ]
    },
    {
      "cell_type": "code",
      "execution_count": null,
      "metadata": {
        "ExecuteTime": {
          "end_time": "2020-06-08T11:15:23.470727Z",
          "start_time": "2020-06-08T11:15:23.454700Z"
        },
        "id": "8jFdlp_owoxw",
        "outputId": "9e7288a2-c8ca-4b62-d1a3-1987e591e2c8"
      },
      "outputs": [
        {
          "data": {
            "text/plain": [
              "array([[0, 1, 2],\n",
              "       [3, 4, 5],\n",
              "       [6, 7, 8]])"
            ]
          },
          "execution_count": 98,
          "metadata": {},
          "output_type": "execute_result"
        }
      ],
      "source": [
        "a = np.arange(9).reshape((3,3))\n",
        "a"
      ]
    },
    {
      "cell_type": "code",
      "execution_count": null,
      "metadata": {
        "ExecuteTime": {
          "end_time": "2020-06-08T11:15:57.760719Z",
          "start_time": "2020-06-08T11:15:57.746683Z"
        },
        "id": "AyyWpx_ywoxw",
        "outputId": "9372ce1f-fe10-4b47-d5af-be3c9225f051"
      },
      "outputs": [
        {
          "name": "stdout",
          "output_type": "stream",
          "text": [
            "0\n",
            "1\n",
            "2\n",
            "3\n",
            "4\n",
            "5\n",
            "6\n",
            "7\n",
            "8\n"
          ]
        }
      ],
      "source": [
        "for fila in a:\n",
        "    for i in fila:\n",
        "        print(i)"
      ]
    },
    {
      "cell_type": "markdown",
      "metadata": {
        "id": "5b0HWcd3woxw"
      },
      "source": [
        "## Guardar y Cargar"
      ]
    },
    {
      "cell_type": "markdown",
      "metadata": {
        "id": "yUD24cYFwoxw"
      },
      "source": [
        "Podemos guardar nuestros `arrays` en archivos que más tarde podemos cargar de nuevo."
      ]
    },
    {
      "cell_type": "code",
      "execution_count": null,
      "metadata": {
        "ExecuteTime": {
          "end_time": "2020-06-08T11:17:11.622578Z",
          "start_time": "2020-06-08T11:17:11.610082Z"
        },
        "id": "Oed3uEpfwoxw",
        "outputId": "dabaab4b-6f1f-4d63-fb44-0971896d23a1"
      },
      "outputs": [
        {
          "data": {
            "text/plain": [
              "array([[0.14663265, 0.98325048, 0.36281673],\n",
              "       [0.33008445, 0.31005347, 0.634345  ]])"
            ]
          },
          "execution_count": 102,
          "metadata": {},
          "output_type": "execute_result"
        }
      ],
      "source": [
        "a = np.random.rand(2,3)\n",
        "a"
      ]
    },
    {
      "cell_type": "code",
      "execution_count": null,
      "metadata": {
        "ExecuteTime": {
          "end_time": "2020-06-08T11:17:25.842313Z",
          "start_time": "2020-06-08T11:17:25.825289Z"
        },
        "id": "0sm-leFzwoxw"
      },
      "outputs": [],
      "source": [
        "# guardar array en archivo\n",
        "\n",
        "np.save(\"mi_array\", a)"
      ]
    },
    {
      "cell_type": "markdown",
      "metadata": {
        "id": "DFzT9QTbwoxw"
      },
      "source": [
        "Por defecto un `array` se guarda con la extensión `.npy`. Para cargar de nuevo el `array`"
      ]
    },
    {
      "cell_type": "code",
      "execution_count": null,
      "metadata": {
        "ExecuteTime": {
          "end_time": "2020-06-08T11:18:25.031883Z",
          "start_time": "2020-06-08T11:18:25.013883Z"
        },
        "id": "FvwFy8VFwoxx",
        "outputId": "15351d43-f71a-4783-fa57-eff55c00162c"
      },
      "outputs": [
        {
          "data": {
            "text/plain": [
              "array([[0.14663265, 0.98325048, 0.36281673],\n",
              "       [0.33008445, 0.31005347, 0.634345  ]])"
            ]
          },
          "execution_count": 105,
          "metadata": {},
          "output_type": "execute_result"
        }
      ],
      "source": [
        "b = np.load(\"mi_array.npy\")\n",
        "b"
      ]
    },
    {
      "cell_type": "markdown",
      "metadata": {
        "id": "IrZqaxPlwoxx"
      },
      "source": [
        "Las funciones que hemos visto guardan los `arrays` en formato binario para maximizar la velocidad de lectura. Sin embargo, podemos guardar nuestros `arrays` en formato texto para utilizarlos en otras aplicaciones."
      ]
    },
    {
      "cell_type": "code",
      "execution_count": null,
      "metadata": {
        "ExecuteTime": {
          "end_time": "2020-06-08T11:20:20.504327Z",
          "start_time": "2020-06-08T11:20:20.492801Z"
        },
        "id": "CljkFm71woxx"
      },
      "outputs": [],
      "source": [
        "# guardar array en formato csv \n",
        "\n",
        "np.savetxt(\"mi_array.csv\", a, delimiter=\",\")"
      ]
    },
    {
      "cell_type": "markdown",
      "metadata": {
        "id": "vOObPj9qwoxx"
      },
      "source": [
        "También podemos guardar varios `arrays` en un solo archivo comprimido en formato `.npz`."
      ]
    },
    {
      "cell_type": "code",
      "execution_count": null,
      "metadata": {
        "ExecuteTime": {
          "end_time": "2020-06-08T11:21:19.562505Z",
          "start_time": "2020-06-08T11:21:19.547951Z"
        },
        "id": "rVDBINm3woxx",
        "outputId": "67bf6517-a366-4f1c-a3eb-ea640677b9a9"
      },
      "outputs": [
        {
          "data": {
            "text/plain": [
              "array([[[ 0,  1,  2,  3],\n",
              "        [ 4,  5,  6,  7],\n",
              "        [ 8,  9, 10, 11]],\n",
              "\n",
              "       [[12, 13, 14, 15],\n",
              "        [16, 17, 18, 19],\n",
              "        [20, 21, 22, 23]]], dtype=uint8)"
            ]
          },
          "execution_count": 107,
          "metadata": {},
          "output_type": "execute_result"
        }
      ],
      "source": [
        "b = np.arange(24, dtype=np.uint8).reshape(2, 3, 4)\n",
        "b"
      ]
    },
    {
      "cell_type": "code",
      "execution_count": null,
      "metadata": {
        "ExecuteTime": {
          "end_time": "2020-06-08T11:21:23.376906Z",
          "start_time": "2020-06-08T11:21:23.359904Z"
        },
        "id": "Dh5hpN1vwoxx",
        "outputId": "a0d754d3-393e-4696-c711-e1172ba25b66"
      },
      "outputs": [
        {
          "data": {
            "text/plain": [
              "array([[0.14663265, 0.98325048, 0.36281673],\n",
              "       [0.33008445, 0.31005347, 0.634345  ]])"
            ]
          },
          "execution_count": 108,
          "metadata": {},
          "output_type": "execute_result"
        }
      ],
      "source": [
        "a"
      ]
    },
    {
      "cell_type": "code",
      "execution_count": null,
      "metadata": {
        "ExecuteTime": {
          "end_time": "2020-06-08T11:21:47.155605Z",
          "start_time": "2020-06-08T11:21:47.144071Z"
        },
        "id": "XUepmfvPwoxx"
      },
      "outputs": [],
      "source": [
        "# guardar arrays\n",
        "\n",
        "np.savez(\"mis_arrays\", a=a, b=b)"
      ]
    },
    {
      "cell_type": "code",
      "execution_count": null,
      "metadata": {
        "ExecuteTime": {
          "end_time": "2020-06-08T11:22:06.777013Z",
          "start_time": "2020-06-08T11:22:06.762011Z"
        },
        "id": "PqOGc5VMwoxx",
        "outputId": "f0dd2843-b453-4650-becc-c88ea8e8f548"
      },
      "outputs": [
        {
          "data": {
            "text/plain": [
              "<numpy.lib.npyio.NpzFile at 0x142cdf66e88>"
            ]
          },
          "execution_count": 112,
          "metadata": {},
          "output_type": "execute_result"
        }
      ],
      "source": [
        "# cargar arrays\n",
        "\n",
        "mis_arrays = np.load(\"mis_arrays.npz\")\n",
        "mis_arrays"
      ]
    },
    {
      "cell_type": "markdown",
      "metadata": {
        "id": "GOuebgBEwoxx"
      },
      "source": [
        "Podemos extraer cada uno de los arrays mediante su nombre, al estilo `dict`."
      ]
    },
    {
      "cell_type": "code",
      "execution_count": null,
      "metadata": {
        "ExecuteTime": {
          "end_time": "2020-06-08T11:22:42.067652Z",
          "start_time": "2020-06-08T11:22:42.046629Z"
        },
        "id": "9qkHC2hVwoxx",
        "outputId": "1f05ea48-c954-41d0-8fa6-ec615a349748"
      },
      "outputs": [
        {
          "data": {
            "text/plain": [
              "array([[0.14663265, 0.98325048, 0.36281673],\n",
              "       [0.33008445, 0.31005347, 0.634345  ]])"
            ]
          },
          "execution_count": 113,
          "metadata": {},
          "output_type": "execute_result"
        }
      ],
      "source": [
        "mis_arrays[\"a\"]"
      ]
    },
    {
      "cell_type": "code",
      "execution_count": null,
      "metadata": {
        "ExecuteTime": {
          "end_time": "2020-06-08T11:22:46.166380Z",
          "start_time": "2020-06-08T11:22:46.148349Z"
        },
        "id": "PuoKkWp0woxx",
        "outputId": "be92c5cc-e7b4-49fe-9cf3-7ef376479e13"
      },
      "outputs": [
        {
          "data": {
            "text/plain": [
              "array([[[ 0,  1,  2,  3],\n",
              "        [ 4,  5,  6,  7],\n",
              "        [ 8,  9, 10, 11]],\n",
              "\n",
              "       [[12, 13, 14, 15],\n",
              "        [16, 17, 18, 19],\n",
              "        [20, 21, 22, 23]]], dtype=uint8)"
            ]
          },
          "execution_count": 114,
          "metadata": {},
          "output_type": "execute_result"
        }
      ],
      "source": [
        "mis_arrays[\"b\"]"
      ]
    },
    {
      "cell_type": "markdown",
      "metadata": {
        "id": "W_9ctsM3woxx"
      },
      "source": [
        "## Resumen"
      ]
    },
    {
      "cell_type": "markdown",
      "metadata": {
        "id": "-YrShEdMwoxx"
      },
      "source": [
        "En este post hemos introducido `NumPy` la librería de `Python` por defecto para cálculo numérico. Hemos hablado de sus propiedades principales y del objeto básico con el que trabajamos: el `ndarray`. Esta estructura de datos es similar a la lista de `Python`, pero implementada de manera eficiente para su aplicación en cálculo numérico. Con el `ndarray`, o simplemente `array`, podemos definir y operar con valores escalares, vectores, matrices y `tensores` de muchos tipos (numéricos). En el proceso del análisis de datos utilizaremos el `array` como estructura de datos básica tanto para representar nuestros datos (texto, imágenes, vídeos, datos tabulares, etc) como los distintos modelos y algoritmos de Machine Learning y Deep Learning que hagamos. En próximos posts hablaremos en más detalle sobre algunas características importantes que hay que tener en cuenta a la hora de trabajar con `NumPy` para sacarle el máximo provecho y empezaremos a utilizarlo para asentar las bases fundamentales que nos encaminarán hacia el desarrollo e implementación de algoritmos de Inteligencia Artificial."
      ]
    }
  ],
  "metadata": {
    "kernelspec": {
      "display_name": "Python 3",
      "language": "python",
      "name": "python3"
    },
    "language_info": {
      "codemirror_mode": {
        "name": "ipython",
        "version": 3
      },
      "file_extension": ".py",
      "mimetype": "text/x-python",
      "name": "python",
      "nbconvert_exporter": "python",
      "pygments_lexer": "ipython3",
      "version": "3.7.6"
    },
    "toc": {
      "base_numbering": 1,
      "nav_menu": {},
      "number_sections": true,
      "sideBar": true,
      "skip_h1_title": false,
      "title_cell": "Table of Contents",
      "title_sidebar": "Contents",
      "toc_cell": false,
      "toc_position": {},
      "toc_section_display": true,
      "toc_window_display": false
    },
    "colab": {
      "name": "7. Numpy.ipynb",
      "provenance": [],
      "include_colab_link": true
    }
  },
  "nbformat": 4,
  "nbformat_minor": 0
}