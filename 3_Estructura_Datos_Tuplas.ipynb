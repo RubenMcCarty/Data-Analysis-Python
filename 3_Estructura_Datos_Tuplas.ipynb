{
  "cells": [
    {
      "cell_type": "markdown",
      "metadata": {
        "id": "view-in-github",
        "colab_type": "text"
      },
      "source": [
        "<a href=\"https://colab.research.google.com/github/RubenMcCarty/Data-Analysis-Python/blob/main/3_Estructura_Datos_Tuplas.ipynb\" target=\"_parent\"><img src=\"https://colab.research.google.com/assets/colab-badge.svg\" alt=\"Open In Colab\"/></a>"
      ]
    },
    {
      "cell_type": "markdown",
      "metadata": {
        "id": "dr8DSROwPD4a"
      },
      "source": [
        "# Estructuras de Datos en Python\n",
        "# [MSc: Ruben Quispe](https://www.linkedin.com/in/ruben-quispe-l/)"
      ]
    },
    {
      "cell_type": "markdown",
      "metadata": {
        "id": "7NaIAaFJPD4a"
      },
      "source": [
        "En este post vamos a ver los distintos tipos de estructuras de datos que podemos encontrar en `Python`y que podemos aprovechar para nuestros proyectos. Librerías como `Numpy` o `Pandas`, de las cuales hablaremos más adelante, están diseñadas para aportar funcionalidad extra estas estructuras de datos. Las diferentes estructuras de las que hablaremos son: `tuplas`. `listas`, `dicts` y `sets`."
      ]
    },
    {
      "cell_type": "markdown",
      "metadata": {
        "id": "JhVjrperPD4a"
      },
      "source": [
        "## Tuplas"
      ]
    },
    {
      "cell_type": "markdown",
      "metadata": {
        "id": "jdyV7kXqPD4b"
      },
      "source": [
        "Una `tupla` es un objeto `inmutable` con una longitud fija. Un objeto es `inmutable` cuando no puede ser modificado, por lo que utilizar una `tupla` es una decisión para encapsular datos que no queremos que cambien. Para definir una `tupla` simplemente tenemos que definir una secuencia de valores separados por comas dentro de paréntesis.  "
      ]
    },
    {
      "cell_type": "code",
      "execution_count": null,
      "metadata": {
        "ExecuteTime": {
          "end_time": "2020-05-28T12:43:28.640346Z",
          "start_time": "2020-05-28T12:43:28.630346Z"
        },
        "id": "LcHdNhnoPD4b",
        "outputId": "12750f4e-944d-4384-91f4-6055729d1550"
      },
      "outputs": [
        {
          "data": {
            "text/plain": [
              "(1, 2, 3)"
            ]
          },
          "execution_count": 1,
          "metadata": {},
          "output_type": "execute_result"
        }
      ],
      "source": [
        "t = (1, 2, 3)\n",
        "t"
      ]
    },
    {
      "cell_type": "markdown",
      "metadata": {
        "ExecuteTime": {
          "end_time": "2020-05-28T12:44:09.741949Z",
          "start_time": "2020-05-28T12:44:09.722525Z"
        },
        "id": "GL7Faf6MPD4c"
      },
      "source": [
        "Podemos acceder a los diferentes valores de nuestra `tupla` mediante su posición en la secuencia, su índice."
      ]
    },
    {
      "cell_type": "code",
      "execution_count": null,
      "metadata": {
        "ExecuteTime": {
          "end_time": "2020-05-28T12:44:19.584136Z",
          "start_time": "2020-05-28T12:44:19.564623Z"
        },
        "id": "nzmxEIDdPD4c",
        "outputId": "e1105d7b-7b47-4fcc-f1b0-88df87bf91fd"
      },
      "outputs": [
        {
          "data": {
            "text/plain": [
              "1"
            ]
          },
          "execution_count": 3,
          "metadata": {},
          "output_type": "execute_result"
        }
      ],
      "source": [
        "t[0]"
      ]
    },
    {
      "cell_type": "code",
      "execution_count": null,
      "metadata": {
        "ExecuteTime": {
          "end_time": "2020-05-28T12:44:22.245552Z",
          "start_time": "2020-05-28T12:44:22.235553Z"
        },
        "id": "fQjbkLZ6PD4d",
        "outputId": "8a2321dd-d4d1-42c2-f858-a415ea87856b"
      },
      "outputs": [
        {
          "data": {
            "text/plain": [
              "2"
            ]
          },
          "execution_count": 4,
          "metadata": {},
          "output_type": "execute_result"
        }
      ],
      "source": [
        "t[1]"
      ]
    },
    {
      "cell_type": "markdown",
      "metadata": {
        "id": "DoiQde7PPD4d"
      },
      "source": [
        "> ⚠️ Para indexar un objeto en `Python` el prímer índice siempre es `0` y el último índice equivale a la longitud del objeto menos 1. Indexar un valor fuera de este rango nos dará un error."
      ]
    },
    {
      "cell_type": "code",
      "execution_count": null,
      "metadata": {
        "ExecuteTime": {
          "end_time": "2020-05-28T12:46:04.811118Z",
          "start_time": "2020-05-28T12:46:04.799120Z"
        },
        "id": "Mwrr1EAWPD4d",
        "outputId": "da8ec5e1-e07d-4587-9100-c1a28fa2b0be"
      },
      "outputs": [
        {
          "data": {
            "text/plain": [
              "3"
            ]
          },
          "execution_count": 6,
          "metadata": {},
          "output_type": "execute_result"
        }
      ],
      "source": [
        "t[len(t)-1]"
      ]
    },
    {
      "cell_type": "code",
      "execution_count": null,
      "metadata": {
        "ExecuteTime": {
          "end_time": "2020-05-28T12:46:24.936024Z",
          "start_time": "2020-05-28T12:46:24.920026Z"
        },
        "id": "ijEIKiL-PD4e",
        "outputId": "16b6fe1f-507d-4ff0-ea87-9994776acf37"
      },
      "outputs": [
        {
          "ename": "IndexError",
          "evalue": "tuple index out of range",
          "output_type": "error",
          "traceback": [
            "\u001b[1;31m---------------------------------------------------------------------------\u001b[0m",
            "\u001b[1;31mIndexError\u001b[0m                                Traceback (most recent call last)",
            "\u001b[1;32m<ipython-input-7-13d9f6c06c9f>\u001b[0m in \u001b[0;36m<module>\u001b[1;34m\u001b[0m\n\u001b[1;32m----> 1\u001b[1;33m \u001b[0mt\u001b[0m\u001b[1;33m[\u001b[0m\u001b[0mlen\u001b[0m\u001b[1;33m(\u001b[0m\u001b[0mt\u001b[0m\u001b[1;33m)\u001b[0m\u001b[1;33m]\u001b[0m\u001b[1;33m\u001b[0m\u001b[1;33m\u001b[0m\u001b[0m\n\u001b[0m",
            "\u001b[1;31mIndexError\u001b[0m: tuple index out of range"
          ]
        }
      ],
      "source": [
        "t[len(t)]"
      ]
    },
    {
      "cell_type": "markdown",
      "metadata": {
        "id": "rvQiQdR_PD4e"
      },
      "source": [
        "Al ser una `tupla` un objeto `inmutable`, una vez creada no podremos cambiar ninguno de sus valores."
      ]
    },
    {
      "cell_type": "code",
      "execution_count": null,
      "metadata": {
        "ExecuteTime": {
          "end_time": "2020-05-28T12:47:25.642853Z",
          "start_time": "2020-05-28T12:47:25.631856Z"
        },
        "id": "fBq7Ink5PD4e",
        "outputId": "b3be67f4-37f2-4041-f26e-3e397fad4118"
      },
      "outputs": [
        {
          "ename": "TypeError",
          "evalue": "'tuple' object does not support item assignment",
          "output_type": "error",
          "traceback": [
            "\u001b[1;31m---------------------------------------------------------------------------\u001b[0m",
            "\u001b[1;31mTypeError\u001b[0m                                 Traceback (most recent call last)",
            "\u001b[1;32m<ipython-input-8-08a0409f2124>\u001b[0m in \u001b[0;36m<module>\u001b[1;34m\u001b[0m\n\u001b[1;32m----> 1\u001b[1;33m \u001b[0mt\u001b[0m\u001b[1;33m[\u001b[0m\u001b[1;36m0\u001b[0m\u001b[1;33m]\u001b[0m \u001b[1;33m=\u001b[0m \u001b[1;36m4\u001b[0m\u001b[1;33m\u001b[0m\u001b[1;33m\u001b[0m\u001b[0m\n\u001b[0m",
            "\u001b[1;31mTypeError\u001b[0m: 'tuple' object does not support item assignment"
          ]
        }
      ],
      "source": [
        "t[0] = 4"
      ]
    },
    {
      "cell_type": "markdown",
      "metadata": {
        "id": "hcPoC4qLPD4e"
      },
      "source": [
        "Podemos aplicar ciertos operadores sobre una `tupla`, por ejemplo el operador suma permite concatenar varias tuplas mientras que el operador multiplicación nos permite repetir una tupla un número determinado de veces."
      ]
    },
    {
      "cell_type": "code",
      "execution_count": null,
      "metadata": {
        "ExecuteTime": {
          "end_time": "2020-05-28T12:48:44.203751Z",
          "start_time": "2020-05-28T12:48:44.197752Z"
        },
        "id": "HNiHf5PuPD4e",
        "outputId": "249c5e83-ee39-4f4a-ef1a-9f7eb03d123d"
      },
      "outputs": [
        {
          "data": {
            "text/plain": [
              "(1, 2, 3, 4, 5, 6)"
            ]
          },
          "execution_count": 9,
          "metadata": {},
          "output_type": "execute_result"
        }
      ],
      "source": [
        "t1 = (1, 2, 3)\n",
        "t2 = (4, 5, 6)\n",
        "\n",
        "t1 + t2"
      ]
    },
    {
      "cell_type": "code",
      "execution_count": null,
      "metadata": {
        "ExecuteTime": {
          "end_time": "2020-05-28T12:48:46.821898Z",
          "start_time": "2020-05-28T12:48:46.803250Z"
        },
        "id": "ybTsDBmcPD4f",
        "outputId": "1d835232-afe6-4d10-80fe-d8d2454eada6"
      },
      "outputs": [
        {
          "data": {
            "text/plain": [
              "(1, 2, 3, 1, 2, 3, 1, 2, 3)"
            ]
          },
          "execution_count": 10,
          "metadata": {},
          "output_type": "execute_result"
        }
      ],
      "source": [
        "t1*3"
      ]
    },
    {
      "cell_type": "markdown",
      "metadata": {
        "id": "6pQfzF9zPD4f"
      },
      "source": [
        "Podemos extraer todos los valores de una tupla de manera individual con el operador `=`."
      ]
    },
    {
      "cell_type": "code",
      "execution_count": null,
      "metadata": {
        "ExecuteTime": {
          "end_time": "2020-05-28T12:49:46.236869Z",
          "start_time": "2020-05-28T12:49:46.224642Z"
        },
        "id": "8mnxQOH5PD4f",
        "outputId": "976ff1f8-d796-4ebe-ca50-855afed23f94"
      },
      "outputs": [
        {
          "data": {
            "text/plain": [
              "2"
            ]
          },
          "execution_count": 13,
          "metadata": {},
          "output_type": "execute_result"
        }
      ],
      "source": [
        "a, b, c = t1\n",
        "b"
      ]
    },
    {
      "cell_type": "markdown",
      "metadata": {
        "id": "dolGH0ClPD4f"
      },
      "source": [
        "Este uso es muy común  para extraer los diferentes valores devueltos por una `función`, algo de lo que hablaremos en otro post.\n",
        "\n",
        "En una `tupla` podemos incluir valores de diferente tipo."
      ]
    },
    {
      "cell_type": "code",
      "execution_count": null,
      "metadata": {
        "ExecuteTime": {
          "end_time": "2020-05-28T12:54:37.774443Z",
          "start_time": "2020-05-28T12:54:37.758443Z"
        },
        "id": "d_03RZ49PD4g",
        "outputId": "34d2806f-4f3d-4e46-df85-01c0569e14bb"
      },
      "outputs": [
        {
          "data": {
            "text/plain": [
              "(1, 'hola', True)"
            ]
          },
          "execution_count": 15,
          "metadata": {},
          "output_type": "execute_result"
        }
      ],
      "source": [
        "t = (1, \"hola\", True)\n",
        "t"
      ]
    },
    {
      "cell_type": "markdown",
      "metadata": {
        "id": "EkivSRg3PD4g"
      },
      "source": [
        "También podemos iterar por los diferentes valores de una `tupla` de la siguiente manera."
      ]
    },
    {
      "cell_type": "code",
      "execution_count": null,
      "metadata": {
        "ExecuteTime": {
          "end_time": "2020-05-28T12:55:14.825843Z",
          "start_time": "2020-05-28T12:55:14.819844Z"
        },
        "id": "CiZpqeB2PD4g",
        "outputId": "25344fb9-9393-4114-dbb1-cc4e1e89b464"
      },
      "outputs": [
        {
          "name": "stdout",
          "output_type": "stream",
          "text": [
            "1\n",
            "hola\n",
            "True\n"
          ]
        }
      ],
      "source": [
        "for item in t:\n",
        "    print(item)"
      ]
    },
    {
      "cell_type": "markdown",
      "metadata": {
        "id": "p1eWWOEKPD4g"
      },
      "source": [
        "## Listas"
      ]
    },
    {
      "cell_type": "markdown",
      "metadata": {
        "id": "aZGKOaV_PD4h"
      },
      "source": [
        "Una `lista` es un tipo de estructura de datos muy similar a la `tupla`, sin embargo es `mutable` por lo que sí que podremos modificar su longitud y contenido. Definimos una `list` mediante una secuencia de valores separados por comas entre corchetes."
      ]
    },
    {
      "cell_type": "code",
      "execution_count": null,
      "metadata": {
        "ExecuteTime": {
          "end_time": "2020-05-28T13:00:59.565325Z",
          "start_time": "2020-05-28T13:00:59.560323Z"
        },
        "id": "Sbr2Ph8EPD4h",
        "outputId": "ef01e0e8-39e3-4741-c46d-35a078c9b16d"
      },
      "outputs": [
        {
          "data": {
            "text/plain": [
              "[1, 2, 3]"
            ]
          },
          "execution_count": 31,
          "metadata": {},
          "output_type": "execute_result"
        }
      ],
      "source": [
        "l = [1, 2, 3]\n",
        "l"
      ]
    },
    {
      "cell_type": "markdown",
      "metadata": {
        "id": "x2jCeJxkPD4h"
      },
      "source": [
        "Podemos utilizar los `métodos` del objeto `lista` para añadir o quitar elementos."
      ]
    },
    {
      "cell_type": "code",
      "execution_count": null,
      "metadata": {
        "ExecuteTime": {
          "end_time": "2020-05-28T13:00:59.830960Z",
          "start_time": "2020-05-28T13:00:59.812959Z"
        },
        "id": "4QxY7nKtPD4h",
        "outputId": "ae64e1ee-314a-4e0e-8371-f69155460efc"
      },
      "outputs": [
        {
          "data": {
            "text/plain": [
              "[1, 2, 3, 4]"
            ]
          },
          "execution_count": 32,
          "metadata": {},
          "output_type": "execute_result"
        }
      ],
      "source": [
        "# añade un elemento al final de la lista\n",
        "\n",
        "l.append(4)\n",
        "l"
      ]
    },
    {
      "cell_type": "code",
      "execution_count": null,
      "metadata": {
        "ExecuteTime": {
          "end_time": "2020-05-28T13:00:59.941027Z",
          "start_time": "2020-05-28T13:00:59.932023Z"
        },
        "id": "ofxz0T-jPD4h",
        "outputId": "76e15951-460a-4c38-e67a-d7d9514f3ccb"
      },
      "outputs": [
        {
          "data": {
            "text/plain": [
              "[1, 2, 2.5, 3, 4]"
            ]
          },
          "execution_count": 33,
          "metadata": {},
          "output_type": "execute_result"
        }
      ],
      "source": [
        "# insertar un elemento en una posición determinada\n",
        "\n",
        "l.insert(2, 2.5)\n",
        "l"
      ]
    },
    {
      "cell_type": "code",
      "execution_count": null,
      "metadata": {
        "ExecuteTime": {
          "end_time": "2020-05-28T13:01:00.081662Z",
          "start_time": "2020-05-28T13:01:00.064659Z"
        },
        "id": "d2YnH06BPD4h",
        "outputId": "d8f81d66-bd0d-4cfc-a894-ff5345b5c401"
      },
      "outputs": [
        {
          "data": {
            "text/plain": [
              "2.5"
            ]
          },
          "execution_count": 34,
          "metadata": {},
          "output_type": "execute_result"
        }
      ],
      "source": [
        "# quitar y devolver un elemento en una posición determinada\n",
        "\n",
        "l.pop(2)"
      ]
    },
    {
      "cell_type": "code",
      "execution_count": null,
      "metadata": {
        "ExecuteTime": {
          "end_time": "2020-05-28T13:01:00.192814Z",
          "start_time": "2020-05-28T13:01:00.186808Z"
        },
        "id": "7ivQFD4yPD4h",
        "outputId": "c5be73be-78fd-4444-8f12-cba4dde95c2a"
      },
      "outputs": [
        {
          "data": {
            "text/plain": [
              "[1, 2, 3, 4]"
            ]
          },
          "execution_count": 35,
          "metadata": {},
          "output_type": "execute_result"
        }
      ],
      "source": [
        "l"
      ]
    },
    {
      "cell_type": "code",
      "execution_count": null,
      "metadata": {
        "ExecuteTime": {
          "end_time": "2020-05-28T13:01:00.320179Z",
          "start_time": "2020-05-28T13:01:00.313180Z"
        },
        "id": "GShOrA5DPD4h",
        "outputId": "af0cbcf2-5d20-4575-f446-2ac3d73e6738"
      },
      "outputs": [
        {
          "data": {
            "text/plain": [
              "[1, 2, 4]"
            ]
          },
          "execution_count": 36,
          "metadata": {},
          "output_type": "execute_result"
        }
      ],
      "source": [
        "# quitar un elemento especificando su valor\n",
        "\n",
        "l.remove(3)\n",
        "l"
      ]
    },
    {
      "cell_type": "markdown",
      "metadata": {
        "id": "f6QjvqUaPD4h"
      },
      "source": [
        "Podemos utilizar operadores condicionales para saber si una `lista` contiene o no un elemento en particular."
      ]
    },
    {
      "cell_type": "code",
      "execution_count": null,
      "metadata": {
        "ExecuteTime": {
          "end_time": "2020-05-28T13:01:43.624918Z",
          "start_time": "2020-05-28T13:01:43.616407Z"
        },
        "id": "UviZfnz_PD4h",
        "outputId": "6b3662aa-028d-4159-f357-1bf3a83bac08"
      },
      "outputs": [
        {
          "data": {
            "text/plain": [
              "False"
            ]
          },
          "execution_count": 37,
          "metadata": {},
          "output_type": "execute_result"
        }
      ],
      "source": [
        "3 in l"
      ]
    },
    {
      "cell_type": "code",
      "execution_count": null,
      "metadata": {
        "ExecuteTime": {
          "end_time": "2020-05-28T13:01:51.740204Z",
          "start_time": "2020-05-28T13:01:51.728546Z"
        },
        "id": "TNgGbNfhPD4h",
        "outputId": "7636fed8-d08c-455d-87ee-1633cd27a530"
      },
      "outputs": [
        {
          "data": {
            "text/plain": [
              "True"
            ]
          },
          "execution_count": 39,
          "metadata": {},
          "output_type": "execute_result"
        }
      ],
      "source": [
        "3 not in l"
      ]
    },
    {
      "cell_type": "markdown",
      "metadata": {
        "id": "jUhniIJrPD4h"
      },
      "source": [
        "De la misma manera que con una `tupla` podemos usar operadores para concatenar o repetir `listas`."
      ]
    },
    {
      "cell_type": "code",
      "execution_count": null,
      "metadata": {
        "ExecuteTime": {
          "end_time": "2020-05-28T13:03:07.227914Z",
          "start_time": "2020-05-28T13:03:07.222914Z"
        },
        "id": "lhyO7YPmPD4i",
        "outputId": "1e4ddd64-7b1c-4f34-ce52-8135bc53c694"
      },
      "outputs": [
        {
          "data": {
            "text/plain": [
              "[1, 2, 3, 'hola', 'que', 'tal']"
            ]
          },
          "execution_count": 40,
          "metadata": {},
          "output_type": "execute_result"
        }
      ],
      "source": [
        "l1 = [1, 2, 3]\n",
        "l2 = [\"hola\", \"que\", \"tal\"]\n",
        "\n",
        "l1 + l2"
      ]
    },
    {
      "cell_type": "code",
      "execution_count": null,
      "metadata": {
        "ExecuteTime": {
          "end_time": "2020-05-28T13:03:09.605587Z",
          "start_time": "2020-05-28T13:03:09.597076Z"
        },
        "id": "nWmdhG7gPD4i",
        "outputId": "20422801-6c18-4b4e-934e-af41bed60548"
      },
      "outputs": [
        {
          "data": {
            "text/plain": [
              "[1, 2, 3, 1, 2, 3, 1, 2, 3]"
            ]
          },
          "execution_count": 41,
          "metadata": {},
          "output_type": "execute_result"
        }
      ],
      "source": [
        "l1*3"
      ]
    },
    {
      "cell_type": "markdown",
      "metadata": {
        "id": "xMUmn530PD4i"
      },
      "source": [
        "Podemos acceder a un valor en particular mediante su índice."
      ]
    },
    {
      "cell_type": "code",
      "execution_count": null,
      "metadata": {
        "ExecuteTime": {
          "end_time": "2020-05-28T13:04:58.483459Z",
          "start_time": "2020-05-28T13:04:58.476817Z"
        },
        "id": "2pBqO3r0PD4i",
        "outputId": "c5a0e990-3a96-461e-d0e8-b1a6b30532be"
      },
      "outputs": [
        {
          "data": {
            "text/plain": [
              "1"
            ]
          },
          "execution_count": 44,
          "metadata": {},
          "output_type": "execute_result"
        }
      ],
      "source": [
        "l = [1, 2, 3, 4]\n",
        "l[0]"
      ]
    },
    {
      "cell_type": "markdown",
      "metadata": {
        "id": "RdZ8FaU9PD4i"
      },
      "source": [
        "También podemos seleccionar un subgrupo de valores dentro de la lista con los operadores de troceado."
      ]
    },
    {
      "cell_type": "code",
      "execution_count": null,
      "metadata": {
        "ExecuteTime": {
          "end_time": "2020-05-28T13:05:51.975140Z",
          "start_time": "2020-05-28T13:05:51.962115Z"
        },
        "id": "phFxUsy2PD4i",
        "outputId": "3674c914-298b-4c6f-bd1c-4b8f0b702471"
      },
      "outputs": [
        {
          "data": {
            "text/plain": [
              "[2, 3]"
            ]
          },
          "execution_count": 46,
          "metadata": {},
          "output_type": "execute_result"
        }
      ],
      "source": [
        "# devuelve los valores entre los ínideces 1 (inclusivo) y 3 (exclusivo)\n",
        "\n",
        "l[1:3]"
      ]
    },
    {
      "cell_type": "code",
      "execution_count": null,
      "metadata": {
        "ExecuteTime": {
          "end_time": "2020-05-28T13:06:15.658997Z",
          "start_time": "2020-05-28T13:06:15.644432Z"
        },
        "id": "Dzip9S5aPD4i",
        "outputId": "bb0f41c4-27e0-4f03-d720-2af2409514dd"
      },
      "outputs": [
        {
          "data": {
            "text/plain": [
              "[1, 2]"
            ]
          },
          "execution_count": 48,
          "metadata": {},
          "output_type": "execute_result"
        }
      ],
      "source": [
        "# devuelve los primeros dos valores\n",
        "\n",
        "l[:2]"
      ]
    },
    {
      "cell_type": "code",
      "execution_count": null,
      "metadata": {
        "ExecuteTime": {
          "end_time": "2020-05-28T13:06:23.518537Z",
          "start_time": "2020-05-28T13:06:23.500499Z"
        },
        "id": "EcopYVTyPD4i",
        "outputId": "448df5b7-e15b-43cc-b77c-55f8ec981ae0"
      },
      "outputs": [
        {
          "data": {
            "text/plain": [
              "[3, 4]"
            ]
          },
          "execution_count": 49,
          "metadata": {},
          "output_type": "execute_result"
        }
      ],
      "source": [
        "# devuelve todos los valores desde el índice 2 hasta el final\n",
        "\n",
        "l[2:]"
      ]
    },
    {
      "cell_type": "markdown",
      "metadata": {
        "id": "CJZFspPTPD4i"
      },
      "source": [
        "Podemos utilizar índices negativos para indexar de manera relativa al final de la `lista`."
      ]
    },
    {
      "cell_type": "code",
      "execution_count": null,
      "metadata": {
        "ExecuteTime": {
          "end_time": "2020-05-28T13:06:52.298792Z",
          "start_time": "2020-05-28T13:06:52.289280Z"
        },
        "id": "claSahXbPD4i",
        "outputId": "d944d631-7c0c-4b64-9dd8-5f2840f406f2"
      },
      "outputs": [
        {
          "data": {
            "text/plain": [
              "4"
            ]
          },
          "execution_count": 50,
          "metadata": {},
          "output_type": "execute_result"
        }
      ],
      "source": [
        "# devuelve el último valor\n",
        "\n",
        "l[-1]"
      ]
    },
    {
      "cell_type": "code",
      "execution_count": null,
      "metadata": {
        "ExecuteTime": {
          "end_time": "2020-05-28T13:07:02.159361Z",
          "start_time": "2020-05-28T13:07:02.143338Z"
        },
        "id": "mSrsMFztPD4i",
        "outputId": "15c0d949-f733-4806-eb52-cc3c9f8dc14f"
      },
      "outputs": [
        {
          "data": {
            "text/plain": [
              "[3, 4]"
            ]
          },
          "execution_count": 51,
          "metadata": {},
          "output_type": "execute_result"
        }
      ],
      "source": [
        "# devuelve los últimos dos valores\n",
        "\n",
        "l[-2:]"
      ]
    },
    {
      "cell_type": "code",
      "execution_count": null,
      "metadata": {
        "ExecuteTime": {
          "end_time": "2020-05-28T13:08:08.769260Z",
          "start_time": "2020-05-28T13:08:08.757745Z"
        },
        "id": "Vbwnq5mhPD4i",
        "outputId": "5b03c29d-3561-49d3-869b-a191ba5c3866"
      },
      "outputs": [
        {
          "data": {
            "text/plain": [
              "[1, 2]"
            ]
          },
          "execution_count": 53,
          "metadata": {},
          "output_type": "execute_result"
        }
      ],
      "source": [
        "# devuelve todos los valores excepto los dos últimos\n",
        "\n",
        "l[:-2]"
      ]
    },
    {
      "cell_type": "markdown",
      "metadata": {
        "id": "A7p7VnIMPD4i"
      },
      "source": [
        "Podemos utilizar un tercer argumento para definir un salto en el indexado."
      ]
    },
    {
      "cell_type": "code",
      "execution_count": null,
      "metadata": {
        "ExecuteTime": {
          "end_time": "2020-05-28T13:08:44.991687Z",
          "start_time": "2020-05-28T13:08:44.978689Z"
        },
        "id": "Z76zAWVDPD4i",
        "outputId": "7d159111-5ae0-4cc4-9a2d-59a222499941"
      },
      "outputs": [
        {
          "data": {
            "text/plain": [
              "[1, 3]"
            ]
          },
          "execution_count": 54,
          "metadata": {},
          "output_type": "execute_result"
        }
      ],
      "source": [
        "# devuelve todos los valores en saltos de dos\n",
        "\n",
        "l[::2]"
      ]
    },
    {
      "cell_type": "code",
      "execution_count": null,
      "metadata": {
        "ExecuteTime": {
          "end_time": "2020-05-28T13:09:20.498937Z",
          "start_time": "2020-05-28T13:09:20.488360Z"
        },
        "id": "sN6spSi6PD4j",
        "outputId": "11799180-9c9f-42c2-fb13-afa1ca5e8f70"
      },
      "outputs": [
        {
          "data": {
            "text/plain": [
              "[4, 3, 2, 1]"
            ]
          },
          "execution_count": 55,
          "metadata": {},
          "output_type": "execute_result"
        }
      ],
      "source": [
        "# invierte la lista\n",
        "\n",
        "l[::-1]"
      ]
    },
    {
      "cell_type": "markdown",
      "metadata": {
        "id": "wiMjZKsnPD4j"
      },
      "source": [
        "### Funciones secuenciales"
      ]
    },
    {
      "cell_type": "markdown",
      "metadata": {
        "id": "1EGblgnbPD4j"
      },
      "source": [
        "En `Python` existen varias funciones secuenciales que nos permiten iterar sobre secuencias."
      ]
    },
    {
      "cell_type": "code",
      "execution_count": null,
      "metadata": {
        "ExecuteTime": {
          "end_time": "2020-05-28T13:11:00.922786Z",
          "start_time": "2020-05-28T13:11:00.911277Z"
        },
        "id": "rCl6IwDgPD4j",
        "outputId": "b22b9af1-1957-4ef0-a125-a88f258831b0"
      },
      "outputs": [
        {
          "name": "stdout",
          "output_type": "stream",
          "text": [
            "0 1\n",
            "1 2\n",
            "2 3\n",
            "3 4\n"
          ]
        }
      ],
      "source": [
        "# itera manteniendo el índice y el valor\n",
        "\n",
        "for i, v in enumerate(l):\n",
        "    print(i, v)"
      ]
    },
    {
      "cell_type": "code",
      "execution_count": null,
      "metadata": {
        "ExecuteTime": {
          "end_time": "2020-05-28T13:12:01.108700Z",
          "start_time": "2020-05-28T13:12:01.091589Z"
        },
        "id": "TimRjMkHPD4j",
        "outputId": "8821c7dc-e80e-4f38-c5e8-609788d5df69"
      },
      "outputs": [
        {
          "name": "stdout",
          "output_type": "stream",
          "text": [
            "1 hola\n",
            "2 que\n",
            "3 tal\n"
          ]
        }
      ],
      "source": [
        "# itera varias listas a la vez\n",
        "\n",
        "for v1, v2 in zip(l1, l2):\n",
        "    print(v1, v2)"
      ]
    },
    {
      "cell_type": "code",
      "execution_count": null,
      "metadata": {
        "ExecuteTime": {
          "end_time": "2020-05-28T13:12:44.128400Z",
          "start_time": "2020-05-28T13:12:44.115402Z"
        },
        "id": "kyEILaJ_PD4j",
        "outputId": "876366d9-8b08-4326-910e-ed1e8d025537"
      },
      "outputs": [
        {
          "name": "stdout",
          "output_type": "stream",
          "text": [
            "4\n",
            "3\n",
            "2\n",
            "1\n"
          ]
        }
      ],
      "source": [
        "# itera una lista al revés\n",
        "\n",
        "for v in reversed(l):\n",
        "    print(v)"
      ]
    },
    {
      "cell_type": "markdown",
      "metadata": {
        "heading_collapsed": true,
        "id": "giTydH7tPD4j"
      },
      "source": [
        "## Dict"
      ]
    },
    {
      "cell_type": "markdown",
      "metadata": {
        "hidden": true,
        "id": "ZaMOjyZvPD4j"
      },
      "source": [
        "`dict` es probablemente la estructura de datos más importante en `Python`. También se le conoce por el nombre de `hash map`. Consiste en una colección de pares `clave-valor` dónde tanto la `calve` como el `valor` son `objetos` de Python. Definimos un `dict` mediante una secuencia de claves-valor entre llaves."
      ]
    },
    {
      "cell_type": "code",
      "execution_count": null,
      "metadata": {
        "ExecuteTime": {
          "end_time": "2020-05-28T13:16:08.501234Z",
          "start_time": "2020-05-28T13:16:08.493721Z"
        },
        "hidden": true,
        "id": "2G85iNOsPD4j",
        "outputId": "e905d6b0-fa58-48f7-854a-cb9bbd9538b8"
      },
      "outputs": [
        {
          "data": {
            "text/plain": [
              "{'a': 1, 'b': 2, 'c': 3}"
            ]
          },
          "execution_count": 60,
          "metadata": {},
          "output_type": "execute_result"
        }
      ],
      "source": [
        "d = {'a': 1, 'b': 2, 'c': 3}\n",
        "d"
      ]
    },
    {
      "cell_type": "markdown",
      "metadata": {
        "hidden": true,
        "id": "UzEi0-LnPD4j"
      },
      "source": [
        "Podemos insertar nuevos valores especificando la nueva `clave` y el nuevo `valor` de la siguiente manera."
      ]
    },
    {
      "cell_type": "code",
      "execution_count": null,
      "metadata": {
        "ExecuteTime": {
          "end_time": "2020-05-28T13:16:52.912044Z",
          "start_time": "2020-05-28T13:16:52.902046Z"
        },
        "hidden": true,
        "id": "cQZMV6dvPD4j",
        "outputId": "2cebab70-8e9c-4eb8-ca1e-5ba3b0765760"
      },
      "outputs": [
        {
          "data": {
            "text/plain": [
              "{'a': 1, 'b': 2, 'c': 3, 'd': 4}"
            ]
          },
          "execution_count": 61,
          "metadata": {},
          "output_type": "execute_result"
        }
      ],
      "source": [
        "d['d'] = 4\n",
        "d"
      ]
    },
    {
      "cell_type": "markdown",
      "metadata": {
        "hidden": true,
        "id": "zlEOSvxGPD4j"
      },
      "source": [
        "Podemos comprobar si un `dict` contiene alguna clave en particular así"
      ]
    },
    {
      "cell_type": "code",
      "execution_count": null,
      "metadata": {
        "ExecuteTime": {
          "end_time": "2020-05-28T13:17:40.897743Z",
          "start_time": "2020-05-28T13:17:40.890434Z"
        },
        "hidden": true,
        "id": "gVuipQfWPD4j",
        "outputId": "babdb6df-cd3c-47c8-f7b8-4a4e4bb6cae6"
      },
      "outputs": [
        {
          "data": {
            "text/plain": [
              "True"
            ]
          },
          "execution_count": 62,
          "metadata": {},
          "output_type": "execute_result"
        }
      ],
      "source": [
        "'a' in d"
      ]
    },
    {
      "cell_type": "code",
      "execution_count": null,
      "metadata": {
        "ExecuteTime": {
          "end_time": "2020-05-28T13:17:48.767329Z",
          "start_time": "2020-05-28T13:17:48.750330Z"
        },
        "hidden": true,
        "id": "BzABCbKYPD4j",
        "outputId": "62b27f0b-6903-44b7-f394-f0f8351ea838"
      },
      "outputs": [
        {
          "data": {
            "text/plain": [
              "False"
            ]
          },
          "execution_count": 63,
          "metadata": {},
          "output_type": "execute_result"
        }
      ],
      "source": [
        "'a' not in d"
      ]
    },
    {
      "cell_type": "markdown",
      "metadata": {
        "hidden": true,
        "id": "cxIsAv5MPD4j"
      },
      "source": [
        "Podemos eliminar entradas en un `dict` con la palabra clave `del`."
      ]
    },
    {
      "cell_type": "code",
      "execution_count": null,
      "metadata": {
        "ExecuteTime": {
          "end_time": "2020-05-28T13:18:29.348363Z",
          "start_time": "2020-05-28T13:18:29.329363Z"
        },
        "hidden": true,
        "id": "bq9afe1vPD4j",
        "outputId": "b54dc1c7-8436-4f2f-fbb2-f7b399a134d1"
      },
      "outputs": [
        {
          "data": {
            "text/plain": [
              "{'a': 1, 'b': 2, 'c': 3}"
            ]
          },
          "execution_count": 64,
          "metadata": {},
          "output_type": "execute_result"
        }
      ],
      "source": [
        "del d['d']\n",
        "d"
      ]
    },
    {
      "cell_type": "markdown",
      "metadata": {
        "hidden": true,
        "id": "n4deRpo3PD4k"
      },
      "source": [
        "Podemos obtener una lista de todas las `calves` y `valores` de un `dict` con los métodos `keys` y `values` respectivamente."
      ]
    },
    {
      "cell_type": "code",
      "execution_count": null,
      "metadata": {
        "ExecuteTime": {
          "end_time": "2020-05-28T13:19:36.360200Z",
          "start_time": "2020-05-28T13:19:36.343666Z"
        },
        "hidden": true,
        "id": "CGo8jZ6jPD4k",
        "outputId": "22b10434-3c59-4938-c6b4-9dca0cca2c1e"
      },
      "outputs": [
        {
          "data": {
            "text/plain": [
              "dict_keys(['a', 'b', 'c'])"
            ]
          },
          "execution_count": 65,
          "metadata": {},
          "output_type": "execute_result"
        }
      ],
      "source": [
        "d.keys()"
      ]
    },
    {
      "cell_type": "code",
      "execution_count": null,
      "metadata": {
        "ExecuteTime": {
          "end_time": "2020-05-28T13:19:40.084399Z",
          "start_time": "2020-05-28T13:19:40.072400Z"
        },
        "hidden": true,
        "id": "ogbsuA5dPD4k",
        "outputId": "6cb1bfb3-9df1-48b0-fcb3-9e98a8254f9b"
      },
      "outputs": [
        {
          "data": {
            "text/plain": [
              "dict_values([1, 2, 3])"
            ]
          },
          "execution_count": 66,
          "metadata": {},
          "output_type": "execute_result"
        }
      ],
      "source": [
        "d.values()"
      ]
    },
    {
      "cell_type": "markdown",
      "metadata": {
        "hidden": true,
        "id": "enOBUOrePD4k"
      },
      "source": [
        "Podemos mezclar dos `dicts` con el método `update`."
      ]
    },
    {
      "cell_type": "code",
      "execution_count": null,
      "metadata": {
        "ExecuteTime": {
          "end_time": "2020-05-28T13:20:25.452866Z",
          "start_time": "2020-05-28T13:20:25.445845Z"
        },
        "hidden": true,
        "id": "MreKOUANPD4k",
        "outputId": "df211011-4d46-4f05-f7c4-548e603823c7"
      },
      "outputs": [
        {
          "data": {
            "text/plain": [
              "{'a': 1, 'b': 2, 'c': 3, 'd': 4, 'e': 5}"
            ]
          },
          "execution_count": 68,
          "metadata": {},
          "output_type": "execute_result"
        }
      ],
      "source": [
        "d2 = {'d': 4, 'e': 5}\n",
        "d.update(d2)\n",
        "d"
      ]
    },
    {
      "cell_type": "markdown",
      "metadata": {
        "hidden": true,
        "id": "a6ihh8M1PD4k"
      },
      "source": [
        "En `Python` es muy común crear `dicts` a partir de `listas`."
      ]
    },
    {
      "cell_type": "code",
      "execution_count": null,
      "metadata": {
        "ExecuteTime": {
          "end_time": "2020-05-28T13:23:47.836713Z",
          "start_time": "2020-05-28T13:23:47.826886Z"
        },
        "hidden": true,
        "id": "AYdqi0g3PD4k",
        "outputId": "73f98c20-bbd1-42f2-d4d1-6fd219be1fb5"
      },
      "outputs": [
        {
          "data": {
            "text/plain": [
              "{'a': 1, 'b': 2, 'c': 3}"
            ]
          },
          "execution_count": 69,
          "metadata": {},
          "output_type": "execute_result"
        }
      ],
      "source": [
        "d = {}\n",
        "keys = ['a', 'b', 'c']\n",
        "values = [1, 2, 3]\n",
        "for k, v in zip(keys, values):\n",
        "    d[k] = v\n",
        "d"
      ]
    },
    {
      "cell_type": "markdown",
      "metadata": {
        "heading_collapsed": true,
        "id": "FWXf8Jl3PD4k"
      },
      "source": [
        "## Sets"
      ]
    },
    {
      "cell_type": "markdown",
      "metadata": {
        "hidden": true,
        "id": "tclMhFsSPD4k"
      },
      "source": [
        "Un `set` es una colección no ordenada de `objetos` únicos, puede verse como un `dict` en el que sólo tenemos claves y no valores. Podemos crear un `set` mediante una secuencia de valores separados por comas entre llaves. "
      ]
    },
    {
      "cell_type": "code",
      "execution_count": null,
      "metadata": {
        "ExecuteTime": {
          "end_time": "2020-05-28T13:27:54.815959Z",
          "start_time": "2020-05-28T13:27:54.798960Z"
        },
        "hidden": true,
        "id": "023JqJPBPD4k",
        "outputId": "50d3a3b8-1418-40eb-ab3f-3072901a2d8f"
      },
      "outputs": [
        {
          "data": {
            "text/plain": [
              "{1, 2, 3}"
            ]
          },
          "execution_count": 70,
          "metadata": {},
          "output_type": "execute_result"
        }
      ],
      "source": [
        "s = {1, 2, 3}\n",
        "s"
      ]
    },
    {
      "cell_type": "markdown",
      "metadata": {
        "hidden": true,
        "id": "qkleVA5hPD4k"
      },
      "source": [
        "Tenemos diferentes `métodos` a nuestra disposición para trabajar con `sets`."
      ]
    },
    {
      "cell_type": "code",
      "execution_count": null,
      "metadata": {
        "ExecuteTime": {
          "end_time": "2020-05-28T13:29:44.522279Z",
          "start_time": "2020-05-28T13:29:44.512732Z"
        },
        "hidden": true,
        "id": "W5xBv0VPPD4k",
        "outputId": "24910c14-f29b-472a-c69b-bef21636d116"
      },
      "outputs": [
        {
          "data": {
            "text/plain": [
              "{1, 2, 3, 4, 5, 6}"
            ]
          },
          "execution_count": 72,
          "metadata": {},
          "output_type": "execute_result"
        }
      ],
      "source": [
        "# unión\n",
        "\n",
        "a = {1, 2, 3, 4}\n",
        "b = {3, 4, 5, 6}\n",
        "\n",
        "a.union(b)"
      ]
    },
    {
      "cell_type": "code",
      "execution_count": null,
      "metadata": {
        "ExecuteTime": {
          "end_time": "2020-05-28T13:29:57.061414Z",
          "start_time": "2020-05-28T13:29:57.056485Z"
        },
        "hidden": true,
        "id": "OQFFTYwiPD4k",
        "outputId": "46c58906-9029-4145-f43c-68e8eeb2f261"
      },
      "outputs": [
        {
          "data": {
            "text/plain": [
              "{3, 4}"
            ]
          },
          "execution_count": 73,
          "metadata": {},
          "output_type": "execute_result"
        }
      ],
      "source": [
        "# intersección\n",
        "\n",
        "a.intersection(b)"
      ]
    },
    {
      "cell_type": "code",
      "execution_count": null,
      "metadata": {
        "ExecuteTime": {
          "end_time": "2020-05-28T13:30:45.554304Z",
          "start_time": "2020-05-28T13:30:45.535284Z"
        },
        "hidden": true,
        "id": "J2VxFWnUPD4k",
        "outputId": "908839a4-8a7f-43ae-d022-73a85c47bcdb"
      },
      "outputs": [
        {
          "data": {
            "text/plain": [
              "True"
            ]
          },
          "execution_count": 75,
          "metadata": {},
          "output_type": "execute_result"
        }
      ],
      "source": [
        "# sub-sets\n",
        "\n",
        "{1, 2}.issubset(a)"
      ]
    },
    {
      "cell_type": "code",
      "execution_count": null,
      "metadata": {
        "ExecuteTime": {
          "end_time": "2020-05-28T13:30:54.598519Z",
          "start_time": "2020-05-28T13:30:54.594519Z"
        },
        "hidden": true,
        "id": "a6Hn1_HbPD4k",
        "outputId": "25a36ef6-ff88-4f7e-ef97-3fc9c3fd754a"
      },
      "outputs": [
        {
          "data": {
            "text/plain": [
              "False"
            ]
          },
          "execution_count": 76,
          "metadata": {},
          "output_type": "execute_result"
        }
      ],
      "source": [
        "{5, 6}.issubset(a)"
      ]
    },
    {
      "cell_type": "markdown",
      "metadata": {
        "heading_collapsed": true,
        "id": "fVqfyF_DPD4k"
      },
      "source": [
        "## List comprehension"
      ]
    },
    {
      "cell_type": "markdown",
      "metadata": {
        "hidden": true,
        "id": "vlZyWwS4PD4k"
      },
      "source": [
        "`List comprehension` es una de las características más útiles en `Python` ya que proveen una manera rápida y concisa de crear una nueva lista a partir de otra pudiendo filtrar o transformar los diferentes elementos."
      ]
    },
    {
      "cell_type": "code",
      "execution_count": null,
      "metadata": {
        "ExecuteTime": {
          "end_time": "2020-05-28T13:34:49.105336Z",
          "start_time": "2020-05-28T13:34:49.096133Z"
        },
        "hidden": true,
        "id": "v-UMEaobPD4l",
        "outputId": "72857172-5e35-43cc-a6cc-56a9ee777330"
      },
      "outputs": [
        {
          "data": {
            "text/plain": [
              "[2, 4, 6, 8, 10]"
            ]
          },
          "execution_count": 77,
          "metadata": {},
          "output_type": "execute_result"
        }
      ],
      "source": [
        "l = [1, 2, 3, 4, 5]\n",
        "\n",
        "# obtener una nueva lista con elementos multiplicados por 2\n",
        "l2 = []\n",
        "for i in l:\n",
        "    l2.append(i*2)\n",
        "l2"
      ]
    },
    {
      "cell_type": "code",
      "execution_count": null,
      "metadata": {
        "ExecuteTime": {
          "end_time": "2020-05-28T13:35:05.620061Z",
          "start_time": "2020-05-28T13:35:05.615062Z"
        },
        "hidden": true,
        "id": "qT71GRAoPD4l",
        "outputId": "a8d1144d-3d1b-440a-cb7b-3b22ab02c896"
      },
      "outputs": [
        {
          "data": {
            "text/plain": [
              "[2, 4, 6, 8, 10]"
            ]
          },
          "execution_count": 78,
          "metadata": {},
          "output_type": "execute_result"
        }
      ],
      "source": [
        "# usando `list comprehension`\n",
        "\n",
        "l2 = [2*i for i in l]\n",
        "l2"
      ]
    },
    {
      "cell_type": "markdown",
      "metadata": {
        "hidden": true,
        "id": "zRhsMQm9PD4l"
      },
      "source": [
        "Podemos usar expresiones equivalentes con el resto de estructuras de datos, por ejemplo con un `dict`."
      ]
    },
    {
      "cell_type": "code",
      "execution_count": null,
      "metadata": {
        "ExecuteTime": {
          "end_time": "2020-05-28T13:39:06.147507Z",
          "start_time": "2020-05-28T13:39:06.133986Z"
        },
        "hidden": true,
        "id": "4fQ_OZlNPD4l",
        "outputId": "a20836e5-3dba-4d5b-9dde-c1dd4e2d3d36"
      },
      "outputs": [
        {
          "data": {
            "text/plain": [
              "{'a': 1, 'b': 2}"
            ]
          },
          "execution_count": 81,
          "metadata": {},
          "output_type": "execute_result"
        }
      ],
      "source": [
        "l1 = [\"a\", \"b\", \"c\"]\n",
        "l2 = [1, 2, 3]\n",
        "\n",
        "d = {k: v for k, v in zip(l1, l2) if v <= 2}\n",
        "d"
      ]
    },
    {
      "cell_type": "markdown",
      "metadata": {
        "hidden": true,
        "id": "KrJzhvefPD4l"
      },
      "source": [
        "Como puedes ver `list comprehension` permite generar nuevas estructuras de datos de manera concisa, siendo muy útil para operaciones de mapeo o filtrado."
      ]
    },
    {
      "cell_type": "markdown",
      "metadata": {
        "id": "vCgbmT8OPD4l"
      },
      "source": [
        "## Resumen"
      ]
    },
    {
      "cell_type": "markdown",
      "metadata": {
        "id": "ZGpFYK2iPD4l"
      },
      "source": [
        "En este post hemos visto las estructuras de datos que `Python` no ofrece así como las funciones más útiles a la hora de trabajar con ellas. Podemos usar `tuplas`, `listas`, `dicts` y `sets` para agrupar `objetos` de `Python` en estructuras con entidad y funcionalidad propia. Librerías de análisis de datos como `Numpy` o `Pandas` extienden estas estructuras de datos y funcionalidades para llevar a cabo tareas más complejas e interesantes."
      ]
    }
  ],
  "metadata": {
    "kernelspec": {
      "display_name": "Python 3",
      "language": "python",
      "name": "python3"
    },
    "language_info": {
      "codemirror_mode": {
        "name": "ipython",
        "version": 3
      },
      "file_extension": ".py",
      "mimetype": "text/x-python",
      "name": "python",
      "nbconvert_exporter": "python",
      "pygments_lexer": "ipython3",
      "version": "3.7.6"
    },
    "toc": {
      "base_numbering": 1,
      "nav_menu": {},
      "number_sections": true,
      "sideBar": true,
      "skip_h1_title": false,
      "title_cell": "Table of Contents",
      "title_sidebar": "Contents",
      "toc_cell": false,
      "toc_position": {},
      "toc_section_display": true,
      "toc_window_display": true
    },
    "colab": {
      "name": "3. Estructura-Datos Tuplas.ipynb",
      "provenance": [],
      "include_colab_link": true
    }
  },
  "nbformat": 4,
  "nbformat_minor": 0
}