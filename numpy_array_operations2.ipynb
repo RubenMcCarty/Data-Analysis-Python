{
  "cells": [
    {
      "cell_type": "markdown",
      "metadata": {
        "id": "view-in-github",
        "colab_type": "text"
      },
      "source": [
        "<a href=\"https://colab.research.google.com/github/RubenMcCarty/Data-Analysis-Python/blob/main/numpy_array_operations2.ipynb\" target=\"_parent\"><img src=\"https://colab.research.google.com/assets/colab-badge.svg\" alt=\"Open In Colab\"/></a>"
      ]
    },
    {
      "cell_type": "markdown",
      "metadata": {
        "id": "h9M7Km3QmSgH"
      },
      "source": [
        "> ### **Assignment 2 - Numpy Array Operations** \n",
        ">\n",
        "> This assignment is part of the course [\"Data Analysis with Python: Zero to Pandas\"] The objective of this assignment is to develop a solid understanding of Numpy array operations. In this assignment you will:\n",
        "> \n",
        "> 1. Pick 5 interesting Numpy array functions by going through the documentation: https://numpy.org/doc/stable/reference/routines.html \n",
        "> 2. Run and modify this Jupyter notebook to illustrate their usage (some explanation and 3 examples for each function). Use your imagination to come up with interesting and unique examples.\n",
        "> 4. (Optional) Share your notebook online (on Twitter, LinkedIn, Facebook) and on the community forum thread: https://jovian.ml/forum/t/assignment-2-numpy-array-operations-share-your-work/10575 . \n",
        "\n",
        "> The recommended way to run this notebook is to click the \"Run\" button at the top of this page, and select \"Run on Binder\". This will run the notebook on mybinder.org, a free online service for running Jupyter notebooks.\n",
        ">\n",
        "> Try to give your notebook a catchy title & subtitle e.g. \"All about Numpy array operations\", \"5 Numpy functions you didn't know you needed\", \"A beginner's guide to broadcasting in Numpy\", \"Interesting ways to create Numpy arrays\", \"Trigonometic functions in Numpy\", \"How to use Python for Linear Algebra\" etc.\n",
        ">\n",
        "> **NOTE**: Remove this block of explanation text before submitting or sharing your notebook online - to make it more presentable.\n",
        "\n",
        "\n",
        "# Title Here\n",
        "\n",
        "\n",
        "### Subtitle Here\n",
        "\n",
        "Write a short introduction about Numpy and list the chosen functions. \n",
        "\n",
        "- function 1\n",
        "- function 2\n",
        "- function 3\n",
        "- function 4\n",
        "- function 5\n",
        "\n",
        "The recommended way to run this notebook is to click the \"Run\" button at the top of this page, and select \"Run on Binder\". This will run the notebook on mybinder.org, a free online service for running Jupyter notebooks."
      ]
    },
    {
      "cell_type": "markdown",
      "metadata": {
        "id": "5QAEedqlmSgN"
      },
      "source": [
        "Let's begin by importing Numpy and listing out the functions covered in this notebook."
      ]
    },
    {
      "cell_type": "code",
      "execution_count": null,
      "metadata": {
        "id": "4fXukMydmSgN"
      },
      "outputs": [],
      "source": [
        "import numpy as np"
      ]
    },
    {
      "cell_type": "code",
      "execution_count": null,
      "metadata": {
        "id": "AF8gWh2UmSgN"
      },
      "outputs": [],
      "source": [
        "# List of functions explained \n",
        "function1 = np.concatenate  # (change this)\n",
        "function2 = ???\n",
        "function3 = ???\n",
        "function4 = ???\n",
        "function5 = ???"
      ]
    },
    {
      "cell_type": "markdown",
      "metadata": {
        "id": "7ddFY8NbmSgO"
      },
      "source": [
        "## Function 1 - np.concatenate (change this)\n",
        "\n",
        "Add some explanation about the function in your own words"
      ]
    },
    {
      "cell_type": "code",
      "execution_count": null,
      "metadata": {
        "id": "qJWHdMyRmSgO",
        "outputId": "e47e40f6-b4d3-4ba1-de98-7ad368b4667c"
      },
      "outputs": [
        {
          "data": {
            "text/plain": [
              "array([[ 1.,  2.,  5.,  6.,  7.],\n",
              "       [ 3.,  4.,  8.,  9., 10.]])"
            ]
          },
          "execution_count": 14,
          "metadata": {},
          "output_type": "execute_result"
        }
      ],
      "source": [
        "# Example 1 - working (change this)\n",
        "arr1 = [[1, 2], \n",
        "        [3, 4.]]\n",
        "\n",
        "arr2 = [[5, 6, 7], \n",
        "        [8, 9, 10]]\n",
        "\n",
        "np.concatenate((arr1, arr2), axis=1)"
      ]
    },
    {
      "cell_type": "markdown",
      "metadata": {
        "id": "PqeFr2MKmSgP"
      },
      "source": [
        "Explanation about example"
      ]
    },
    {
      "cell_type": "code",
      "execution_count": null,
      "metadata": {
        "id": "7t-KaZebmSgP"
      },
      "outputs": [],
      "source": [
        "# Example 2 - working\n",
        "???"
      ]
    },
    {
      "cell_type": "markdown",
      "metadata": {
        "id": "_zg583s_mSgP"
      },
      "source": [
        "Explanation about example"
      ]
    },
    {
      "cell_type": "code",
      "execution_count": null,
      "metadata": {
        "id": "rD1zEGpJmSgQ",
        "outputId": "f515c6c4-33da-49ea-975e-43e248e68cd7"
      },
      "outputs": [
        {
          "ename": "ValueError",
          "evalue": "all the input array dimensions for the concatenation axis must match exactly, but along dimension 1, the array at index 0 has size 2 and the array at index 1 has size 3",
          "output_type": "error",
          "traceback": [
            "\u001b[0;31m---------------------------------------------------------------------------\u001b[0m",
            "\u001b[0;31mValueError\u001b[0m                                Traceback (most recent call last)",
            "\u001b[0;32m<ipython-input-15-3386a3db1c34>\u001b[0m in \u001b[0;36m<module>\u001b[0;34m\u001b[0m\n\u001b[1;32m      6\u001b[0m         [8, 9, 10]]\n\u001b[1;32m      7\u001b[0m \u001b[0;34m\u001b[0m\u001b[0m\n\u001b[0;32m----> 8\u001b[0;31m \u001b[0mnp\u001b[0m\u001b[0;34m.\u001b[0m\u001b[0mconcatenate\u001b[0m\u001b[0;34m(\u001b[0m\u001b[0;34m(\u001b[0m\u001b[0marr1\u001b[0m\u001b[0;34m,\u001b[0m \u001b[0marr2\u001b[0m\u001b[0;34m)\u001b[0m\u001b[0;34m,\u001b[0m \u001b[0maxis\u001b[0m\u001b[0;34m=\u001b[0m\u001b[0;36m0\u001b[0m\u001b[0;34m)\u001b[0m\u001b[0;34m\u001b[0m\u001b[0;34m\u001b[0m\u001b[0m\n\u001b[0m",
            "\u001b[0;32m<__array_function__ internals>\u001b[0m in \u001b[0;36mconcatenate\u001b[0;34m(*args, **kwargs)\u001b[0m\n",
            "\u001b[0;31mValueError\u001b[0m: all the input array dimensions for the concatenation axis must match exactly, but along dimension 1, the array at index 0 has size 2 and the array at index 1 has size 3"
          ]
        }
      ],
      "source": [
        "# Example 3 - breaking (to illustrate when it breaks)\n",
        "arr1 = [[1, 2], \n",
        "        [3, 4.]]\n",
        "\n",
        "arr2 = [[5, 6, 7], \n",
        "        [8, 9, 10]]\n",
        "\n",
        "np.concatenate((arr1, arr2), axis=0)"
      ]
    },
    {
      "cell_type": "markdown",
      "metadata": {
        "id": "oJunRfABmSgQ"
      },
      "source": [
        "Explanation about example (why it breaks and how to fix it)"
      ]
    },
    {
      "cell_type": "markdown",
      "metadata": {
        "id": "CdBF8zfLmSgQ"
      },
      "source": [
        "Some closing comments about when to use this function."
      ]
    },
    {
      "cell_type": "markdown",
      "metadata": {
        "id": "RuOEUFojmSgQ"
      },
      "source": [
        "## Function 2 - ???\n",
        "\n",
        "Add some explanations"
      ]
    },
    {
      "cell_type": "code",
      "execution_count": null,
      "metadata": {
        "id": "T0izoyU6mSgR"
      },
      "outputs": [],
      "source": [
        "# Example 1 - working\n",
        "???"
      ]
    },
    {
      "cell_type": "markdown",
      "metadata": {
        "id": "Exk5KY6MmSgR"
      },
      "source": [
        "Explanation about example"
      ]
    },
    {
      "cell_type": "code",
      "execution_count": null,
      "metadata": {
        "id": "7d5bv9R1mSgR"
      },
      "outputs": [],
      "source": [
        "# Example 2 - working\n",
        "???"
      ]
    },
    {
      "cell_type": "markdown",
      "metadata": {
        "id": "o0FiB6TEmSgR"
      },
      "source": [
        "Explanation about example"
      ]
    },
    {
      "cell_type": "code",
      "execution_count": null,
      "metadata": {
        "id": "G090yCzHmSgR"
      },
      "outputs": [],
      "source": [
        "# Example 3 - breaking (to illustrate when it breaks)\n",
        "???"
      ]
    },
    {
      "cell_type": "markdown",
      "metadata": {
        "id": "cgS5_slMmSgR"
      },
      "source": [
        "Explanation about example (why it breaks and how to fix it)"
      ]
    },
    {
      "cell_type": "markdown",
      "metadata": {
        "id": "O3qAT_thmSgR"
      },
      "source": [
        "Some closing comments about when to use this function."
      ]
    },
    {
      "cell_type": "markdown",
      "metadata": {
        "id": "rS4SjxTKmSgS"
      },
      "source": [
        "## Function 3 - ???\n",
        "\n",
        "Add some explanations"
      ]
    },
    {
      "cell_type": "code",
      "execution_count": null,
      "metadata": {
        "id": "TBnUhalemSgS"
      },
      "outputs": [],
      "source": [
        "# Example 1 - working\n",
        "???"
      ]
    },
    {
      "cell_type": "markdown",
      "metadata": {
        "id": "T_wS-7ZvmSgS"
      },
      "source": [
        "Explanation about example"
      ]
    },
    {
      "cell_type": "code",
      "execution_count": null,
      "metadata": {
        "id": "1sYbnRr0mSgS"
      },
      "outputs": [],
      "source": [
        "# Example 2 - working\n",
        "???"
      ]
    },
    {
      "cell_type": "markdown",
      "metadata": {
        "id": "MtDAvqCSmSgS"
      },
      "source": [
        "Explanation about example"
      ]
    },
    {
      "cell_type": "code",
      "execution_count": null,
      "metadata": {
        "id": "JBpiZb-5mSgS"
      },
      "outputs": [],
      "source": [
        "# Example 3 - breaking (to illustrate when it breaks)\n",
        "???"
      ]
    },
    {
      "cell_type": "markdown",
      "metadata": {
        "id": "ZA0jM8v_mSgS"
      },
      "source": [
        "Explanation about example (why it breaks and how to fix it)"
      ]
    },
    {
      "cell_type": "markdown",
      "metadata": {
        "id": "JKwcX8l2mSgS"
      },
      "source": [
        "Some closing comments about when to use this function."
      ]
    },
    {
      "cell_type": "markdown",
      "metadata": {
        "id": "L61wljCTmSgS"
      },
      "source": [
        "## Function 4 - ???\n",
        "\n",
        "Add some explanations"
      ]
    },
    {
      "cell_type": "code",
      "execution_count": null,
      "metadata": {
        "id": "6syyUy6omSgS"
      },
      "outputs": [],
      "source": [
        "# Example 1 - working\n",
        "???"
      ]
    },
    {
      "cell_type": "markdown",
      "metadata": {
        "id": "zabVpvHtmSgT"
      },
      "source": [
        "Explanation about example"
      ]
    },
    {
      "cell_type": "code",
      "execution_count": null,
      "metadata": {
        "id": "zn8hvYRrmSgT"
      },
      "outputs": [],
      "source": [
        "# Example 2 - working\n",
        "???"
      ]
    },
    {
      "cell_type": "markdown",
      "metadata": {
        "id": "D6kIcZs2mSgT"
      },
      "source": [
        "Explanation about example"
      ]
    },
    {
      "cell_type": "code",
      "execution_count": null,
      "metadata": {
        "id": "QKhbjvZEmSgT"
      },
      "outputs": [],
      "source": [
        "# Example 3 - breaking (to illustrate when it breaks)\n",
        "???"
      ]
    },
    {
      "cell_type": "markdown",
      "metadata": {
        "id": "S59kkJormSgT"
      },
      "source": [
        "Explanation about example (why it breaks and how to fix it)"
      ]
    },
    {
      "cell_type": "markdown",
      "metadata": {
        "id": "KMTmJUsQmSgT"
      },
      "source": [
        "Some closing comments about when to use this function."
      ]
    },
    {
      "cell_type": "markdown",
      "metadata": {
        "id": "HUV20o5UmSgT"
      },
      "source": [
        "## Function 5 - ???\n",
        "\n",
        "Add some explanations"
      ]
    },
    {
      "cell_type": "code",
      "execution_count": null,
      "metadata": {
        "id": "M4n_YxLsmSgT"
      },
      "outputs": [],
      "source": [
        "# Example 1 - working\n",
        "???"
      ]
    },
    {
      "cell_type": "markdown",
      "metadata": {
        "id": "v8xuHaO_mSgT"
      },
      "source": [
        "Explanation about example"
      ]
    },
    {
      "cell_type": "code",
      "execution_count": null,
      "metadata": {
        "id": "2ydr8yXgmSgT"
      },
      "outputs": [],
      "source": [
        "# Example 2 - working\n",
        "???"
      ]
    },
    {
      "cell_type": "markdown",
      "metadata": {
        "id": "sK_GAh4TmSgT"
      },
      "source": [
        "Explanation about example"
      ]
    },
    {
      "cell_type": "code",
      "execution_count": null,
      "metadata": {
        "id": "G7T28m8tmSgT"
      },
      "outputs": [],
      "source": [
        "# Example 3 - breaking (to illustrate when it breaks)\n",
        "???"
      ]
    },
    {
      "cell_type": "markdown",
      "metadata": {
        "id": "cayr2YC6mSgU"
      },
      "source": [
        "Explanation about example (why it breaks and how to fix it)"
      ]
    },
    {
      "cell_type": "markdown",
      "metadata": {
        "id": "0NJ-s-t8mSgU"
      },
      "source": [
        "Some closing comments about when to use this function."
      ]
    },
    {
      "cell_type": "markdown",
      "metadata": {
        "id": "xZrYymgtmSgU"
      },
      "source": [
        "## Conclusion\n",
        "\n",
        "Summarize what was covered in this notebook, and where to go next"
      ]
    },
    {
      "cell_type": "markdown",
      "metadata": {
        "id": "EZcJKSQYmSgU"
      },
      "source": [
        "## Reference Links\n",
        "Provide links to your references and other interesting articles about Numpy arrays:\n",
        "* Numpy official tutorial : https://numpy.org/doc/stable/user/quickstart.html\n",
        "* ..."
      ]
    },
    {
      "cell_type": "code",
      "execution_count": null,
      "metadata": {
        "id": "7GKqGOLQmSgU"
      },
      "outputs": [],
      "source": []
    }
  ],
  "metadata": {
    "language_info": {
      "codemirror_mode": {
        "name": "ipython",
        "version": 3
      },
      "file_extension": ".py",
      "mimetype": "text/x-python",
      "name": "python",
      "nbconvert_exporter": "python",
      "pygments_lexer": "ipython3",
      "version": "3.8.6"
    },
    "colab": {
      "provenance": [],
      "include_colab_link": true
    }
  },
  "nbformat": 4,
  "nbformat_minor": 0
}